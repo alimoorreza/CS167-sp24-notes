{
  "cells": [
    {
      "cell_type": "markdown",
      "metadata": {
        "id": "view-in-github",
        "colab_type": "text"
      },
      "source": [
        "<a href=\"https://colab.research.google.com/github/alimoorreza/CS167-sp24-notes/blob/main/Day19_Building_Modular_MLP_with_PyTorch.ipynb\" target=\"_parent\"><img src=\"https://colab.research.google.com/assets/colab-badge.svg\" alt=\"Open In Colab\"/></a>"
      ]
    },
    {
      "cell_type": "markdown",
      "metadata": {
        "id": "HHJrUI0I4uVJ"
      },
      "source": [
        "# CS167: Day19\n",
        "## Building Modular MLP using PyTorch\n",
        "\n",
        "#### CS167: Machine Learning, Spring 2024\n",
        "\n",
        "Thursday, April 11th, 2024\n",
        "\n",
        "📆 [Course Schedule](https://analytics.drake.edu/~reza/teaching/cs167_sp24/cs167_schedule.html) | 📜 [Syllabus](https://analytics.drake.edu/~reza/teaching/cs167_sp24/cs167_syllabus_sp24.pdf)\n",
        "\n"
      ]
    },
    {
      "cell_type": "code",
      "source": [
        "from google.colab import drive\n",
        "drive.mount('/content/drive')"
      ],
      "metadata": {
        "colab": {
          "base_uri": "https://localhost:8080/"
        },
        "id": "2uOuh6vYJpeR",
        "outputId": "b03afd5c-7044-4af3-d6c4-44aba7f4f513"
      },
      "execution_count": null,
      "outputs": [
        {
          "output_type": "stream",
          "name": "stdout",
          "text": [
            "Mounted at /content/drive\n"
          ]
        }
      ]
    },
    {
      "cell_type": "markdown",
      "source": [
        "## __Put the Model on Training Device (GPU or CPU)__\n",
        "We want to accelerate the training process using graphical processing unit (GPU). Fortunately, in Colab we can access for GPU. You need to enable it from _Runtime-->Change runtime type-->GPU or TPU_"
      ],
      "metadata": {
        "id": "OpvuEwrzrVe8"
      }
    },
    {
      "cell_type": "code",
      "source": [
        "# check to see if torch.cuda is available, otherwise it will use CPU\n",
        "import torch\n",
        "import torch.nn as nn\n",
        "import numpy as np\n",
        "device = (\n",
        "    \"cuda\"\n",
        "    if torch.cuda.is_available()\n",
        "    else \"cpu\"\n",
        ")\n",
        "print(f\"Using {device} device\")\n"
      ],
      "metadata": {
        "colab": {
          "base_uri": "https://localhost:8080/"
        },
        "id": "jFa7eTujrik7",
        "outputId": "d384b816-1a87-424c-98d4-f6a3f7603fbc"
      },
      "execution_count": 1,
      "outputs": [
        {
          "output_type": "stream",
          "name": "stdout",
          "text": [
            "Using cuda device\n"
          ]
        }
      ]
    },
    {
      "cell_type": "markdown",
      "source": [
        "#__Building Modular Code for Multilayer Perceptron (MLP)__\n",
        "\n",
        "<div>\n",
        "<img src=\"https://analytics.drake.edu/~reza/teaching/cs167_sp24/notes/images/mlp_network1.png\" width=800/>\n",
        "</div>\n",
        "\n",
        "A multilayer perceptron is the simplest type of neural network. It consists of perceptrons (aka nodes, neurons) arranged in layers.\n",
        "Create a network class with two methods:\n",
        "- _init()_\n",
        "- _forward()_\n"
      ],
      "metadata": {
        "id": "q4pTsgDsTEiw"
      }
    },
    {
      "cell_type": "code",
      "source": [
        "import torch\n",
        "from torch import nn\n",
        "\n",
        "# You can give any name to your new network, e.g., SimpleMLP.\n",
        "# However, you have to mandatorily inherit from nn.Module to\n",
        "# create your own network class. That way, you can access a lot of\n",
        "# useful methods and attributes from the parent class nn.Module\n",
        "\n",
        "class SimpleMLP(nn.Module):\n",
        "  def __init__(self):\n",
        "    super().__init__()\n",
        "    # your network layer construction should take place here\n",
        "    # ...\n",
        "    # ...\n",
        "\n",
        "  def forward(self, x):\n",
        "    # your code for MLP forward pass should take place here\n",
        "    # ...\n",
        "    # ...\n",
        "    return x"
      ],
      "metadata": {
        "id": "9DxGu6AUTW10"
      },
      "execution_count": null,
      "outputs": []
    },
    {
      "cell_type": "markdown",
      "source": [
        "Let's create the MLP as shown in the picture above using this template. In general, we will follow this template for constructing other neural networks such as CNN, RNN, and Transformer in PyTorch. Hence, it is a very generic setup. Here are the useful PyTorch modules we will be using for MLP construction:\n",
        "- [nn.Linear()](https://pytorch.org/docs/stable/generated/torch.nn.Linear.html#torch.nn.Linear)\n",
        "  - creates the dense connections (corresponding to the weigts of edges) between two adjacent layers (_left layer_ and _right layer_)\n",
        "  - just provide __#neurons_left_layer__ and __#neurons_right_layer__\n",
        "- [nn.Sigmoid()](https://pytorch.org/docs/stable/generated/torch.nn.Sigmoid.html#sigmoid)\n",
        "- [nn.ReLU()](https://pytorch.org/docs/stable/generated/torch.nn.ReLU.html#relu)\n",
        "- [nn.Softmax()](https://pytorch.org/docs/stable/generated/torch.nn.Softmax.html#softmax)"
      ],
      "metadata": {
        "id": "ww0jFonlZh4U"
      }
    },
    {
      "cell_type": "code",
      "source": [
        "import torch\n",
        "from torch import nn\n",
        "import pdb\n",
        "\n",
        "class SimpleMLPv1(nn.Module):\n",
        "  def __init__(self):\n",
        "    super().__init__()\n",
        "    # your network layer construction should take place here\n",
        "\n",
        "    num_of_neurons_input_layer      = 784\n",
        "    num_of_neurons_1st_hidden_layer = 256\n",
        "    num_of_neurons_output_layer     = 10 # usually this number should be equal to the total number of classes in your classification task\n",
        "\n",
        "    self.first_hidden_layer         = nn.Linear(num_of_neurons_input_layer, num_of_neurons_1st_hidden_layer)  # linear transformation module (input=784, output=256)\n",
        "    self.relu_activation_h1         = nn.ReLU()\n",
        "    self.output_layer               = nn.Linear(num_of_neurons_1st_hidden_layer, num_of_neurons_output_layer) # linear transformation module (input=256, output=10)\n",
        "\n",
        "\n",
        "  def forward(self, x):\n",
        "    # your code for MLP forward pass should take place here\n",
        "    output = self.first_hidden_layer(x)\n",
        "    output = self.relu_activation_h1(output)\n",
        "    print('1st-hidden layer feature map shape: ', output.shape)\n",
        "    output = self.output_layer(output)\n",
        "    print('Output layer feature map shape: ', output.shape)\n",
        "    #output = self.softmax_activation(output)\n",
        "\n",
        "    return output\n"
      ],
      "metadata": {
        "id": "QT4lcLVQaUNn"
      },
      "execution_count": null,
      "outputs": []
    },
    {
      "cell_type": "code",
      "source": [
        "import torch\n",
        "from torch import nn\n",
        "import pdb\n",
        "\n",
        "class SimpleMLPv2(nn.Module):\n",
        "  def __init__(self):\n",
        "    super().__init__()\n",
        "    # your network layer construction should take place here\n",
        "\n",
        "    num_of_neurons_input_layer      = 784\n",
        "    num_of_neurons_1st_hidden_layer = 512\n",
        "    num_of_neurons_2nd_hidden_layer = 256\n",
        "    num_of_neurons_output_layer     = 10 # usually this number should be equal to the total number of classes in your classification task\n",
        "\n",
        "    self.first_hidden_layer         = nn.Linear(num_of_neurons_input_layer, num_of_neurons_1st_hidden_layer)  # linear transformation module (input=784, output=512)\n",
        "    self.relu_activation_h1         = nn.ReLU()\n",
        "    self.second_hidden_layer        = nn.Linear(num_of_neurons_1st_hidden_layer, num_of_neurons_2nd_hidden_layer)  # linear transformation module (input=512, output=256)\n",
        "    self.relu_activation_h2         = nn.ReLU()\n",
        "    self.output_layer               = nn.Linear(num_of_neurons_2nd_hidden_layer, num_of_neurons_output_layer) # linear transformation module (input=256, output=10)\n",
        "\n",
        "\n",
        "  def forward(self, x):\n",
        "    # your code for MLP forward pass should take place here\n",
        "    output = self.first_hidden_layer(x)\n",
        "    output = self.relu_activation_h1(output)\n",
        "    print('1nd-hidden layer feature map shape: ', output.shape)\n",
        "    output = self.second_hidden_layer(output)\n",
        "    output = self.relu_activation_h2(output)\n",
        "    print('2nd-hidden layer feature map shape: ', output.shape)\n",
        "    output = self.output_layer(output)\n",
        "    print('Output layer feature map shape: ', output.shape)\n",
        "    #output = self.softmax_activation(output)\n",
        "\n",
        "    return output\n"
      ],
      "metadata": {
        "id": "HNuxDcIFYjY6"
      },
      "execution_count": 13,
      "outputs": []
    },
    {
      "cell_type": "code",
      "source": [
        "# check the structure of your MLP\n",
        "mlp_model = SimpleMLPv2()\n",
        "print(mlp_model)"
      ],
      "metadata": {
        "colab": {
          "base_uri": "https://localhost:8080/"
        },
        "id": "ZlwRblRgmVlv",
        "outputId": "c0a879fb-13c8-4066-bc50-5d215027ae00"
      },
      "execution_count": 14,
      "outputs": [
        {
          "output_type": "stream",
          "name": "stdout",
          "text": [
            "SimpleMLPv2(\n",
            "  (first_hidden_layer): Linear(in_features=784, out_features=512, bias=True)\n",
            "  (relu_activation_h1): ReLU()\n",
            "  (second_hidden_layer): Linear(in_features=512, out_features=256, bias=True)\n",
            "  (relu_activation_h2): ReLU()\n",
            "  (output_layer): Linear(in_features=256, out_features=10, bias=True)\n",
            ")\n"
          ]
        }
      ]
    },
    {
      "cell_type": "code",
      "source": [
        "# check the sizes of weights and biases of your MLP's 1st hidden layers\n",
        "print('size of weights of first_hidden_layer: \\n ', mlp_model.first_hidden_layer.weight.shape)\n",
        "print('size of bias of first_hidden_layer: \\n ', mlp_model.first_hidden_layer.bias.shape)"
      ],
      "metadata": {
        "colab": {
          "base_uri": "https://localhost:8080/"
        },
        "id": "5q0AlCh4vcDh",
        "outputId": "c7cb77f9-0c57-408a-a807-f516c13b314e"
      },
      "execution_count": 15,
      "outputs": [
        {
          "output_type": "stream",
          "name": "stdout",
          "text": [
            "size of weights of first_hidden_layer: \n",
            "  torch.Size([512, 784])\n",
            "size of bias of first_hidden_layer: \n",
            "  torch.Size([512])\n"
          ]
        }
      ]
    },
    {
      "cell_type": "code",
      "source": [
        "# check the randomly initialized values of weights and biases of your MLP's 1st hidden layers\n",
        "print('weights of first_hidden_layer: \\n ', mlp_model.first_hidden_layer.weight)\n",
        "print('bias of first_hidden_layer: \\n ', mlp_model.first_hidden_layer.bias)"
      ],
      "metadata": {
        "id": "8-WYre5Fu5qZ"
      },
      "execution_count": null,
      "outputs": []
    },
    {
      "cell_type": "code",
      "source": [
        "# check the sizes of weights and biases of your MLP's 2nd hidden layer\n",
        "print('size of weights of second_hidden_layer: \\n ', mlp_model.second_hidden_layer.weight.shape)\n",
        "print('size of bias of second_hidden_layer: \\n ', mlp_model.second_hidden_layer.bias.shape)"
      ],
      "metadata": {
        "colab": {
          "base_uri": "https://localhost:8080/"
        },
        "id": "eNDQja9Zv6To",
        "outputId": "bb32edc3-5c3c-4eb5-8d4a-e3b89702b42b"
      },
      "execution_count": 17,
      "outputs": [
        {
          "output_type": "stream",
          "name": "stdout",
          "text": [
            "size of weights of second_hidden_layer: \n",
            "  torch.Size([256, 512])\n",
            "size of bias of second_hidden_layer: \n",
            "  torch.Size([256])\n"
          ]
        }
      ]
    },
    {
      "cell_type": "code",
      "source": [
        "print(f\"{mlp_model}\")"
      ],
      "metadata": {
        "colab": {
          "base_uri": "https://localhost:8080/"
        },
        "id": "FjNqZvq9gl2Q",
        "outputId": "5d68eb6a-ef67-41df-ea97-e98c7c8dfdb2"
      },
      "execution_count": 39,
      "outputs": [
        {
          "output_type": "stream",
          "name": "stdout",
          "text": [
            "SimpleMLPv2(\n",
            "  (first_hidden_layer): Linear(in_features=784, out_features=512, bias=True)\n",
            "  (relu_activation_h1): ReLU()\n",
            "  (second_hidden_layer): Linear(in_features=512, out_features=256, bias=True)\n",
            "  (relu_activation_h2): ReLU()\n",
            "  (output_layer): Linear(in_features=256, out_features=10, bias=True)\n",
            ")\n"
          ]
        }
      ]
    },
    {
      "cell_type": "markdown",
      "source": [
        "#__Load the Dataset for your MLP__"
      ],
      "metadata": {
        "id": "2yy5gwTelaGL"
      }
    },
    {
      "cell_type": "markdown",
      "source": [
        "We can easily import some [built-in datasets](https://pytorch.org/vision/stable/datasets.html) from PyTorch's [torchvision.datasets](torchvision.datasets) module\n",
        "- [Fashion-MNIST](https://github.com/zalandoresearch/fashion-mnist)\n",
        "  - each image size: 28x28 grayscale image\n",
        "  - each image is associated with a label from __10 classes__\n",
        "  - training set of 60,000 examples and a test set of 10,000 examples\n",
        "\n",
        "<div>\n",
        "<img src=\"https://analytics.drake.edu/~reza/teaching/cs167_sp24/notes/images/fashion-mnist-sprite.png\" width=500/>\n",
        "</div>\n"
      ],
      "metadata": {
        "id": "was3XRLnzI45"
      }
    },
    {
      "cell_type": "code",
      "source": [
        "from google.colab import drive\n",
        "drive.mount('/content/drive')"
      ],
      "metadata": {
        "colab": {
          "base_uri": "https://localhost:8080/"
        },
        "id": "K5JadE0WHaCA",
        "outputId": "77956d98-5c41-4d4c-9edb-ffa1fd8324fa"
      },
      "execution_count": 2,
      "outputs": [
        {
          "output_type": "stream",
          "name": "stdout",
          "text": [
            "Mounted at /content/drive\n"
          ]
        }
      ]
    },
    {
      "cell_type": "code",
      "source": [
        "import torch\n",
        "from torch.utils.data import Dataset\n",
        "from torchvision import datasets # torchvision has many deep learning benchmark datasets Fashion-MNIST, CIFAR-10, Caltech-50, etc\n",
        "from torchvision.transforms import ToTensor\n",
        "import matplotlib.pyplot as plt\n",
        "\n",
        "\n",
        "training_data = datasets.FashionMNIST(\n",
        "    root=\"/content/drive/MyDrive/cs167_sp24/datasets\",\n",
        "    train=True,\n",
        "    download=True,\n",
        "    transform=ToTensor() # specify the feature and label transformations\n",
        ")\n",
        "\n",
        "test_data = datasets.FashionMNIST(\n",
        "    root=\"/content/drive/MyDrive/cs167_sp24/datasets\",\n",
        "    train=False,\n",
        "    download=True,\n",
        "    transform=ToTensor()\n",
        ")\n"
      ],
      "metadata": {
        "id": "ngXlX8e1xbE1"
      },
      "execution_count": 3,
      "outputs": []
    },
    {
      "cell_type": "markdown",
      "source": [
        "__Explore some sample training images__"
      ],
      "metadata": {
        "id": "D4X_HhpDJbis"
      }
    },
    {
      "cell_type": "code",
      "source": [
        "labels_map = {\n",
        "    0: \"T-Shirt\",\n",
        "    1: \"Trouser\",\n",
        "    2: \"Pullover\",\n",
        "    3: \"Dress\",\n",
        "    4: \"Coat\",\n",
        "    5: \"Sandal\",\n",
        "    6: \"Shirt\",\n",
        "    7: \"Sneaker\",\n",
        "    8: \"Bag\",\n",
        "    9: \"Ankle Boot\",\n",
        "}\n",
        "#image, label = training_data[10000]\n",
        "#image, label = training_data[20000]\n",
        "image, label = training_data[50000] # training samples are saved in pairs/tuples of (image, label)\n",
        "print('sample image size: ', image.shape)\n",
        "print('label of the sample image: ', labels_map[label])"
      ],
      "metadata": {
        "colab": {
          "base_uri": "https://localhost:8080/"
        },
        "id": "ZJ9bx4xgJg6c",
        "outputId": "2a712180-4c06-4d69-e06a-0f9a82dc169f"
      },
      "execution_count": 4,
      "outputs": [
        {
          "output_type": "stream",
          "name": "stdout",
          "text": [
            "sample image size:  torch.Size([1, 28, 28])\n",
            "label of the sample image:  Ankle Boot\n"
          ]
        }
      ]
    },
    {
      "cell_type": "code",
      "source": [
        "# Visualize a random set of images and their the labels from the training split\n",
        "# The following labels represent 10 classes, each with specific indices as defined by the creator of the Fashion-MNIST dataset\n",
        "# reference: https://github.com/zalandoresearch/fashion-mnist#labels\n",
        "torch.manual_seed(1)\n",
        "labels_map = {\n",
        "    0: \"T-Shirt\",\n",
        "    1: \"Trouser\",\n",
        "    2: \"Pullover\",\n",
        "    3: \"Dress\",\n",
        "    4: \"Coat\",\n",
        "    5: \"Sandal\",\n",
        "    6: \"Shirt\",\n",
        "    7: \"Sneaker\",\n",
        "    8: \"Bag\",\n",
        "    9: \"Ankle Boot\",\n",
        "}\n",
        "figure = plt.figure(figsize=(5, 5))\n",
        "cols, rows = 5, 2\n",
        "for i in range(1, cols * rows + 1):\n",
        "    sample_idx = torch.randint(len(training_data), size=(1,)).item()\n",
        "    img, label = training_data[sample_idx]\n",
        "    figure.add_subplot(rows, cols, i)\n",
        "    plt.title(labels_map[label])\n",
        "    plt.axis(\"off\")\n",
        "    #print('image tensor size:', img.shape)\n",
        "    plt.imshow(img.squeeze(), cmap=\"gray\") # .squeeze() method removes the '1' from first dimension of the tensor [1, 28, 28]\n",
        "    #print('after removing the first dimension with ', img.squeeze().shape)\n",
        "plt.show()"
      ],
      "metadata": {
        "colab": {
          "base_uri": "https://localhost:8080/",
          "height": 336
        },
        "id": "wWlgSqhLJCHX",
        "outputId": "51919312-599b-45f3-e7de-c71216a6a65f"
      },
      "execution_count": 8,
      "outputs": [
        {
          "output_type": "display_data",
          "data": {
            "text/plain": [
              "<Figure size 500x500 with 10 Axes>"
            ],
            "image/png": "[encoded data removed]"
          },
          "metadata": {}
        }
      ]
    },
    {
      "cell_type": "markdown",
      "source": [
        "##__Prepare Your Data with DataLoader for Training/Testing__\n",
        "We just explored one sample of data at a time. As we have seen in our discussion of the optimizer, specifically __Stochastic Gradient Descent (SGD)__, during training your network, we may need to pass them in __minibatches__. PyTorch has a module called __DataLoader__, which will do this automatically for us as long as we provide the right arguments:\n",
        "- prepare the __minibatches__ with the given _batch_size_ eg 16, 32, 64, 128, etc\n",
        "- multiprocessing to speed up the data retrieval\n",
        "- reshuffle the data at every __epoch__\n"
      ],
      "metadata": {
        "id": "C2ZArXcKLLUs"
      }
    },
    {
      "cell_type": "code",
      "source": [
        "from torch.utils.data import DataLoader\n",
        "#                              pairs of items,   minibatch size,      random shuffling turned ON\n",
        "train_dataloader = DataLoader(training_data,     batch_size=128,        shuffle=True)\n",
        "test_dataloader  = DataLoader(test_data,         batch_size=128,        shuffle=False) # for testing/inference: it is not necessary to shuffle\n"
      ],
      "metadata": {
        "id": "2_Ygg2YOMtUW"
      },
      "execution_count": 9,
      "outputs": []
    },
    {
      "cell_type": "code",
      "source": [
        "# explore the data from the train_dataloader\n",
        "train_inputs, train_labels = next(iter(train_dataloader)) # returns a batch of 128 train-images and train-labels\n",
        "print(f\"Images batch shape: {train_inputs.shape}\")\n",
        "print(f\"Labels batch shape: {train_labels.shape}\")\n",
        "\n",
        "# visualize one of the samples in this batch of 128\n",
        "figure = plt.figure(figsize=(2, 2))\n",
        "img = train_inputs[127].squeeze() # I picked 127 but you can pick any index in between 0 to batch_size=128\n",
        "label = train_labels[127]         # It's a tensor datatype\n",
        "plt.title(labels_map[int(label)]) # For indexing, convert the 'tensor' datatype --> integer number datatype\n",
        "plt.imshow(img, cmap=\"gray\")\n",
        "plt.show()\n",
        "print(f\"Label: {label}\")"
      ],
      "metadata": {
        "colab": {
          "base_uri": "https://localhost:8080/",
          "height": 293
        },
        "id": "Vgo6d23KS__O",
        "outputId": "6b1fe6e2-4264-4acd-c0f0-931ffbe81d7c"
      },
      "execution_count": 12,
      "outputs": [
        {
          "output_type": "stream",
          "name": "stdout",
          "text": [
            "Images batch shape: torch.Size([128, 1, 28, 28])\n",
            "Labels batch shape: torch.Size([128])\n"
          ]
        },
        {
          "output_type": "display_data",
          "data": {
            "text/plain": [
              "<Figure size 200x200 with 1 Axes>"
            ],
            "image/png": "[encoded data removed]"
          },
          "metadata": {}
        },
        {
          "output_type": "stream",
          "name": "stdout",
          "text": [
            "Label: 0\n"
          ]
        }
      ]
    },
    {
      "cell_type": "markdown",
      "source": [
        "#__Forward Pass using your Dataset and your MLP__\n",
        "Test a forward pass of our MLP using one of the training samples. You need to convert a matrix of numbers into a contiguous vector using the following PyTorch module:\n",
        "- [nn.flatten()](https://pytorch.org/docs/stable/generated/torch.nn.Flatten.html)\n",
        "\n",
        "The forward method inside our network class, __SimpleMLPv2__, will be invoked if we provide an input tensor __'X'__ to the network object we instantiated earlier, i.e., __mlp_model__, as follows:\n",
        "- _output = mlp_model(X)_\n",
        "\n",
        "Finally, we convert the ouput from the model into probabilities using __Softmax()__ module:\n",
        "- _pred_probab = softmax_activation(output)_\n",
        "\n"
      ],
      "metadata": {
        "id": "HGToEDVFl9rQ"
      }
    },
    {
      "cell_type": "code",
      "source": [
        "img   = train_inputs[100] # I picked the sample at the 100-th but you can pick any index in between 0 to batch_size=128\n",
        "label = train_labels[100]\n",
        "\n",
        "softmax_activation = nn.Softmax(dim=0)\n",
        "\n",
        "X           = img.flatten()\n",
        "print('shape of X: ', X.shape)\n",
        "\n",
        "# data and model should be placed to the same device (GPU or CPU)\n",
        "X           = X.to(device)                # sending the data tensor to GPU (if available)\n",
        "mlp_model.to(device)                      # sending the model to GPU (if available) print(f\"device {device} and model: \\n {mlp_model}\")\n",
        "output      = mlp_model(X)                # last layer of our network will return 10 values each will range in between in [-infty, infty]\n",
        "pred_probab = softmax_activation(output)  # these raw numbers scaled to values [0, 1] representing the model’s predicted probabilities for each class\n",
        "\n",
        "\n",
        "print('predited probability \\n', pred_probab)\n",
        "y_pred      = pred_probab.argmax()\n",
        "print(f\"Predicted class: {y_pred}\")\n"
      ],
      "metadata": {
        "colab": {
          "base_uri": "https://localhost:8080/"
        },
        "id": "7OQed_nsazcw",
        "outputId": "7683f1a0-9814-49a6-a397-69868f5c233f"
      },
      "execution_count": 41,
      "outputs": [
        {
          "output_type": "stream",
          "name": "stdout",
          "text": [
            "shape of X:  torch.Size([784])\n",
            "1nd-hidden layer feature map shape:  torch.Size([512])\n",
            "2nd-hidden layer feature map shape:  torch.Size([256])\n",
            "Output layer feature map shape:  torch.Size([10])\n",
            "predited probability \n",
            " tensor([0.0889, 0.0932, 0.0941, 0.1064, 0.1017, 0.0904, 0.0991, 0.1154, 0.1038,\n",
            "        0.1069], device='cuda:0', grad_fn=<SoftmaxBackward0>)\n",
            "Predicted class: 7\n"
          ]
        }
      ]
    },
    {
      "cell_type": "code",
      "source": [
        "# model parameter counts to find out how many parameter this model will learn from the data\n",
        "for name, param in mlp_model.named_parameters():\n",
        "    print(f\"Layer: {name} | Size: {param.size()} \\n\")\n"
      ],
      "metadata": {
        "colab": {
          "base_uri": "https://localhost:8080/"
        },
        "id": "XCqis2b5kU8A",
        "outputId": "2ff0d228-7a2a-4d51-d000-ee27c412f4a2"
      },
      "execution_count": 42,
      "outputs": [
        {
          "output_type": "stream",
          "name": "stdout",
          "text": [
            "Layer: first_hidden_layer.weight | Size: torch.Size([512, 784]) \n",
            "\n",
            "Layer: first_hidden_layer.bias | Size: torch.Size([512]) \n",
            "\n",
            "Layer: second_hidden_layer.weight | Size: torch.Size([256, 512]) \n",
            "\n",
            "Layer: second_hidden_layer.bias | Size: torch.Size([256]) \n",
            "\n",
            "Layer: output_layer.weight | Size: torch.Size([10, 256]) \n",
            "\n",
            "Layer: output_layer.bias | Size: torch.Size([10]) \n",
            "\n"
          ]
        }
      ]
    },
    {
      "cell_type": "markdown",
      "source": [
        "##__Defining Loss function__\n",
        "\n",
        "- [nn.CrossEntropyLoss()](https://pytorch.org/docs/stable/generated/torch.nn.CrossEntropyLoss.html#torch.nn.CrossEntropyLoss)\n",
        "  - useful when training a __classification problem__ with __C__ classes.\n",
        "  - criterion computes the cross entropy loss between input logits and target\n",
        "- [nn.MSELoss()](https://pytorch.org/docs/stable/generated/torch.nn.MSELoss.html#torch.nn.MSELoss)\n",
        "  - useful when training a __regression problem__\n",
        "  - criterion that measures the mean squared error (squared L2 norm) between each element in the input _x_ and target _y_\n"
      ],
      "metadata": {
        "id": "f1gTfGDJm-2Z"
      }
    },
    {
      "cell_type": "code",
      "source": [
        "# initialize the loss function\n",
        "loss_fn = nn.CrossEntropyLoss() # this is useful for multiclass classification task"
      ],
      "metadata": {
        "id": "OK1bAAANnLMz"
      },
      "execution_count": 43,
      "outputs": []
    },
    {
      "cell_type": "markdown",
      "source": [
        "##__Initializing the Optimizer__\n",
        "\n",
        "Optimiztaion, as we have discussed earlier, is process of adjusting model parameters to reduce model error in each training step. PyTorch provides a selection of optimization algorithms in the [torch.optim](https://pytorch.org/docs/stable/optim.html) package. Some of them are as follows:\n",
        "- [torch.optim.SGD](https://pytorch.org/docs/stable/generated/torch.optim.SGD.html#torch.optim.SGD)\n",
        "- [torch.optim..Adam](https://pytorch.org/docs/stable/generated/torch.optim.Adam.html#torch.optim.Adam)\n",
        "- [torch.optim.RMSprop](https://pytorch.org/docs/stable/generated/torch.optim.RMSprop.html#torch.optim.RMSprop)\n",
        "\n",
        "In addition to selecting the optimizer, we can also select the hyperparameters which are refered to as adjustable parameters crucial for controlling the model optimization process. You can influence the training and convergence of the model by tweaking these hyperparameters:\n",
        "- __epochs:__ denotes the number of iterations over the dataset\n",
        "- __batch size:__ represents the quantity of data samples in each iteration propagated through the network before updating the parameters\n",
        "- __learning rate:__ determines the extent of parameter updates made at each batch/epoch\n",
        "\n"
      ],
      "metadata": {
        "id": "J6Mwh6U1mGev"
      }
    },
    {
      "cell_type": "code",
      "source": [
        "learning_rate = 1e-3\n",
        "batch_size    = 128\n",
        "epochs        = 10\n",
        "# let's use SGD optimization algorithm for training our model\n",
        "optimizer     = torch.optim.SGD(mlp_model.parameters(), lr=learning_rate)"
      ],
      "metadata": {
        "id": "11-Lj-avlzFo"
      },
      "execution_count": null,
      "outputs": []
    },
    {
      "cell_type": "markdown",
      "source": [
        "__Let's Simplify Our Networks with PyTorch's Sequential() Module__"
      ],
      "metadata": {
        "id": "pIDHTABd4wU1"
      }
    },
    {
      "cell_type": "code",
      "source": [
        "import torch\n",
        "from torch import nn\n",
        "import pdb\n",
        "\n",
        "class SimpleMLPv1(nn.Module):\n",
        "  def __init__(self):\n",
        "    super().__init__()\n",
        "    # your network layer construction should take place here\n",
        "\n",
        "    num_of_neurons_input_layer      = 784\n",
        "    num_of_neurons_1st_hidden_layer = 256\n",
        "    num_of_neurons_output_layer     = 10 # usually this number should be equal to the total number of classes in your classification task\n",
        "\n",
        "    self.flatten = nn.Flatten()\n",
        "    self.linear_layers = nn.Sequential(\n",
        "            nn.Linear(num_of_neurons_input_layer, num_of_neurons_1st_hidden_layer),  # linear transformation module (input=784, output=256)\n",
        "            nn.ReLU(),\n",
        "            nn.Linear(num_of_neurons_1st_hidden_layer, num_of_neurons_1st_hidden_layer),  # linear transformation module (input=512, output=256)\n",
        "            nn.ReLU(),\n",
        "            nn.Linear(num_of_neurons_1st_hidden_layer, num_of_neurons_output_layer) # linear transformation module (input=256, output=10)\n",
        "        )\n",
        "\n",
        "  def forward(self, x):\n",
        "    # your code for MLP forward pass should take place here\n",
        "    output = self.flatten(x)\n",
        "    output = self.linear_layers(output)\n",
        "    return output\n",
        "\n",
        "mlp_modelv1 = SimpleMLPv1()"
      ],
      "metadata": {
        "id": "EM6MC2gr4FA5"
      },
      "execution_count": 44,
      "outputs": []
    },
    {
      "cell_type": "code",
      "source": [
        "class SimpleMLPv2(nn.Module):\n",
        "  def __init__(self):\n",
        "    super().__init__()\n",
        "    # your network layer construction should take place here\n",
        "\n",
        "    num_of_neurons_input_layer      = 784\n",
        "    num_of_neurons_1st_hidden_layer = 512\n",
        "    num_of_neurons_2nd_hidden_layer = 256\n",
        "    num_of_neurons_output_layer     = 10 # usually this number should be equal to the total number of classes in your classification task\n",
        "\n",
        "    self.flatten = nn.Flatten()\n",
        "    self.linear_layers = nn.Sequential(\n",
        "            nn.Linear(num_of_neurons_input_layer, num_of_neurons_1st_hidden_layer),       # linear transformation module (input=28*28, output=512)\n",
        "            nn.ReLU(),\n",
        "            nn.Linear(num_of_neurons_1st_hidden_layer, num_of_neurons_2nd_hidden_layer),  # linear transformation module (input=512, output=256)\n",
        "            nn.ReLU(),\n",
        "            nn.Linear(num_of_neurons_2nd_hidden_layer, num_of_neurons_output_layer)       # linear transformation module (input=256, output=10)\n",
        "        )\n",
        "\n",
        "  def forward(self, x):\n",
        "    # your code for MLP forward pass should take place here\n",
        "    output = self.flatten(x)\n",
        "    output = self.linear_layers(output)\n",
        "    return output\n",
        "\n",
        "mlp_modelv2 = SimpleMLPv2()"
      ],
      "metadata": {
        "id": "wVX1rUrGw2za"
      },
      "execution_count": 45,
      "outputs": []
    },
    {
      "cell_type": "markdown",
      "source": [
        "#__Putting Everything Together MLP__"
      ],
      "metadata": {
        "id": "Z7yBVqvGmQM1"
      }
    },
    {
      "cell_type": "markdown",
      "source": [
        "__Putting Everything Together using our SimpleMLPv2 Network on Fashion-MNIST Dataset__\n"
      ],
      "metadata": {
        "id": "Xn0KYm8r1i1i"
      }
    },
    {
      "cell_type": "code",
      "source": [
        "# Step 1: load the Torch library and other utilities\n",
        "#----------------------------------------------------\n",
        "\n",
        "import torch\n",
        "from torch import nn\n",
        "from torch.utils.data import DataLoader\n",
        "from torchvision import datasets\n",
        "from torchvision.transforms import ToTensor\n",
        "import time\n",
        "\n",
        "# Step 2: load the dataset, ie, we are experimenting with Fashion-MNIST\n",
        "#--------------------------------------------------------------------------------------------------\n",
        "\n",
        "training_data = datasets.FashionMNIST(\n",
        "    root=\"/content/drive/MyDrive/cs167_sp24/datasets\",\n",
        "    train=True,\n",
        "    download=True,\n",
        "    transform=ToTensor() # specify the feature and label transformations\n",
        ")\n",
        "\n",
        "test_data = datasets.FashionMNIST(\n",
        "    root=\"/content/drive/MyDrive/cs167_sp24/datasets\",\n",
        "    train=False,\n",
        "    download=True,\n",
        "    transform=ToTensor()\n",
        ")\n",
        "\n",
        "# Step 3: Create your MLP Network (call it SimpleMLPv3) with 3 hidden layers\n",
        "#--------------------------------------------------------------------------------------------------\n",
        "\n",
        "class SimpleMLPv2(nn.Module):\n",
        "  def __init__(self):\n",
        "    super().__init__()\n",
        "    # your network layer construction should take place here\n",
        "\n",
        "    num_of_neurons_input_layer      = 784\n",
        "    num_of_neurons_1st_hidden_layer = 512\n",
        "    num_of_neurons_2nd_hidden_layer = 256\n",
        "    num_of_neurons_output_layer     = 10 # usually this number should be equal to the total number of classes in your classification task\n",
        "\n",
        "    self.flatten = nn.Flatten()\n",
        "    self.linear_layers = nn.Sequential(\n",
        "            nn.Linear(num_of_neurons_input_layer, num_of_neurons_1st_hidden_layer),       # linear transformation module (input=28*28, output=512)\n",
        "            nn.ReLU(),\n",
        "            nn.Linear(num_of_neurons_1st_hidden_layer, num_of_neurons_2nd_hidden_layer),  # linear transformation module (input=512, output=256)\n",
        "            nn.ReLU(),\n",
        "            nn.Linear(num_of_neurons_2nd_hidden_layer, num_of_neurons_output_layer)       # linear transformation module (input=256, output=10)\n",
        "        )\n",
        "\n",
        "  def forward(self, x):\n",
        "    # your code for MLP forward pass should take place here\n",
        "    output = self.flatten(x)\n",
        "    output = self.linear_layers(output)\n",
        "    return output\n",
        "\n",
        "\n",
        "# Step 4: Your training and testing functions (you can copy it from the previous demo)\n",
        "#--------------------------------------------------------------------------------------\n",
        "\n",
        "\n",
        "def train_loop(dataloader, model, loss_fn, optimizer):\n",
        "\n",
        "    size = len(dataloader.dataset)\n",
        "\n",
        "    model.train()                   # set the model to training mode for best practices\n",
        "\n",
        "    train_loss = 0\n",
        "\n",
        "    for batch, (X, y) in enumerate(dataloader):\n",
        "\n",
        "        # compute prediction and loss\n",
        "        X = X.to(device)                  # send data to the GPU device (if available)\n",
        "        y = y.to(device)\n",
        "        pred = model(X)\n",
        "        loss = loss_fn(pred, y)\n",
        "\n",
        "        # Backpropagation\n",
        "        loss.backward()\n",
        "        optimizer.step()\n",
        "        optimizer.zero_grad()\n",
        "\n",
        "        train_loss += loss.item()\n",
        "\n",
        "        if batch % 100 == 0:\n",
        "            loss, current = loss.item(), (batch + 1) * len(X)\n",
        "            print(f\"loss: {loss:>7f}  [{current:>5d}/{size:>5d}]\")\n",
        "\n",
        "    return train_loss/len(dataloader)\n",
        "\n",
        "def test_loop(dataloader, model, loss_fn):\n",
        "\n",
        "    model.eval()                    # set the model to evaluation mode for best practices\n",
        "\n",
        "    size        = len(dataloader.dataset)\n",
        "    num_batches = len(dataloader)\n",
        "    test_loss, correct = 0, 0\n",
        "\n",
        "    # Evaluating the model with torch.no_grad() ensures that no gradients are computed during test mode\n",
        "    # also serves to reduce unnecessary gradient computations and memory usage for tensors with requires_grad=True\n",
        "    with torch.no_grad():\n",
        "        for X, y in dataloader:\n",
        "\n",
        "            X = X.to(device)                     # send data to the GPU device (if available)\n",
        "            y = y.to(device)\n",
        "            pred = model(X)\n",
        "            test_loss += loss_fn(pred, y).item()\n",
        "            correct += (pred.argmax(1) == y).type(torch.float).sum().item()\n",
        "\n",
        "    test_loss /= num_batches\n",
        "    correct /= size\n",
        "    print(f\"Test Error: \\n Accuracy: {(100*correct):>0.1f}%, Avg loss: {test_loss:>8f} \\n\")\n",
        "    return test_loss\n",
        "\n",
        "# Step 5: prepare the DataLoader and select your optimizer and set the hyper-parameters for learning the model from DataLoader\n",
        "#------------------------------------------------------------------------------------------------------------------------------\n",
        "\n",
        "mlp_modelv2 = SimpleMLPv2()\n",
        "mlp_modelv2.to(device)\n",
        "learning_rate = 1e-3\n",
        "batch_size_val = 64\n",
        "epochs = 10\n",
        "loss_fn = nn.CrossEntropyLoss()\n",
        "optimizer = torch.optim.SGD(mlp_modelv2.parameters(), lr=learning_rate)\n",
        "\n",
        "train_dataloader = DataLoader(training_data, batch_size=batch_size_val)\n",
        "test_dataloader = DataLoader(test_data, batch_size=batch_size_val)\n",
        "\n",
        "\n",
        "train_losses = []\n",
        "test_losses  = []\n",
        "start_time   = time.time()\n",
        "for t in range(epochs):\n",
        "    print(f\"Epoch {t+1}\\n-------------------------------\")\n",
        "    avg_train_loss = train_loop(train_dataloader, mlp_modelv2, loss_fn, optimizer)\n",
        "    avg_test_loss  = test_loop(test_dataloader, mlp_modelv2, loss_fn)\n",
        "    train_losses.append(avg_train_loss)\n",
        "    test_losses.append(avg_test_loss)\n",
        "\n",
        "print(\"Total fine-tuning time: %.3f sec\" %( (time.time()-start_time)) )\n",
        "print(\"Total fine-tuning time: %.3f hrs\" %( (time.time()-start_time)/3600) )\n",
        "\n",
        "print(\"SimpleMLPv2 model has been trained!\")\n"
      ],
      "metadata": {
        "colab": {
          "base_uri": "https://localhost:8080/"
        },
        "id": "TE6r3j-71vjK",
        "outputId": "92e59ccf-c8af-4b7e-c7b3-c256d468125f"
      },
      "execution_count": 51,
      "outputs": [
        {
          "output_type": "stream",
          "name": "stdout",
          "text": [
            "Epoch 1\n",
            "-------------------------------\n",
            "loss: 2.317959  [   64/60000]\n",
            "loss: 2.287868  [ 6464/60000]\n",
            "loss: 2.270595  [12864/60000]\n",
            "loss: 2.257179  [19264/60000]\n",
            "loss: 2.232983  [25664/60000]\n",
            "loss: 2.226871  [32064/60000]\n",
            "loss: 2.221505  [38464/60000]\n",
            "loss: 2.202882  [44864/60000]\n",
            "loss: 2.198575  [51264/60000]\n",
            "loss: 2.154838  [57664/60000]\n",
            "Test Error: \n",
            " Accuracy: 44.3%, Avg loss: 2.154101 \n",
            "\n",
            "Epoch 2\n",
            "-------------------------------\n",
            "loss: 2.178008  [   64/60000]\n",
            "loss: 2.156311  [ 6464/60000]\n",
            "loss: 2.102654  [12864/60000]\n",
            "loss: 2.107691  [19264/60000]\n",
            "loss: 2.043958  [25664/60000]\n",
            "loss: 2.010467  [32064/60000]\n",
            "loss: 2.017137  [38464/60000]\n",
            "loss: 1.954492  [44864/60000]\n",
            "loss: 1.963863  [51264/60000]\n",
            "loss: 1.876715  [57664/60000]\n",
            "Test Error: \n",
            " Accuracy: 49.5%, Avg loss: 1.884322 \n",
            "\n",
            "Epoch 3\n",
            "-------------------------------\n",
            "loss: 1.929843  [   64/60000]\n",
            "loss: 1.893260  [ 6464/60000]\n",
            "loss: 1.786422  [12864/60000]\n",
            "loss: 1.814702  [19264/60000]\n",
            "loss: 1.687591  [25664/60000]\n",
            "loss: 1.665298  [32064/60000]\n",
            "loss: 1.670280  [38464/60000]\n",
            "loss: 1.585663  [44864/60000]\n",
            "loss: 1.616032  [51264/60000]\n",
            "loss: 1.505462  [57664/60000]\n",
            "Test Error: \n",
            " Accuracy: 57.6%, Avg loss: 1.526471 \n",
            "\n",
            "Epoch 4\n",
            "-------------------------------\n",
            "loss: 1.603352  [   64/60000]\n",
            "loss: 1.562192  [ 6464/60000]\n",
            "loss: 1.422693  [12864/60000]\n",
            "loss: 1.479478  [19264/60000]\n",
            "loss: 1.350340  [25664/60000]\n",
            "loss: 1.363789  [32064/60000]\n",
            "loss: 1.365243  [38464/60000]\n",
            "loss: 1.299763  [44864/60000]\n",
            "loss: 1.335981  [51264/60000]\n",
            "loss: 1.237586  [57664/60000]\n",
            "Test Error: \n",
            " Accuracy: 62.5%, Avg loss: 1.261873 \n",
            "\n",
            "Epoch 5\n",
            "-------------------------------\n",
            "loss: 1.348025  [   64/60000]\n",
            "loss: 1.323265  [ 6464/60000]\n",
            "loss: 1.164983  [12864/60000]\n",
            "loss: 1.256002  [19264/60000]\n",
            "loss: 1.126279  [25664/60000]\n",
            "loss: 1.160192  [32064/60000]\n",
            "loss: 1.173959  [38464/60000]\n",
            "loss: 1.118165  [44864/60000]\n",
            "loss: 1.156816  [51264/60000]\n",
            "loss: 1.076583  [57664/60000]\n",
            "Test Error: \n",
            " Accuracy: 64.5%, Avg loss: 1.095059 \n",
            "\n",
            "Epoch 6\n",
            "-------------------------------\n",
            "loss: 1.173534  [   64/60000]\n",
            "loss: 1.169931  [ 6464/60000]\n",
            "loss: 0.994344  [12864/60000]\n",
            "loss: 1.116500  [19264/60000]\n",
            "loss: 0.984495  [25664/60000]\n",
            "loss: 1.022455  [32064/60000]\n",
            "loss: 1.054140  [38464/60000]\n",
            "loss: 1.001706  [44864/60000]\n",
            "loss: 1.039516  [51264/60000]\n",
            "loss: 0.975173  [57664/60000]\n",
            "Test Error: \n",
            " Accuracy: 65.5%, Avg loss: 0.987280 \n",
            "\n",
            "Epoch 7\n",
            "-------------------------------\n",
            "loss: 1.052112  [   64/60000]\n",
            "loss: 1.070142  [ 6464/60000]\n",
            "loss: 0.877876  [12864/60000]\n",
            "loss: 1.024491  [19264/60000]\n",
            "loss: 0.893514  [25664/60000]\n",
            "loss: 0.925874  [32064/60000]\n",
            "loss: 0.975625  [38464/60000]\n",
            "loss: 0.926013  [44864/60000]\n",
            "loss: 0.958825  [51264/60000]\n",
            "loss: 0.907441  [57664/60000]\n",
            "Test Error: \n",
            " Accuracy: 66.6%, Avg loss: 0.914185 \n",
            "\n",
            "Epoch 8\n",
            "-------------------------------\n",
            "loss: 0.963977  [   64/60000]\n",
            "loss: 1.001007  [ 6464/60000]\n",
            "loss: 0.794989  [12864/60000]\n",
            "loss: 0.959809  [19264/60000]\n",
            "loss: 0.832399  [25664/60000]\n",
            "loss: 0.855706  [32064/60000]\n",
            "loss: 0.920719  [38464/60000]\n",
            "loss: 0.875340  [44864/60000]\n",
            "loss: 0.901174  [51264/60000]\n",
            "loss: 0.859231  [57664/60000]\n",
            "Test Error: \n",
            " Accuracy: 67.5%, Avg loss: 0.862087 \n",
            "\n",
            "Epoch 9\n",
            "-------------------------------\n",
            "loss: 0.897530  [   64/60000]\n",
            "loss: 0.949944  [ 6464/60000]\n",
            "loss: 0.733608  [12864/60000]\n",
            "loss: 0.912340  [19264/60000]\n",
            "loss: 0.788763  [25664/60000]\n",
            "loss: 0.803573  [32064/60000]\n",
            "loss: 0.879593  [38464/60000]\n",
            "loss: 0.840370  [44864/60000]\n",
            "loss: 0.859089  [51264/60000]\n",
            "loss: 0.822671  [57664/60000]\n",
            "Test Error: \n",
            " Accuracy: 68.7%, Avg loss: 0.823121 \n",
            "\n",
            "Epoch 10\n",
            "-------------------------------\n",
            "loss: 0.845340  [   64/60000]\n",
            "loss: 0.909731  [ 6464/60000]\n",
            "loss: 0.686213  [12864/60000]\n",
            "loss: 0.875896  [19264/60000]\n",
            "loss: 0.755714  [25664/60000]\n",
            "loss: 0.763711  [32064/60000]\n",
            "loss: 0.846830  [38464/60000]\n",
            "loss: 0.814528  [44864/60000]\n",
            "loss: 0.827029  [51264/60000]\n",
            "loss: 0.793766  [57664/60000]\n",
            "Test Error: \n",
            " Accuracy: 69.8%, Avg loss: 0.792489 \n",
            "\n",
            "Total fine-tuning time: 94.732 sec\n",
            "Total fine-tuning time: 0.026 hrs\n",
            "SimpleMLPv2 model has been trained!\n"
          ]
        }
      ]
    },
    {
      "cell_type": "code",
      "source": [
        "# visualizing the loss curves\n",
        "plt.plot(range(1,epochs+1), train_losses)\n",
        "plt.plot(range(1,epochs+1), test_losses)\n",
        "plt.title('Model average losses after each epoch')\n",
        "plt.ylabel('loss')\n",
        "plt.xlabel('epoch')\n",
        "plt.legend(['train', 'test'])\n",
        "plt.show()"
      ],
      "metadata": {
        "colab": {
          "base_uri": "https://localhost:8080/",
          "height": 472
        },
        "id": "msFTwSYwEwge",
        "outputId": "39e60060-2238-4075-b69b-7b5242552b54"
      },
      "execution_count": 52,
      "outputs": [
        {
          "output_type": "display_data",
          "data": {
            "text/plain": [
              "<Figure size 640x480 with 1 Axes>"
            ],
            "image/png": "[encoded data removed]"
          },
          "metadata": {}
        }
      ]
    },
    {
      "cell_type": "code",
      "source": [
        "print(train_losses)\n",
        "print(test_losses)\n"
      ],
      "metadata": {
        "colab": {
          "base_uri": "https://localhost:8080/"
        },
        "id": "7y22SkYPFmnK",
        "outputId": "8b79cffd-8186-4c03-f7a3-de747c49e394"
      },
      "execution_count": 50,
      "outputs": [
        {
          "output_type": "stream",
          "name": "stdout",
          "text": [
            "[2.249869819897324, 2.078473625152604, 1.7703681225969847, 1.4417538604756663, 1.210175551394664, 1.0609987050866776, 0.9620296563039711, 0.8926493811454854, 0.8414020740401262, 0.8019417113840961]\n",
            "[2.18355271618837, 1.9481458777834655, 1.5957716900831576, 1.3146629082928798, 1.1321676851837499, 1.0142072397432509, 0.934068221954783, 0.8764376890887121, 0.8329892473615659, 0.7989250038080155]\n"
          ]
        }
      ]
    },
    {
      "cell_type": "markdown",
      "source": [
        "#__Group Exercise__:\n",
        "Create another MLP with 3 hidden layers and then train that model on the Fashion-MNIST dataset using the SGD optimizer with a batch size of 64. If time permits, you can also train another MLP with the ADAM optimizer and observe if there is any change in training."
      ],
      "metadata": {
        "id": "p9MmCZ0--f9D"
      }
    },
    {
      "cell_type": "code",
      "source": [
        "# Step 1: load the Torch library and other utilities\n",
        "#----------------------------------------------------\n"
      ],
      "metadata": {
        "id": "SVonqhsEQXl3"
      },
      "execution_count": null,
      "outputs": []
    },
    {
      "cell_type": "code",
      "source": [
        "# Step 2: load the dataset, ie, we are experimenting with Fashion-MNIST\n",
        "#--------------------------------------------------------------------------------------------------\n"
      ],
      "metadata": {
        "id": "kqJB4hncQdXm"
      },
      "execution_count": null,
      "outputs": []
    },
    {
      "cell_type": "code",
      "source": [
        "# Step 3: Create your MLP Network (call it SimpleMLPv3) with 3 hidden layers\n",
        "#--------------------------------------------------------------------------------------------------\n",
        "# You should have the following structure in your MLP\n",
        "#   num_of_neurons_input_layer      = 784\n",
        "#   num_of_neurons_1st_hidden_layer = 512\n",
        "#   num_of_neurons_2nd_hidden_layer = 256\n",
        "#   num_of_neurons_3rd_hidden_layer = 128\n",
        "#   num_of_neurons_output_layer     = 10\n",
        "# You should use ReLU activation function in each hidden layer"
      ],
      "metadata": {
        "id": "NEzPNtrrQfeP"
      },
      "execution_count": null,
      "outputs": []
    },
    {
      "cell_type": "code",
      "source": [
        "# Step 4: Your training and testing functions (I copied it previous the previous demo. You don't need to change anything)\n",
        "#--------------------------------------------------------------------------------------\n",
        "\n",
        "def train_loop(dataloader, model, loss_fn, optimizer):\n",
        "\n",
        "    size = len(dataloader.dataset)\n",
        "\n",
        "    model.train()                   # set the model to training mode for best practices\n",
        "\n",
        "    train_loss = 0\n",
        "\n",
        "    for batch, (X, y) in enumerate(dataloader):\n",
        "\n",
        "        # compute prediction and loss\n",
        "        X = X.to(device)                  # send data to the GPU device (if available)\n",
        "        y = y.to(device)\n",
        "        pred = model(X)\n",
        "        loss = loss_fn(pred, y)\n",
        "\n",
        "        # Backpropagation\n",
        "        loss.backward()\n",
        "        optimizer.step()\n",
        "        optimizer.zero_grad()\n",
        "\n",
        "        train_loss += loss.item()\n",
        "\n",
        "        if batch % 100 == 0:\n",
        "            loss, current = loss.item(), (batch + 1) * len(X)\n",
        "            print(f\"loss: {loss:>7f}  [{current:>5d}/{size:>5d}]\")\n",
        "\n",
        "    return train_loss/len(dataloader)\n",
        "\n",
        "def test_loop(dataloader, model, loss_fn):\n",
        "\n",
        "    model.eval()                    # set the model to evaluation mode for best practices\n",
        "\n",
        "    size        = len(dataloader.dataset)\n",
        "    num_batches = len(dataloader)\n",
        "    test_loss, correct = 0, 0\n",
        "\n",
        "    # Evaluating the model with torch.no_grad() ensures that no gradients are computed during test mode\n",
        "    # also serves to reduce unnecessary gradient computations and memory usage for tensors with requires_grad=True\n",
        "    with torch.no_grad():\n",
        "        for X, y in dataloader:\n",
        "\n",
        "            X = X.to(device)                     # send data to the GPU device (if available)\n",
        "            y = y.to(device)\n",
        "            pred = model(X)\n",
        "            test_loss += loss_fn(pred, y).item()\n",
        "            correct += (pred.argmax(1) == y).type(torch.float).sum().item()\n",
        "\n",
        "    test_loss /= num_batches\n",
        "    correct /= size\n",
        "    print(f\"Test Error: \\n Accuracy: {(100*correct):>0.1f}%, Avg loss: {test_loss:>8f} \\n\")\n",
        "    return test_loss\n"
      ],
      "metadata": {
        "id": "Yw6a5TByQklU"
      },
      "execution_count": null,
      "outputs": []
    },
    {
      "cell_type": "code",
      "source": [
        "# Step 5: prepare the DataLoader and select your optimizer and set the hyper-parameters for learning the model from DataLoader\n",
        "#------------------------------------------------------------------------------------------------------------------------------\n",
        "# Initialize your hyper-parameter and optimizer with appropriate values\n",
        "# Use your dataset to prepare your DataLoaders one for training_data and one for test_data\n",
        "# ...\n",
        "# ...\n",
        "\n",
        "print(\"SimpleMLPv3 model has been trained!\")\n"
      ],
      "metadata": {
        "id": "tejagPCKQztY"
      },
      "execution_count": null,
      "outputs": []
    },
    {
      "cell_type": "code",
      "source": [
        "# visualizing the loss curves\n"
      ],
      "metadata": {
        "id": "_0hoLrbIRQtk"
      },
      "execution_count": null,
      "outputs": []
    }
  ],
  "metadata": {
    "celltoolbar": "Slideshow",
    "kernelspec": {
      "display_name": "Python 3",
      "name": "python3"
    },
    "language_info": {
      "codemirror_mode": {
        "name": "ipython",
        "version": 3
      },
      "file_extension": ".py",
      "mimetype": "text/x-python",
      "name": "python",
      "nbconvert_exporter": "python",
      "pygments_lexer": "ipython3",
      "version": "3.8.3"
    },
    "colab": {
      "provenance": [],
      "gpuType": "T4",
      "include_colab_link": true
    },
    "accelerator": "GPU"
  },
  "nbformat": 4,
  "nbformat_minor": 0
}