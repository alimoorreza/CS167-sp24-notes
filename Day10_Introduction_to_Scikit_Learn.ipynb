{
  "cells": [
    {
      "cell_type": "markdown",
      "metadata": {
        "id": "view-in-github",
        "colab_type": "text"
      },
      "source": [
        "<a href=\"https://colab.research.google.com/github/alimoorreza/CS167-sp24-notes/blob/main/Day10_Introduction_to_Scikit_Learn.ipynb\" target=\"_parent\"><img src=\"https://colab.research.google.com/assets/colab-badge.svg\" alt=\"Open In Colab\"/></a>"
      ]
    },
    {
      "cell_type": "markdown",
      "metadata": {
        "id": "8xXeNpa4rP4j"
      },
      "source": [
        "# CS167: Day10\n",
        "## Introduction to Scikit Learn\n",
        "\n",
        "#### CS167: Machine Learning, Spring 2024\n",
        "\n",
        "Tuesday, March 4th, Spring 2024\n",
        "\n",
        "📆 [Course Schedule](https://analytics.drake.edu/~reza/teaching/cs167_sp24/cs167_schedule.html) | 📜 [Syllabus](https://analytics.drake.edu/~reza/teaching/cs167_sp24/cs167_syllabus_sp24.pdf)"
      ]
    },
    {
      "cell_type": "markdown",
      "metadata": {
        "id": "yM__di-irP4m"
      },
      "source": [
        "# Admin Stuff\n",
        "\n",
        "You should be working on:\n",
        "- [Notebook #4:](https://github.com/alimoorreza/CS167-SP24-Notebook-4)\n",
        "    - Intro to Scikit Learn\n",
        "    - **Due**: Friday, 03/15/24 by 11:59pm (you have 10 days)"
      ]
    },
    {
      "cell_type": "markdown",
      "metadata": {
        "id": "stHyqEWjrP4s"
      },
      "source": [
        "# Introduction to Scikit Learn:\n",
        "\n",
        "`scikit-learn` is one of Python's main Machine Learning Libraries.\n",
        "\n",
        "_\"It is an open source machine learning library that supports supervised and unsupervised learning. It also provides various tools for model fitting, data preprocessing, model selection, model evaluation, and many other utilities.\"_\n",
        "\n",
        "- built on `NumPy`, `SciPy`, and `matplotlib`\n",
        "- plays nicely with `pandas`\n",
        "- https://scikit-learn.org/stable/"
      ]
    },
    {
      "cell_type": "markdown",
      "metadata": {
        "id": "R-f-6WiorP4s"
      },
      "source": [
        "# Overview of the Scikit Learn 'Algorithm':\n",
        "\n",
        "When working in Scikit Learn (`sklearn`), there is a general pattern that we can follow to implement any supported machine learning algorithm.\n",
        "\n",
        "It goes like this:\n",
        "1. Load your data using `pd.read_csv()`\n",
        "2. Split your data `train_test_split()`\n",
        "3. Create your classifier/regressor object\n",
        "4. Call `fit()` to train your model\n",
        "5. Call `predict()` to get predictions\n",
        "6. Call a metric function to measure the performance of your model."
      ]
    },
    {
      "cell_type": "markdown",
      "metadata": {
        "id": "FZZL4fyUrP4s"
      },
      "source": [
        "## All together, it looks something like this:"
      ]
    },
    {
      "cell_type": "code",
      "execution_count": 3,
      "metadata": {
        "id": "yqoZXYrLrP4s",
        "colab": {
          "base_uri": "https://localhost:8080/"
        },
        "outputId": "3250056a-2680-410b-afe3-c9c5f125bdb3"
      },
      "outputs": [
        {
          "output_type": "stream",
          "name": "stdout",
          "text": [
            "Drive already mounted at /content/drive; to attempt to forcibly remount, call drive.mount(\"/content/drive\", force_remount=True).\n"
          ]
        }
      ],
      "source": [
        "# Mount your drive\n",
        "from google.colab import drive\n",
        "drive.mount('/content/drive')"
      ]
    },
    {
      "cell_type": "code",
      "execution_count": 7,
      "metadata": {
        "id": "qRagFfbVrP4s",
        "outputId": "0c82f56b-5d01-40ea-ce5c-b8ac2d60360d",
        "colab": {
          "base_uri": "https://localhost:8080/"
        }
      },
      "outputs": [
        {
          "output_type": "stream",
          "name": "stdout",
          "text": [
            "Accuracy: 0.9\n",
            "--------------------------------------------------------------\n",
            "ACTUAL               PREDICTIONS         \n",
            "Iris-virginica       Iris-versicolor     \n",
            "Iris-virginica       Iris-virginica      \n",
            "Iris-virginica       Iris-virginica      \n",
            "Iris-versicolor      Iris-versicolor     \n",
            "Iris-virginica       Iris-virginica      \n",
            "Iris-versicolor      Iris-versicolor     \n",
            "Iris-virginica       Iris-virginica      \n",
            "Iris-versicolor      Iris-versicolor     \n",
            "Iris-virginica       Iris-virginica      \n",
            "Iris-virginica       Iris-virginica      \n",
            "Iris-virginica       Iris-virginica      \n",
            "Iris-setosa          Iris-setosa         \n",
            "Iris-setosa          Iris-setosa         \n",
            "Iris-versicolor      Iris-versicolor     \n",
            "Iris-setosa          Iris-setosa         \n",
            "Iris-virginica       Iris-versicolor     \n",
            "Iris-setosa          Iris-setosa         \n",
            "Iris-versicolor      Iris-virginica      \n",
            "Iris-setosa          Iris-setosa         \n",
            "Iris-setosa          Iris-setosa         \n",
            "Iris-versicolor      Iris-versicolor     \n",
            "Iris-virginica       Iris-virginica      \n",
            "Iris-setosa          Iris-setosa         \n",
            "Iris-setosa          Iris-setosa         \n",
            "Iris-versicolor      Iris-versicolor     \n",
            "Iris-versicolor      Iris-versicolor     \n",
            "Iris-versicolor      Iris-versicolor     \n",
            "Iris-versicolor      Iris-versicolor     \n",
            "Iris-setosa          Iris-setosa         \n",
            "Iris-versicolor      Iris-versicolor     \n",
            "--------------------------------------------------------------\n",
            "                 Iris-setosa  Iris-versicolor  Iris-virginica\n",
            "Iris-setosa                9                0               0\n",
            "Iris-versicolor            0               10               1\n",
            "Iris-virginica             0                2               8\n"
          ]
        }
      ],
      "source": [
        "#classic scikit-learn algorithm\n",
        "\n",
        "#0. import libraries\n",
        "import sklearn\n",
        "import pandas\n",
        "from sklearn import tree\n",
        "from sklearn.model_selection import train_test_split\n",
        "from sklearn import metrics\n",
        "from sklearn import neighbors\n",
        "\n",
        "#1. load data\n",
        "path = '/content/drive/MyDrive/cs167_sp24/datasets/irisData.csv'\n",
        "iris_data = pandas.read_csv(path)\n",
        "\n",
        "#2. split data\n",
        "predictors = ['sepal length', 'sepal width', 'petal length', 'petal width']\n",
        "target = \"species\"\n",
        "train_data, test_data, train_sln, test_sln = \\\n",
        "        train_test_split(iris_data[predictors], iris_data[target], test_size = 0.2, random_state=41)\n",
        "\n",
        "#3. Create classifier/regressor object (change these parameters for Exercise #1)\n",
        "dt = tree.DecisionTreeClassifier()\n",
        "\n",
        "#4. Call fit (to train the classification/regression model)\n",
        "dt.fit(train_data,train_sln)\n",
        "\n",
        "#5. Call predict to generate predictions\n",
        "iris_predictions = dt.predict(test_data)\n",
        "\n",
        "#6. Call a metric function to measure performance\n",
        "print(\"Accuracy:\", metrics.accuracy_score(test_sln,iris_predictions))\n",
        "\n",
        "\n",
        "# Show the acutal and predicted (this isn't necessary, but may help catch bugs)\n",
        "print(\"--------------------------------------------------------------\")\n",
        "print(f\"{'ACTUAL':<{20}} {'PREDICTIONS':<{20}}\")\n",
        "for i in range(len(test_sln)):\n",
        "    actual_sample     = test_sln.iloc[i]\n",
        "    predicted_sample  = iris_predictions[i]\n",
        "    print(f\"{actual_sample:<{20}} {predicted_sample:<{20}}\")\n",
        "\n",
        "print(\"--------------------------------------------------------------\")\n",
        "\n",
        "\n",
        "#print out a confusion matrix\n",
        "iris_labels= [\"Iris-setosa\", \"Iris-versicolor\",\"Iris-virginica\"]\n",
        "conf_mat = metrics.confusion_matrix(test_sln, iris_predictions, labels=iris_labels)\n",
        "print(pandas.DataFrame(conf_mat,index = iris_labels, columns = iris_labels))\n"
      ]
    },
    {
      "cell_type": "markdown",
      "metadata": {
        "id": "G5ea8H8ArP4t"
      },
      "source": [
        "# Now, let's go through step-by-step:"
      ]
    },
    {
      "cell_type": "markdown",
      "metadata": {
        "id": "kyDEqTjorP4t"
      },
      "source": [
        "## Step 1: Import libraries and load your data\n",
        "\n",
        "We should be pretty familiar with this one.\n",
        "- mount your drive\n",
        "- import any relevant libraires\n",
        "- use `pd.read_csv()` to load in your dataset"
      ]
    },
    {
      "cell_type": "code",
      "execution_count": 8,
      "metadata": {
        "id": "bC4WcWi9rP4t",
        "colab": {
          "base_uri": "https://localhost:8080/"
        },
        "outputId": "ccea39b8-631a-4adb-a413-0f8a2df46000"
      },
      "outputs": [
        {
          "output_type": "stream",
          "name": "stdout",
          "text": [
            "Drive already mounted at /content/drive; to attempt to forcibly remount, call drive.mount(\"/content/drive\", force_remount=True).\n"
          ]
        }
      ],
      "source": [
        "# Mount your drive\n",
        "from google.colab import drive\n",
        "drive.mount('/content/drive')"
      ]
    },
    {
      "cell_type": "code",
      "execution_count": 9,
      "metadata": {
        "id": "c0sgMLxhrP4u",
        "colab": {
          "base_uri": "https://localhost:8080/",
          "height": 206
        },
        "outputId": "888d5f41-ae2e-4e02-b1de-a05d01b18d0b"
      },
      "outputs": [
        {
          "output_type": "execute_result",
          "data": {
            "text/plain": [
              "   sepal length  sepal width  petal length  petal width      species\n",
              "0           5.1          3.5           1.4          0.2  Iris-setosa\n",
              "1           4.9          3.0           1.4          0.2  Iris-setosa\n",
              "2           4.7          3.2           1.3          0.2  Iris-setosa\n",
              "3           4.6          3.1           1.5          0.2  Iris-setosa\n",
              "4           5.0          3.6           1.4          0.2  Iris-setosa"
            ],
            "text/html": [
              "\n",
              "  <div id=\"df-965c6020-e9e6-4723-b72b-2dcc419eeeb2\" class=\"colab-df-container\">\n",
              "    <div>\n",
              "<style scoped>\n",
              "    .dataframe tbody tr th:only-of-type {\n",
              "        vertical-align: middle;\n",
              "    }\n",
              "\n",
              "    .dataframe tbody tr th {\n",
              "        vertical-align: top;\n",
              "    }\n",
              "\n",
              "    .dataframe thead th {\n",
              "        text-align: right;\n",
              "    }\n",
              "</style>\n",
              "<table border=\"1\" class=\"dataframe\">\n",
              "  <thead>\n",
              "    <tr style=\"text-align: right;\">\n",
              "      <th></th>\n",
              "      <th>sepal length</th>\n",
              "      <th>sepal width</th>\n",
              "      <th>petal length</th>\n",
              "      <th>petal width</th>\n",
              "      <th>species</th>\n",
              "    </tr>\n",
              "  </thead>\n",
              "  <tbody>\n",
              "    <tr>\n",
              "      <th>0</th>\n",
              "      <td>5.1</td>\n",
              "      <td>3.5</td>\n",
              "      <td>1.4</td>\n",
              "      <td>0.2</td>\n",
              "      <td>Iris-setosa</td>\n",
              "    </tr>\n",
              "    <tr>\n",
              "      <th>1</th>\n",
              "      <td>4.9</td>\n",
              "      <td>3.0</td>\n",
              "      <td>1.4</td>\n",
              "      <td>0.2</td>\n",
              "      <td>Iris-setosa</td>\n",
              "    </tr>\n",
              "    <tr>\n",
              "      <th>2</th>\n",
              "      <td>4.7</td>\n",
              "      <td>3.2</td>\n",
              "      <td>1.3</td>\n",
              "      <td>0.2</td>\n",
              "      <td>Iris-setosa</td>\n",
              "    </tr>\n",
              "    <tr>\n",
              "      <th>3</th>\n",
              "      <td>4.6</td>\n",
              "      <td>3.1</td>\n",
              "      <td>1.5</td>\n",
              "      <td>0.2</td>\n",
              "      <td>Iris-setosa</td>\n",
              "    </tr>\n",
              "    <tr>\n",
              "      <th>4</th>\n",
              "      <td>5.0</td>\n",
              "      <td>3.6</td>\n",
              "      <td>1.4</td>\n",
              "      <td>0.2</td>\n",
              "      <td>Iris-setosa</td>\n",
              "    </tr>\n",
              "  </tbody>\n",
              "</table>\n",
              "</div>\n",
              "    <div class=\"colab-df-buttons\">\n",
              "\n",
              "  <div class=\"colab-df-container\">\n",
              "    <button class=\"colab-df-convert\" onclick=\"convertToInteractive('df-965c6020-e9e6-4723-b72b-2dcc419eeeb2')\"\n",
              "            title=\"Convert this dataframe to an interactive table.\"\n",
              "            style=\"display:none;\">\n",
              "\n",
              "  <svg xmlns=\"http://www.w3.org/2000/svg\" height=\"24px\" viewBox=\"0 -960 960 960\">\n",
              "    <path d=\"M120-120v-720h720v720H120Zm60-500h600v-160H180v160Zm220 220h160v-160H400v160Zm0 220h160v-160H400v160ZM180-400h160v-160H180v160Zm440 0h160v-160H620v160ZM180-180h160v-160H180v160Zm440 0h160v-160H620v160Z\"/>\n",
              "  </svg>\n",
              "    </button>\n",
              "\n",
              "  <style>\n",
              "    .colab-df-container {\n",
              "      display:flex;\n",
              "      gap: 12px;\n",
              "    }\n",
              "\n",
              "    .colab-df-convert {\n",
              "      background-color: #E8F0FE;\n",
              "      border: none;\n",
              "      border-radius: 50%;\n",
              "      cursor: pointer;\n",
              "      display: none;\n",
              "      fill: #1967D2;\n",
              "      height: 32px;\n",
              "      padding: 0 0 0 0;\n",
              "      width: 32px;\n",
              "    }\n",
              "\n",
              "    .colab-df-convert:hover {\n",
              "      background-color: #E2EBFA;\n",
              "      box-shadow: 0px 1px 2px rgba(60, 64, 67, 0.3), 0px 1px 3px 1px rgba(60, 64, 67, 0.15);\n",
              "      fill: #174EA6;\n",
              "    }\n",
              "\n",
              "    .colab-df-buttons div {\n",
              "      margin-bottom: 4px;\n",
              "    }\n",
              "\n",
              "    [theme=dark] .colab-df-convert {\n",
              "      background-color: #3B4455;\n",
              "      fill: #D2E3FC;\n",
              "    }\n",
              "\n",
              "    [theme=dark] .colab-df-convert:hover {\n",
              "      background-color: #434B5C;\n",
              "      box-shadow: 0px 1px 3px 1px rgba(0, 0, 0, 0.15);\n",
              "      filter: drop-shadow(0px 1px 2px rgba(0, 0, 0, 0.3));\n",
              "      fill: #FFFFFF;\n",
              "    }\n",
              "  </style>\n",
              "\n",
              "    <script>\n",
              "      const buttonEl =\n",
              "        document.querySelector('#df-965c6020-e9e6-4723-b72b-2dcc419eeeb2 button.colab-df-convert');\n",
              "      buttonEl.style.display =\n",
              "        google.colab.kernel.accessAllowed ? 'block' : 'none';\n",
              "\n",
              "      async function convertToInteractive(key) {\n",
              "        const element = document.querySelector('#df-965c6020-e9e6-4723-b72b-2dcc419eeeb2');\n",
              "        const dataTable =\n",
              "          await google.colab.kernel.invokeFunction('convertToInteractive',\n",
              "                                                    [key], {});\n",
              "        if (!dataTable) return;\n",
              "\n",
              "        const docLinkHtml = 'Like what you see? Visit the ' +\n",
              "          '<a target=\"_blank\" href=https://colab.research.google.com/notebooks/data_table.ipynb>data table notebook</a>'\n",
              "          + ' to learn more about interactive tables.';\n",
              "        element.innerHTML = '';\n",
              "        dataTable['output_type'] = 'display_data';\n",
              "        await google.colab.output.renderOutput(dataTable, element);\n",
              "        const docLink = document.createElement('div');\n",
              "        docLink.innerHTML = docLinkHtml;\n",
              "        element.appendChild(docLink);\n",
              "      }\n",
              "    </script>\n",
              "  </div>\n",
              "\n",
              "\n",
              "<div id=\"df-ee43a7c3-949c-4709-aad7-5acf4a5ff305\">\n",
              "  <button class=\"colab-df-quickchart\" onclick=\"quickchart('df-ee43a7c3-949c-4709-aad7-5acf4a5ff305')\"\n",
              "            title=\"Suggest charts\"\n",
              "            style=\"display:none;\">\n",
              "\n",
              "<svg xmlns=\"http://www.w3.org/2000/svg\" height=\"24px\"viewBox=\"0 0 24 24\"\n",
              "     width=\"24px\">\n",
              "    <g>\n",
              "        <path d=\"M19 3H5c-1.1 0-2 .9-2 2v14c0 1.1.9 2 2 2h14c1.1 0 2-.9 2-2V5c0-1.1-.9-2-2-2zM9 17H7v-7h2v7zm4 0h-2V7h2v10zm4 0h-2v-4h2v4z\"/>\n",
              "    </g>\n",
              "</svg>\n",
              "  </button>\n",
              "\n",
              "<style>\n",
              "  .colab-df-quickchart {\n",
              "      --bg-color: #E8F0FE;\n",
              "      --fill-color: #1967D2;\n",
              "      --hover-bg-color: #E2EBFA;\n",
              "      --hover-fill-color: #174EA6;\n",
              "      --disabled-fill-color: #AAA;\n",
              "      --disabled-bg-color: #DDD;\n",
              "  }\n",
              "\n",
              "  [theme=dark] .colab-df-quickchart {\n",
              "      --bg-color: #3B4455;\n",
              "      --fill-color: #D2E3FC;\n",
              "      --hover-bg-color: #434B5C;\n",
              "      --hover-fill-color: #FFFFFF;\n",
              "      --disabled-bg-color: #3B4455;\n",
              "      --disabled-fill-color: #666;\n",
              "  }\n",
              "\n",
              "  .colab-df-quickchart {\n",
              "    background-color: var(--bg-color);\n",
              "    border: none;\n",
              "    border-radius: 50%;\n",
              "    cursor: pointer;\n",
              "    display: none;\n",
              "    fill: var(--fill-color);\n",
              "    height: 32px;\n",
              "    padding: 0;\n",
              "    width: 32px;\n",
              "  }\n",
              "\n",
              "  .colab-df-quickchart:hover {\n",
              "    background-color: var(--hover-bg-color);\n",
              "    box-shadow: 0 1px 2px rgba(60, 64, 67, 0.3), 0 1px 3px 1px rgba(60, 64, 67, 0.15);\n",
              "    fill: var(--button-hover-fill-color);\n",
              "  }\n",
              "\n",
              "  .colab-df-quickchart-complete:disabled,\n",
              "  .colab-df-quickchart-complete:disabled:hover {\n",
              "    background-color: var(--disabled-bg-color);\n",
              "    fill: var(--disabled-fill-color);\n",
              "    box-shadow: none;\n",
              "  }\n",
              "\n",
              "  .colab-df-spinner {\n",
              "    border: 2px solid var(--fill-color);\n",
              "    border-color: transparent;\n",
              "    border-bottom-color: var(--fill-color);\n",
              "    animation:\n",
              "      spin 1s steps(1) infinite;\n",
              "  }\n",
              "\n",
              "  @keyframes spin {\n",
              "    0% {\n",
              "      border-color: transparent;\n",
              "      border-bottom-color: var(--fill-color);\n",
              "      border-left-color: var(--fill-color);\n",
              "    }\n",
              "    20% {\n",
              "      border-color: transparent;\n",
              "      border-left-color: var(--fill-color);\n",
              "      border-top-color: var(--fill-color);\n",
              "    }\n",
              "    30% {\n",
              "      border-color: transparent;\n",
              "      border-left-color: var(--fill-color);\n",
              "      border-top-color: var(--fill-color);\n",
              "      border-right-color: var(--fill-color);\n",
              "    }\n",
              "    40% {\n",
              "      border-color: transparent;\n",
              "      border-right-color: var(--fill-color);\n",
              "      border-top-color: var(--fill-color);\n",
              "    }\n",
              "    60% {\n",
              "      border-color: transparent;\n",
              "      border-right-color: var(--fill-color);\n",
              "    }\n",
              "    80% {\n",
              "      border-color: transparent;\n",
              "      border-right-color: var(--fill-color);\n",
              "      border-bottom-color: var(--fill-color);\n",
              "    }\n",
              "    90% {\n",
              "      border-color: transparent;\n",
              "      border-bottom-color: var(--fill-color);\n",
              "    }\n",
              "  }\n",
              "</style>\n",
              "\n",
              "  <script>\n",
              "    async function quickchart(key) {\n",
              "      const quickchartButtonEl =\n",
              "        document.querySelector('#' + key + ' button');\n",
              "      quickchartButtonEl.disabled = true;  // To prevent multiple clicks.\n",
              "      quickchartButtonEl.classList.add('colab-df-spinner');\n",
              "      try {\n",
              "        const charts = await google.colab.kernel.invokeFunction(\n",
              "            'suggestCharts', [key], {});\n",
              "      } catch (error) {\n",
              "        console.error('Error during call to suggestCharts:', error);\n",
              "      }\n",
              "      quickchartButtonEl.classList.remove('colab-df-spinner');\n",
              "      quickchartButtonEl.classList.add('colab-df-quickchart-complete');\n",
              "    }\n",
              "    (() => {\n",
              "      let quickchartButtonEl =\n",
              "        document.querySelector('#df-ee43a7c3-949c-4709-aad7-5acf4a5ff305 button');\n",
              "      quickchartButtonEl.style.display =\n",
              "        google.colab.kernel.accessAllowed ? 'block' : 'none';\n",
              "    })();\n",
              "  </script>\n",
              "</div>\n",
              "    </div>\n",
              "  </div>\n"
            ],
            "application/vnd.google.colaboratory.intrinsic+json": {
              "type": "dataframe",
              "variable_name": "iris_data",
              "summary": "{\n  \"name\": \"iris_data\",\n  \"rows\": 150,\n  \"fields\": [\n    {\n      \"column\": \"sepal length\",\n      \"properties\": {\n        \"dtype\": \"number\",\n        \"std\": 0.828066127977863,\n        \"min\": 4.3,\n        \"max\": 7.9,\n        \"num_unique_values\": 35,\n        \"samples\": [\n          6.2,\n          4.5,\n          5.6\n        ],\n        \"semantic_type\": \"\",\n        \"description\": \"\"\n      }\n    },\n    {\n      \"column\": \"sepal width\",\n      \"properties\": {\n        \"dtype\": \"number\",\n        \"std\": 0.4335943113621737,\n        \"min\": 2.0,\n        \"max\": 4.4,\n        \"num_unique_values\": 23,\n        \"samples\": [\n          2.3,\n          4.0,\n          3.5\n        ],\n        \"semantic_type\": \"\",\n        \"description\": \"\"\n      }\n    },\n    {\n      \"column\": \"petal length\",\n      \"properties\": {\n        \"dtype\": \"number\",\n        \"std\": 1.7644204199522626,\n        \"min\": 1.0,\n        \"max\": 6.9,\n        \"num_unique_values\": 43,\n        \"samples\": [\n          6.7,\n          3.8,\n          3.7\n        ],\n        \"semantic_type\": \"\",\n        \"description\": \"\"\n      }\n    },\n    {\n      \"column\": \"petal width\",\n      \"properties\": {\n        \"dtype\": \"number\",\n        \"std\": 0.7631607417008411,\n        \"min\": 0.1,\n        \"max\": 2.5,\n        \"num_unique_values\": 22,\n        \"samples\": [\n          0.2,\n          1.2,\n          1.3\n        ],\n        \"semantic_type\": \"\",\n        \"description\": \"\"\n      }\n    },\n    {\n      \"column\": \"species\",\n      \"properties\": {\n        \"dtype\": \"category\",\n        \"num_unique_values\": 3,\n        \"samples\": [\n          \"Iris-setosa\",\n          \"Iris-versicolor\",\n          \"Iris-virginica\"\n        ],\n        \"semantic_type\": \"\",\n        \"description\": \"\"\n      }\n    }\n  ]\n}"
            }
          },
          "metadata": {},
          "execution_count": 9
        }
      ],
      "source": [
        "#0. import libraries\n",
        "import sklearn\n",
        "import pandas\n",
        "from sklearn import tree # importing the Decision Tree machine learning model\n",
        "from sklearn.model_selection import train_test_split\n",
        "from sklearn import metrics\n",
        "from sklearn import neighbors # importing the k-Nearest Neighbor machine learning model\n",
        "\n",
        "#1. load data\n",
        "path = '/content/drive/MyDrive/cs167_sp24/datasets/irisData.csv'\n",
        "iris_data = pandas.read_csv(path)\n",
        "iris_data.head()"
      ]
    },
    {
      "cell_type": "markdown",
      "metadata": {
        "id": "TcF8HmIUrP4u"
      },
      "source": [
        "## Step 2: Split Data\n",
        "\n",
        "Cross-Validation is an important step in machine learning which enables us to evaluate our models. To do this, we need to split our data into `train_data` and `test_data`.\n",
        "<div>\n",
        "<img src=\"https://analytics.drake.edu/~reza/teaching/cs167_sp24/notes/images/day04_cross_validation.png\" width=600/>\n",
        "</div>"
      ]
    },
    {
      "cell_type": "markdown",
      "metadata": {
        "id": "3pDnFTSYrP4u"
      },
      "source": [
        "Sklearn takes this a step futher and splits the data up into 4 pieces:\n",
        "\n",
        "<div>\n",
        "<img src=\"https://analytics.drake.edu/~reza/teaching/cs167_sp24/notes/images/day06_traintestsplit.png\" width=600/>\n",
        "</div>\n",
        "\n",
        "- `train_data`: holds the predictor variables of the training set\n",
        "- `train_sln`: holds the target variable of the training set\n",
        "- `test_data`: holds the predictor variables of the testing set\n",
        "- `test_sln`: holds the target varibles of the testing set"
      ]
    },
    {
      "cell_type": "markdown",
      "metadata": {
        "id": "rxrhdGt1rP4u"
      },
      "source": [
        "## Step 2: Splitting Data (the code)"
      ]
    },
    {
      "cell_type": "code",
      "execution_count": 14,
      "metadata": {
        "id": "7pewwct2rP4u"
      },
      "outputs": [],
      "source": [
        "#2. split data\n",
        "predictors = ['sepal length', 'sepal width','petal length', 'petal width']\n",
        "#predictors = data.columns.drop('species')\n",
        "target = \"species\"\n",
        "train_data, test_data, train_sln, test_sln = train_test_split(iris_data[predictors], iris_data[target], test_size = 0.2, random_state=41)"
      ]
    },
    {
      "cell_type": "code",
      "execution_count": 15,
      "metadata": {
        "id": "iLrlW921rP4u",
        "outputId": "6a67ab47-f105-4e6a-d3c8-793cb0893b73",
        "colab": {
          "base_uri": "https://localhost:8080/",
          "height": 280
        }
      },
      "outputs": [
        {
          "output_type": "stream",
          "name": "stdout",
          "text": [
            "train_data shape:  (120, 4)\n",
            "test_data shape:  (30, 4)\n",
            "train_sln shape:  (120,)\n",
            "test_sln shape:  (30,)\n"
          ]
        },
        {
          "output_type": "execute_result",
          "data": {
            "text/plain": [
              "     sepal length  sepal width  petal length  petal width\n",
              "79            5.7          2.6           3.5          1.0\n",
              "54            6.5          2.8           4.6          1.5\n",
              "106           4.9          2.5           4.5          1.7\n",
              "90            5.5          2.6           4.4          1.2\n",
              "145           6.7          3.0           5.2          2.3"
            ],
            "text/html": [
              "\n",
              "  <div id=\"df-b215c91d-53f2-45a4-b9eb-cb7960535219\" class=\"colab-df-container\">\n",
              "    <div>\n",
              "<style scoped>\n",
              "    .dataframe tbody tr th:only-of-type {\n",
              "        vertical-align: middle;\n",
              "    }\n",
              "\n",
              "    .dataframe tbody tr th {\n",
              "        vertical-align: top;\n",
              "    }\n",
              "\n",
              "    .dataframe thead th {\n",
              "        text-align: right;\n",
              "    }\n",
              "</style>\n",
              "<table border=\"1\" class=\"dataframe\">\n",
              "  <thead>\n",
              "    <tr style=\"text-align: right;\">\n",
              "      <th></th>\n",
              "      <th>sepal length</th>\n",
              "      <th>sepal width</th>\n",
              "      <th>petal length</th>\n",
              "      <th>petal width</th>\n",
              "    </tr>\n",
              "  </thead>\n",
              "  <tbody>\n",
              "    <tr>\n",
              "      <th>79</th>\n",
              "      <td>5.7</td>\n",
              "      <td>2.6</td>\n",
              "      <td>3.5</td>\n",
              "      <td>1.0</td>\n",
              "    </tr>\n",
              "    <tr>\n",
              "      <th>54</th>\n",
              "      <td>6.5</td>\n",
              "      <td>2.8</td>\n",
              "      <td>4.6</td>\n",
              "      <td>1.5</td>\n",
              "    </tr>\n",
              "    <tr>\n",
              "      <th>106</th>\n",
              "      <td>4.9</td>\n",
              "      <td>2.5</td>\n",
              "      <td>4.5</td>\n",
              "      <td>1.7</td>\n",
              "    </tr>\n",
              "    <tr>\n",
              "      <th>90</th>\n",
              "      <td>5.5</td>\n",
              "      <td>2.6</td>\n",
              "      <td>4.4</td>\n",
              "      <td>1.2</td>\n",
              "    </tr>\n",
              "    <tr>\n",
              "      <th>145</th>\n",
              "      <td>6.7</td>\n",
              "      <td>3.0</td>\n",
              "      <td>5.2</td>\n",
              "      <td>2.3</td>\n",
              "    </tr>\n",
              "  </tbody>\n",
              "</table>\n",
              "</div>\n",
              "    <div class=\"colab-df-buttons\">\n",
              "\n",
              "  <div class=\"colab-df-container\">\n",
              "    <button class=\"colab-df-convert\" onclick=\"convertToInteractive('df-b215c91d-53f2-45a4-b9eb-cb7960535219')\"\n",
              "            title=\"Convert this dataframe to an interactive table.\"\n",
              "            style=\"display:none;\">\n",
              "\n",
              "  <svg xmlns=\"http://www.w3.org/2000/svg\" height=\"24px\" viewBox=\"0 -960 960 960\">\n",
              "    <path d=\"M120-120v-720h720v720H120Zm60-500h600v-160H180v160Zm220 220h160v-160H400v160Zm0 220h160v-160H400v160ZM180-400h160v-160H180v160Zm440 0h160v-160H620v160ZM180-180h160v-160H180v160Zm440 0h160v-160H620v160Z\"/>\n",
              "  </svg>\n",
              "    </button>\n",
              "\n",
              "  <style>\n",
              "    .colab-df-container {\n",
              "      display:flex;\n",
              "      gap: 12px;\n",
              "    }\n",
              "\n",
              "    .colab-df-convert {\n",
              "      background-color: #E8F0FE;\n",
              "      border: none;\n",
              "      border-radius: 50%;\n",
              "      cursor: pointer;\n",
              "      display: none;\n",
              "      fill: #1967D2;\n",
              "      height: 32px;\n",
              "      padding: 0 0 0 0;\n",
              "      width: 32px;\n",
              "    }\n",
              "\n",
              "    .colab-df-convert:hover {\n",
              "      background-color: #E2EBFA;\n",
              "      box-shadow: 0px 1px 2px rgba(60, 64, 67, 0.3), 0px 1px 3px 1px rgba(60, 64, 67, 0.15);\n",
              "      fill: #174EA6;\n",
              "    }\n",
              "\n",
              "    .colab-df-buttons div {\n",
              "      margin-bottom: 4px;\n",
              "    }\n",
              "\n",
              "    [theme=dark] .colab-df-convert {\n",
              "      background-color: #3B4455;\n",
              "      fill: #D2E3FC;\n",
              "    }\n",
              "\n",
              "    [theme=dark] .colab-df-convert:hover {\n",
              "      background-color: #434B5C;\n",
              "      box-shadow: 0px 1px 3px 1px rgba(0, 0, 0, 0.15);\n",
              "      filter: drop-shadow(0px 1px 2px rgba(0, 0, 0, 0.3));\n",
              "      fill: #FFFFFF;\n",
              "    }\n",
              "  </style>\n",
              "\n",
              "    <script>\n",
              "      const buttonEl =\n",
              "        document.querySelector('#df-b215c91d-53f2-45a4-b9eb-cb7960535219 button.colab-df-convert');\n",
              "      buttonEl.style.display =\n",
              "        google.colab.kernel.accessAllowed ? 'block' : 'none';\n",
              "\n",
              "      async function convertToInteractive(key) {\n",
              "        const element = document.querySelector('#df-b215c91d-53f2-45a4-b9eb-cb7960535219');\n",
              "        const dataTable =\n",
              "          await google.colab.kernel.invokeFunction('convertToInteractive',\n",
              "                                                    [key], {});\n",
              "        if (!dataTable) return;\n",
              "\n",
              "        const docLinkHtml = 'Like what you see? Visit the ' +\n",
              "          '<a target=\"_blank\" href=https://colab.research.google.com/notebooks/data_table.ipynb>data table notebook</a>'\n",
              "          + ' to learn more about interactive tables.';\n",
              "        element.innerHTML = '';\n",
              "        dataTable['output_type'] = 'display_data';\n",
              "        await google.colab.output.renderOutput(dataTable, element);\n",
              "        const docLink = document.createElement('div');\n",
              "        docLink.innerHTML = docLinkHtml;\n",
              "        element.appendChild(docLink);\n",
              "      }\n",
              "    </script>\n",
              "  </div>\n",
              "\n",
              "\n",
              "<div id=\"df-4ff14273-6ed2-441e-8f7a-ac996b383ed7\">\n",
              "  <button class=\"colab-df-quickchart\" onclick=\"quickchart('df-4ff14273-6ed2-441e-8f7a-ac996b383ed7')\"\n",
              "            title=\"Suggest charts\"\n",
              "            style=\"display:none;\">\n",
              "\n",
              "<svg xmlns=\"http://www.w3.org/2000/svg\" height=\"24px\"viewBox=\"0 0 24 24\"\n",
              "     width=\"24px\">\n",
              "    <g>\n",
              "        <path d=\"M19 3H5c-1.1 0-2 .9-2 2v14c0 1.1.9 2 2 2h14c1.1 0 2-.9 2-2V5c0-1.1-.9-2-2-2zM9 17H7v-7h2v7zm4 0h-2V7h2v10zm4 0h-2v-4h2v4z\"/>\n",
              "    </g>\n",
              "</svg>\n",
              "  </button>\n",
              "\n",
              "<style>\n",
              "  .colab-df-quickchart {\n",
              "      --bg-color: #E8F0FE;\n",
              "      --fill-color: #1967D2;\n",
              "      --hover-bg-color: #E2EBFA;\n",
              "      --hover-fill-color: #174EA6;\n",
              "      --disabled-fill-color: #AAA;\n",
              "      --disabled-bg-color: #DDD;\n",
              "  }\n",
              "\n",
              "  [theme=dark] .colab-df-quickchart {\n",
              "      --bg-color: #3B4455;\n",
              "      --fill-color: #D2E3FC;\n",
              "      --hover-bg-color: #434B5C;\n",
              "      --hover-fill-color: #FFFFFF;\n",
              "      --disabled-bg-color: #3B4455;\n",
              "      --disabled-fill-color: #666;\n",
              "  }\n",
              "\n",
              "  .colab-df-quickchart {\n",
              "    background-color: var(--bg-color);\n",
              "    border: none;\n",
              "    border-radius: 50%;\n",
              "    cursor: pointer;\n",
              "    display: none;\n",
              "    fill: var(--fill-color);\n",
              "    height: 32px;\n",
              "    padding: 0;\n",
              "    width: 32px;\n",
              "  }\n",
              "\n",
              "  .colab-df-quickchart:hover {\n",
              "    background-color: var(--hover-bg-color);\n",
              "    box-shadow: 0 1px 2px rgba(60, 64, 67, 0.3), 0 1px 3px 1px rgba(60, 64, 67, 0.15);\n",
              "    fill: var(--button-hover-fill-color);\n",
              "  }\n",
              "\n",
              "  .colab-df-quickchart-complete:disabled,\n",
              "  .colab-df-quickchart-complete:disabled:hover {\n",
              "    background-color: var(--disabled-bg-color);\n",
              "    fill: var(--disabled-fill-color);\n",
              "    box-shadow: none;\n",
              "  }\n",
              "\n",
              "  .colab-df-spinner {\n",
              "    border: 2px solid var(--fill-color);\n",
              "    border-color: transparent;\n",
              "    border-bottom-color: var(--fill-color);\n",
              "    animation:\n",
              "      spin 1s steps(1) infinite;\n",
              "  }\n",
              "\n",
              "  @keyframes spin {\n",
              "    0% {\n",
              "      border-color: transparent;\n",
              "      border-bottom-color: var(--fill-color);\n",
              "      border-left-color: var(--fill-color);\n",
              "    }\n",
              "    20% {\n",
              "      border-color: transparent;\n",
              "      border-left-color: var(--fill-color);\n",
              "      border-top-color: var(--fill-color);\n",
              "    }\n",
              "    30% {\n",
              "      border-color: transparent;\n",
              "      border-left-color: var(--fill-color);\n",
              "      border-top-color: var(--fill-color);\n",
              "      border-right-color: var(--fill-color);\n",
              "    }\n",
              "    40% {\n",
              "      border-color: transparent;\n",
              "      border-right-color: var(--fill-color);\n",
              "      border-top-color: var(--fill-color);\n",
              "    }\n",
              "    60% {\n",
              "      border-color: transparent;\n",
              "      border-right-color: var(--fill-color);\n",
              "    }\n",
              "    80% {\n",
              "      border-color: transparent;\n",
              "      border-right-color: var(--fill-color);\n",
              "      border-bottom-color: var(--fill-color);\n",
              "    }\n",
              "    90% {\n",
              "      border-color: transparent;\n",
              "      border-bottom-color: var(--fill-color);\n",
              "    }\n",
              "  }\n",
              "</style>\n",
              "\n",
              "  <script>\n",
              "    async function quickchart(key) {\n",
              "      const quickchartButtonEl =\n",
              "        document.querySelector('#' + key + ' button');\n",
              "      quickchartButtonEl.disabled = true;  // To prevent multiple clicks.\n",
              "      quickchartButtonEl.classList.add('colab-df-spinner');\n",
              "      try {\n",
              "        const charts = await google.colab.kernel.invokeFunction(\n",
              "            'suggestCharts', [key], {});\n",
              "      } catch (error) {\n",
              "        console.error('Error during call to suggestCharts:', error);\n",
              "      }\n",
              "      quickchartButtonEl.classList.remove('colab-df-spinner');\n",
              "      quickchartButtonEl.classList.add('colab-df-quickchart-complete');\n",
              "    }\n",
              "    (() => {\n",
              "      let quickchartButtonEl =\n",
              "        document.querySelector('#df-4ff14273-6ed2-441e-8f7a-ac996b383ed7 button');\n",
              "      quickchartButtonEl.style.display =\n",
              "        google.colab.kernel.accessAllowed ? 'block' : 'none';\n",
              "    })();\n",
              "  </script>\n",
              "</div>\n",
              "    </div>\n",
              "  </div>\n"
            ],
            "application/vnd.google.colaboratory.intrinsic+json": {
              "type": "dataframe",
              "variable_name": "train_data",
              "summary": "{\n  \"name\": \"train_data\",\n  \"rows\": 120,\n  \"fields\": [\n    {\n      \"column\": \"sepal length\",\n      \"properties\": {\n        \"dtype\": \"number\",\n        \"std\": 0.8373423176113489,\n        \"min\": 4.3,\n        \"max\": 7.9,\n        \"num_unique_values\": 34,\n        \"samples\": [\n          4.6,\n          5.0,\n          7.0\n        ],\n        \"semantic_type\": \"\",\n        \"description\": \"\"\n      }\n    },\n    {\n      \"column\": \"sepal width\",\n      \"properties\": {\n        \"dtype\": \"number\",\n        \"std\": 0.44475152789914896,\n        \"min\": 2.0,\n        \"max\": 4.4,\n        \"num_unique_values\": 23,\n        \"samples\": [\n          3.9,\n          3.4,\n          2.6\n        ],\n        \"semantic_type\": \"\",\n        \"description\": \"\"\n      }\n    },\n    {\n      \"column\": \"petal length\",\n      \"properties\": {\n        \"dtype\": \"number\",\n        \"std\": 1.7935895811010316,\n        \"min\": 1.0,\n        \"max\": 6.9,\n        \"num_unique_values\": 41,\n        \"samples\": [\n          4.2,\n          1.7,\n          4.8\n        ],\n        \"semantic_type\": \"\",\n        \"description\": \"\"\n      }\n    },\n    {\n      \"column\": \"petal width\",\n      \"properties\": {\n        \"dtype\": \"number\",\n        \"std\": 0.7744718992249335,\n        \"min\": 0.1,\n        \"max\": 2.5,\n        \"num_unique_values\": 20,\n        \"samples\": [\n          1.0,\n          2.0,\n          1.4\n        ],\n        \"semantic_type\": \"\",\n        \"description\": \"\"\n      }\n    }\n  ]\n}"
            }
          },
          "metadata": {},
          "execution_count": 15
        }
      ],
      "source": [
        "# take a look at the data... make sure you understand what split of data is stored in each\n",
        "print('train_data shape: ',train_data.shape)\n",
        "print('test_data shape: ',test_data.shape)\n",
        "print('train_sln shape: ',train_sln.shape)\n",
        "print('test_sln shape: ',test_sln.shape)\n",
        "\n",
        "train_data.head()"
      ]
    },
    {
      "cell_type": "markdown",
      "metadata": {
        "id": "3ONonC0HrP4u"
      },
      "source": [
        "## Step 3: Create classifier/regressor object\n",
        "\n",
        "The syntax/wording for this is going to come directly from the `sklearn` documentation.\n",
        "- [Scikit Learn Decision Tree documentation](https://scikit-learn.org/stable/modules/generated/sklearn.tree.DecisionTreeClassifier.html)\n",
        "\n",
        "The name of the model will change based on whether you are doing a __classification__ or __regression__.\n",
        "- generally in the name:\n",
        "    - `tree.DecicionTreeClassifier()`\n",
        "    - `tree.DecisionTreeRegressor()`"
      ]
    },
    {
      "cell_type": "code",
      "execution_count": 21,
      "metadata": {
        "id": "9ou-_gJirP4v"
      },
      "outputs": [],
      "source": [
        "#3. Create classifier/regressor object (change these parameters for Exercise #1)\n",
        "dt = tree.DecisionTreeClassifier()"
      ]
    },
    {
      "cell_type": "markdown",
      "metadata": {
        "id": "FqDhnnmKrP4v"
      },
      "source": [
        "## Step 4: Call `fit()` to train the model\n",
        "\n",
        "Each machine learning model has a training process associated with it. Scikit learn makes it easy to train whatever model you choose by simply calling `fit()` on that model.\n",
        "\n",
        "We generally pass two things into `fit()`:\n",
        "- `train_data`: the predictor variables we want to train our model on\n",
        "- `train_sln`: the labels for each training examples\n"
      ]
    },
    {
      "cell_type": "code",
      "execution_count": 22,
      "metadata": {
        "id": "dOtQoCHYrP4v",
        "outputId": "22a619a0-7499-40a8-d10b-88612b358dbe",
        "colab": {
          "base_uri": "https://localhost:8080/",
          "height": 75
        }
      },
      "outputs": [
        {
          "output_type": "execute_result",
          "data": {
            "text/plain": [
              "DecisionTreeClassifier()"
            ],
            "text/html": [
              "<style>#sk-container-id-2 {color: black;background-color: white;}#sk-container-id-2 pre{padding: 0;}#sk-container-id-2 div.sk-toggleable {background-color: white;}#sk-container-id-2 label.sk-toggleable__label {cursor: pointer;display: block;width: 100%;margin-bottom: 0;padding: 0.3em;box-sizing: border-box;text-align: center;}#sk-container-id-2 label.sk-toggleable__label-arrow:before {content: \"▸\";float: left;margin-right: 0.25em;color: #696969;}#sk-container-id-2 label.sk-toggleable__label-arrow:hover:before {color: black;}#sk-container-id-2 div.sk-estimator:hover label.sk-toggleable__label-arrow:before {color: black;}#sk-container-id-2 div.sk-toggleable__content {max-height: 0;max-width: 0;overflow: hidden;text-align: left;background-color: #f0f8ff;}#sk-container-id-2 div.sk-toggleable__content pre {margin: 0.2em;color: black;border-radius: 0.25em;background-color: #f0f8ff;}#sk-container-id-2 input.sk-toggleable__control:checked~div.sk-toggleable__content {max-height: 200px;max-width: 100%;overflow: auto;}#sk-container-id-2 input.sk-toggleable__control:checked~label.sk-toggleable__label-arrow:before {content: \"▾\";}#sk-container-id-2 div.sk-estimator input.sk-toggleable__control:checked~label.sk-toggleable__label {background-color: #d4ebff;}#sk-container-id-2 div.sk-label input.sk-toggleable__control:checked~label.sk-toggleable__label {background-color: #d4ebff;}#sk-container-id-2 input.sk-hidden--visually {border: 0;clip: rect(1px 1px 1px 1px);clip: rect(1px, 1px, 1px, 1px);height: 1px;margin: -1px;overflow: hidden;padding: 0;position: absolute;width: 1px;}#sk-container-id-2 div.sk-estimator {font-family: monospace;background-color: #f0f8ff;border: 1px dotted black;border-radius: 0.25em;box-sizing: border-box;margin-bottom: 0.5em;}#sk-container-id-2 div.sk-estimator:hover {background-color: #d4ebff;}#sk-container-id-2 div.sk-parallel-item::after {content: \"\";width: 100%;border-bottom: 1px solid gray;flex-grow: 1;}#sk-container-id-2 div.sk-label:hover label.sk-toggleable__label {background-color: #d4ebff;}#sk-container-id-2 div.sk-serial::before {content: \"\";position: absolute;border-left: 1px solid gray;box-sizing: border-box;top: 0;bottom: 0;left: 50%;z-index: 0;}#sk-container-id-2 div.sk-serial {display: flex;flex-direction: column;align-items: center;background-color: white;padding-right: 0.2em;padding-left: 0.2em;position: relative;}#sk-container-id-2 div.sk-item {position: relative;z-index: 1;}#sk-container-id-2 div.sk-parallel {display: flex;align-items: stretch;justify-content: center;background-color: white;position: relative;}#sk-container-id-2 div.sk-item::before, #sk-container-id-2 div.sk-parallel-item::before {content: \"\";position: absolute;border-left: 1px solid gray;box-sizing: border-box;top: 0;bottom: 0;left: 50%;z-index: -1;}#sk-container-id-2 div.sk-parallel-item {display: flex;flex-direction: column;z-index: 1;position: relative;background-color: white;}#sk-container-id-2 div.sk-parallel-item:first-child::after {align-self: flex-end;width: 50%;}#sk-container-id-2 div.sk-parallel-item:last-child::after {align-self: flex-start;width: 50%;}#sk-container-id-2 div.sk-parallel-item:only-child::after {width: 0;}#sk-container-id-2 div.sk-dashed-wrapped {border: 1px dashed gray;margin: 0 0.4em 0.5em 0.4em;box-sizing: border-box;padding-bottom: 0.4em;background-color: white;}#sk-container-id-2 div.sk-label label {font-family: monospace;font-weight: bold;display: inline-block;line-height: 1.2em;}#sk-container-id-2 div.sk-label-container {text-align: center;}#sk-container-id-2 div.sk-container {/* jupyter's `normalize.less` sets `[hidden] { display: none; }` but bootstrap.min.css set `[hidden] { display: none !important; }` so we also need the `!important` here to be able to override the default hidden behavior on the sphinx rendered scikit-learn.org. See: https://github.com/scikit-learn/scikit-learn/issues/21755 */display: inline-block !important;position: relative;}#sk-container-id-2 div.sk-text-repr-fallback {display: none;}</style><div id=\"sk-container-id-2\" class=\"sk-top-container\"><div class=\"sk-text-repr-fallback\"><pre>DecisionTreeClassifier()</pre><b>In a Jupyter environment, please rerun this cell to show the HTML representation or trust the notebook. <br />On GitHub, the HTML representation is unable to render, please try loading this page with nbviewer.org.</b></div><div class=\"sk-container\" hidden><div class=\"sk-item\"><div class=\"sk-estimator sk-toggleable\"><input class=\"sk-toggleable__control sk-hidden--visually\" id=\"sk-estimator-id-2\" type=\"checkbox\" checked><label for=\"sk-estimator-id-2\" class=\"sk-toggleable__label sk-toggleable__label-arrow\">DecisionTreeClassifier</label><div class=\"sk-toggleable__content\"><pre>DecisionTreeClassifier()</pre></div></div></div></div></div>"
            ]
          },
          "metadata": {},
          "execution_count": 22
        }
      ],
      "source": [
        "dt.fit(train_data, train_sln)"
      ]
    },
    {
      "cell_type": "markdown",
      "metadata": {
        "id": "Y3yo4FxzrP4v"
      },
      "source": [
        "## Step 5: Call `predict()` to get predictions\n",
        "\n",
        "After our model is trained, it's time to run our testing data through our model and see what the model predicts.\n",
        "\n",
        "Scikit learn lets us do this in one line:\n",
        "- we're saving what the function is returning as `predictions`\n",
        "- passing in `test_data`, which is the data without labels that was not included in training"
      ]
    },
    {
      "cell_type": "code",
      "execution_count": 23,
      "metadata": {
        "id": "_qVmvez9rP4v",
        "colab": {
          "base_uri": "https://localhost:8080/"
        },
        "outputId": "8e7bc4d8-7457-4292-ccd7-5a87f9c9b2d4"
      },
      "outputs": [
        {
          "output_type": "stream",
          "name": "stdout",
          "text": [
            "predictions.shape:  (30,)\n",
            "['Iris-versicolor' 'Iris-virginica' 'Iris-virginica' 'Iris-versicolor'\n",
            " 'Iris-virginica' 'Iris-versicolor' 'Iris-virginica' 'Iris-virginica'\n",
            " 'Iris-virginica' 'Iris-virginica' 'Iris-virginica' 'Iris-setosa'\n",
            " 'Iris-setosa' 'Iris-versicolor' 'Iris-setosa' 'Iris-versicolor'\n",
            " 'Iris-setosa' 'Iris-virginica' 'Iris-setosa' 'Iris-setosa'\n",
            " 'Iris-versicolor' 'Iris-virginica' 'Iris-setosa' 'Iris-setosa'\n",
            " 'Iris-versicolor' 'Iris-versicolor' 'Iris-virginica' 'Iris-versicolor'\n",
            " 'Iris-setosa' 'Iris-versicolor']\n"
          ]
        }
      ],
      "source": [
        "predictions = dt.predict(test_data)\n",
        "print('predictions.shape: ', predictions.shape)\n",
        "print(predictions)"
      ]
    },
    {
      "cell_type": "markdown",
      "metadata": {
        "id": "u4pWXvxbrP4v"
      },
      "source": [
        "# Step 6: Evaluate the Model\n",
        "\n",
        "Now that we have some predictions, we need to check to see how close we were by passing our predictions and the actual correct answers into a metric function.\n",
        "\n",
        "| **Type of ML** | **Metric**                | **Description**                                                                                       | Scikit Learn                                                                                                                                                            |\n",
        "|----------------|---------------------------|:-------------------------------------------------------------------------------------------------------|:-------------------------------------------------------------------------------------------------------------------------------------------------------------------------|\n",
        "| Classification | Accuracy                  | Number correct examples divided by total number                                                       | [`sklearn.metrics.accuracy_score`](https://scikit-learn.org/stable/modules/generated/sklearn.metrics.accuracy_score.html)                                               |\n",
        "| Classification | Confusion Matrix          | Detailed table of where our model got confused.                                                       | [`sklearn.metrics.confusion_matrix`](https://scikit-learn.org/stable/modules/generated/sklearn.metrics.confusion_matrix.html#sklearn.metrics.confusion_matrix)          |\n",
        "| Regression     | Mean Absolute Error (MAE) | The average absolute distance from the target variable                                                | [`sklearn.metrics.mean_absolute_error`](https://scikit-learn.org/stable/modules/generated/sklearn.metrics.mean_absolute_error.html#sklearn.metrics.mean_absolute_error) |\n",
        "| Regression     | Mean Squared Error (MSE)  | The average squared distance from the target variable                                                 | [`sklearn.metrics.mean_squared_error`](https://scikit-learn.org/stable/modules/generated/sklearn.metrics.mean_squared_error.html#sklearn.metrics.mean_squared_error)    |\n",
        "| Regression     | $R^2$                     | 1: perfectly fit data 0: same performance as guessing the mean of the target variable -1: really bad. | [`sklearn.metrics.r2_score`](https://scikit-learn.org/stable/modules/generated/sklearn.metrics.r2_score.html#sklearn.metrics.r2_score)                                  |\n",
        "\n",
        "Available metrics can be found in the sklearn documentation [[sklearn metrics]](https://scikit-learn.org/stable/modules/classes.html#module-sklearn.metrics)"
      ]
    },
    {
      "cell_type": "code",
      "execution_count": 24,
      "metadata": {
        "id": "OXZSauyLrP4w",
        "outputId": "439b482d-eaff-4142-ec79-39eab9135fbd",
        "colab": {
          "base_uri": "https://localhost:8080/"
        }
      },
      "outputs": [
        {
          "output_type": "stream",
          "name": "stdout",
          "text": [
            "Accuracy: 0.8333333333333334\n"
          ]
        }
      ],
      "source": [
        "from sklearn import metrics\n",
        "#6. call a metric function to evaluate the model\n",
        "print(\"Accuracy:\", metrics.accuracy_score(test_sln, predictions))"
      ]
    },
    {
      "cell_type": "markdown",
      "metadata": {
        "id": "eBayF0zOrP4w"
      },
      "source": [
        "### Here's an example of displaying a confusion matrix:\n",
        "\n",
        "Documentation link: https://scikit-learn.org/stable/modules/generated/sklearn.metrics.ConfusionMatrixDisplay.html#sklearn.metrics.ConfusionMatrixDisplay\n"
      ]
    },
    {
      "cell_type": "code",
      "execution_count": 25,
      "metadata": {
        "id": "KRuhcw07rP4w",
        "outputId": "895f7b72-8f41-4132-d52f-070d3663443c",
        "colab": {
          "base_uri": "https://localhost:8080/"
        }
      },
      "outputs": [
        {
          "output_type": "stream",
          "name": "stdout",
          "text": [
            "[[9 0 0]\n",
            " [0 8 3]\n",
            " [0 2 8]]\n"
          ]
        }
      ],
      "source": [
        "from sklearn.metrics import ConfusionMatrixDisplay\n",
        "import matplotlib.pyplot as plt\n",
        "#print out a confusion matrix\n",
        "iris_labels= [\"Iris-setosa\", \"Iris-versicolor\",\"Iris-virginica\"]\n",
        "conf_mat = metrics.confusion_matrix(test_sln, predictions, labels=iris_labels)\n",
        "print(conf_mat)"
      ]
    },
    {
      "cell_type": "code",
      "execution_count": 26,
      "metadata": {
        "id": "f9tNoLwWrP4w",
        "outputId": "c1d0fdd3-15da-462e-ffd3-9e8a73769e7c",
        "colab": {
          "base_uri": "https://localhost:8080/",
          "height": 529
        }
      },
      "outputs": [
        {
          "output_type": "stream",
          "name": "stdout",
          "text": [
            "                 Iris-setosa  Iris-versicolor  Iris-virginica\n",
            "Iris-setosa                9                0               0\n",
            "Iris-versicolor            0                8               3\n",
            "Iris-virginica             0                2               8\n"
          ]
        },
        {
          "output_type": "display_data",
          "data": {
            "text/plain": [
              "<Figure size 640x480 with 2 Axes>"
            ],
            "image/png": "[encoded data removed]"
          },
          "metadata": {}
        }
      ],
      "source": [
        "#displaying a confusion matrix\n",
        "\n",
        "# option #1: text\n",
        "print(pandas.DataFrame(conf_mat,index = iris_labels, columns = iris_labels))\n",
        "\n",
        "# option #2: prettify\n",
        "displ = ConfusionMatrixDisplay(confusion_matrix=conf_mat, display_labels=iris_labels)\n",
        "displ.plot()\n",
        "plt.show()"
      ]
    },
    {
      "cell_type": "markdown",
      "metadata": {
        "id": "y_qndmB_rP4w"
      },
      "source": [
        "## (Optional) Step 7: Print out the results to debug\n",
        "\n",
        "Sometimes its helpful to take a closer look at your predictions. Here's some code to do just that:"
      ]
    },
    {
      "cell_type": "code",
      "execution_count": 29,
      "metadata": {
        "id": "q4hRQDp_rP4w",
        "outputId": "efbc9662-a4ed-4dd0-9c70-c6573230ace2",
        "colab": {
          "base_uri": "https://localhost:8080/"
        }
      },
      "outputs": [
        {
          "output_type": "stream",
          "name": "stdout",
          "text": [
            "--------------------------------------------------------------\n",
            "ACTUAL               PREDICTIONS         \n",
            "Iris-virginica       Iris-versicolor     \n",
            "Iris-virginica       Iris-virginica      \n",
            "Iris-virginica       Iris-virginica      \n",
            "Iris-versicolor      Iris-versicolor     \n",
            "Iris-virginica       Iris-virginica      \n",
            "Iris-versicolor      Iris-versicolor     \n",
            "Iris-virginica       Iris-virginica      \n",
            "Iris-versicolor      Iris-versicolor     \n",
            "Iris-virginica       Iris-virginica      \n",
            "Iris-virginica       Iris-virginica      \n",
            "Iris-virginica       Iris-virginica      \n",
            "Iris-setosa          Iris-setosa         \n",
            "Iris-setosa          Iris-setosa         \n",
            "Iris-versicolor      Iris-versicolor     \n",
            "Iris-setosa          Iris-setosa         \n",
            "Iris-virginica       Iris-versicolor     \n",
            "Iris-setosa          Iris-setosa         \n",
            "Iris-versicolor      Iris-virginica      \n",
            "Iris-setosa          Iris-setosa         \n",
            "Iris-setosa          Iris-setosa         \n",
            "Iris-versicolor      Iris-versicolor     \n",
            "Iris-virginica       Iris-virginica      \n",
            "Iris-setosa          Iris-setosa         \n",
            "Iris-setosa          Iris-setosa         \n",
            "Iris-versicolor      Iris-versicolor     \n",
            "Iris-versicolor      Iris-versicolor     \n",
            "Iris-versicolor      Iris-versicolor     \n",
            "Iris-versicolor      Iris-versicolor     \n",
            "Iris-setosa          Iris-setosa         \n",
            "Iris-versicolor      Iris-versicolor     \n",
            "--------------------------------------------------------------\n"
          ]
        }
      ],
      "source": [
        "# Show the acutal and predicted (this isn't necessary, but may help catch bugs)\n",
        "print(\"--------------------------------------------------------------\")\n",
        "print(f\"{'ACTUAL':<{20}} {'PREDICTIONS':<{20}}\")\n",
        "for i in range(len(test_sln)):\n",
        "    actual_sample     = test_sln.iloc[i]\n",
        "    predicted_sample  = iris_predictions[i]\n",
        "    print(f\"{actual_sample:<{20}} {predicted_sample:<{20}}\")\n",
        "\n",
        "print(\"--------------------------------------------------------------\")"
      ]
    },
    {
      "cell_type": "markdown",
      "metadata": {
        "id": "ftNJ-2vFrP4w"
      },
      "source": [
        "# 💬 Group Exercise #1:\n",
        "\n",
        "Take a look at the [Decision Tree Classifier Documentation](https://scikit-learn.org/stable/modules/generated/sklearn.tree.DecisionTreeClassifier.html):\n",
        "- Experiment with different `random_state`s\n",
        "- Explore different parameters you could use in the `DecisionTreeClassifier`\n",
        "- Can you improve the accuracy with `random_state=41`?\n",
        "- What happens when you do this? Why?"
      ]
    },
    {
      "cell_type": "code",
      "execution_count": null,
      "metadata": {
        "id": "qmt9mJX8rP4x"
      },
      "outputs": [],
      "source": []
    },
    {
      "cell_type": "markdown",
      "metadata": {
        "id": "Bk8xupjprP4x"
      },
      "source": [
        "# Plotting Decision Trees\n",
        "\n",
        "You can use `matplotlib` to plot decision trees using the `sklearn.tree.plot_tree` method."
      ]
    },
    {
      "cell_type": "code",
      "execution_count": null,
      "metadata": {
        "id": "H6sd23aIrP4x",
        "outputId": "b3873b49-329d-448d-f8bf-fde509b4a405",
        "colab": {
          "base_uri": "https://localhost:8080/",
          "height": 730
        }
      },
      "outputs": [
        {
          "output_type": "display_data",
          "data": {
            "text/plain": [
              "<Figure size 900x900 with 1 Axes>"
            ],
            "image/png": "[encoded data removed]"
          },
          "metadata": {}
        }
      ],
      "source": [
        "# visualizing decision tree\n",
        "import matplotlib.pyplot as plt\n",
        "\n",
        "plt.figure(figsize=(9,9)) # Makes it so the graph isn't tiny\n",
        "tree.plot_tree(dt); #if you remove the ;, you'll get more information about the tree"
      ]
    },
    {
      "cell_type": "code",
      "execution_count": null,
      "metadata": {
        "id": "Wcb_BN5JrP4x",
        "outputId": "c5725e73-7f45-4f28-915a-81704c5b8585",
        "colab": {
          "base_uri": "https://localhost:8080/",
          "height": 770
        }
      },
      "outputs": [
        {
          "output_type": "display_data",
          "data": {
            "text/plain": [
              "<Figure size 900x900 with 1 Axes>"
            ],
            "image/png": "[encoded data removed]"
          },
          "metadata": {}
        }
      ],
      "source": [
        "#tweak paramters to make it pretty\n",
        "import matplotlib.pyplot as plt\n",
        "fn=['sepal length (cm)','sepal width (cm)','petal length (cm)','petal width (cm)']\n",
        "cn=['setosa', 'versicolor', 'virginica']\n",
        "fig, axes = plt.subplots(nrows = 1,ncols = 1,figsize = (3,3), dpi=300)\n",
        "tree.plot_tree(dt,\n",
        "               feature_names = fn,\n",
        "               class_names=cn,\n",
        "               filled = True);"
      ]
    },
    {
      "cell_type": "markdown",
      "metadata": {
        "id": "STLarMztrP4x"
      },
      "source": [
        "## Another pretty Confusion Matrix"
      ]
    },
    {
      "cell_type": "code",
      "execution_count": null,
      "metadata": {
        "id": "gTUQZb0yrP4y",
        "outputId": "6a87aee5-61ca-4cb5-cebb-86c0025c0ae2",
        "colab": {
          "base_uri": "https://localhost:8080/",
          "height": 551
        }
      },
      "outputs": [
        {
          "output_type": "execute_result",
          "data": {
            "text/plain": [
              "Text(0.5, 0, 'Predicted label')"
            ]
          },
          "metadata": {},
          "execution_count": 13
        },
        {
          "output_type": "display_data",
          "data": {
            "text/plain": [
              "<Figure size 640x480 with 2 Axes>"
            ],
            "image/png": "[encoded data removed]"
          },
          "metadata": {}
        }
      ],
      "source": [
        "# a pretty confusion matrix\n",
        "import itertools\n",
        "\n",
        "cm=metrics.confusion_matrix(test_sln,predictions)\n",
        "plt.imshow(cm, interpolation='nearest',cmap=plt.cm.Blues)\n",
        "plt.title('Decision Tree Conf Matrix, Iris Data')\n",
        "plt.colorbar()\n",
        "plt.xticks([0,1,2], dt.classes_,rotation=45)\n",
        "plt.yticks([0,1,2], dt.classes_)\n",
        "thresh = cm.max() / 2.\n",
        "for i, j in itertools.product(range(cm.shape[0]), range(cm.shape[1])):\n",
        "        plt.text(j, i, format(cm[i, j], '.2f'),\n",
        "                horizontalalignment=\"center\",\n",
        "                color=\"white\" if cm[i, j] > thresh else \"black\")\n",
        "plt.ylabel('True label')\n",
        "plt.xlabel('Predicted label')"
      ]
    },
    {
      "cell_type": "markdown",
      "metadata": {
        "id": "gTsA4tWIrP4y"
      },
      "source": [
        "# Normalizing using `StandardScaler`\n",
        "\n",
        "**Documentation**: [`sklearn.preprocessing.StandardScaler`](https://scikit-learn.org/stable/modules/generated/sklearn.preprocessing.StandardScaler.html)\n",
        "\n",
        "- Standardize features by removing the mean and scaling to unit variance.\n",
        "- Centering and scaling happen independently on each feature by computing the relevant statistics on the samples in the training set. Mean and standard deviation are then stored to be used on later data using __transform__.\n"
      ]
    },
    {
      "cell_type": "code",
      "execution_count": null,
      "metadata": {
        "id": "G-ux5gYqrP4y",
        "outputId": "256248c1-348d-46aa-ebc6-8db562078880",
        "colab": {
          "base_uri": "https://localhost:8080/",
          "height": 206
        }
      },
      "outputs": [
        {
          "output_type": "execute_result",
          "data": {
            "text/plain": [
              "     sepal length  sepal width  petal length  petal width\n",
              "79            5.7          2.6           3.5          1.0\n",
              "54            6.5          2.8           4.6          1.5\n",
              "106           4.9          2.5           4.5          1.7\n",
              "90            5.5          2.6           4.4          1.2\n",
              "145           6.7          3.0           5.2          2.3"
            ],
            "text/html": [
              "\n",
              "  <div id=\"df-430b172f-f720-45bd-8a38-33d8fef285f9\" class=\"colab-df-container\">\n",
              "    <div>\n",
              "<style scoped>\n",
              "    .dataframe tbody tr th:only-of-type {\n",
              "        vertical-align: middle;\n",
              "    }\n",
              "\n",
              "    .dataframe tbody tr th {\n",
              "        vertical-align: top;\n",
              "    }\n",
              "\n",
              "    .dataframe thead th {\n",
              "        text-align: right;\n",
              "    }\n",
              "</style>\n",
              "<table border=\"1\" class=\"dataframe\">\n",
              "  <thead>\n",
              "    <tr style=\"text-align: right;\">\n",
              "      <th></th>\n",
              "      <th>sepal length</th>\n",
              "      <th>sepal width</th>\n",
              "      <th>petal length</th>\n",
              "      <th>petal width</th>\n",
              "    </tr>\n",
              "  </thead>\n",
              "  <tbody>\n",
              "    <tr>\n",
              "      <th>79</th>\n",
              "      <td>5.7</td>\n",
              "      <td>2.6</td>\n",
              "      <td>3.5</td>\n",
              "      <td>1.0</td>\n",
              "    </tr>\n",
              "    <tr>\n",
              "      <th>54</th>\n",
              "      <td>6.5</td>\n",
              "      <td>2.8</td>\n",
              "      <td>4.6</td>\n",
              "      <td>1.5</td>\n",
              "    </tr>\n",
              "    <tr>\n",
              "      <th>106</th>\n",
              "      <td>4.9</td>\n",
              "      <td>2.5</td>\n",
              "      <td>4.5</td>\n",
              "      <td>1.7</td>\n",
              "    </tr>\n",
              "    <tr>\n",
              "      <th>90</th>\n",
              "      <td>5.5</td>\n",
              "      <td>2.6</td>\n",
              "      <td>4.4</td>\n",
              "      <td>1.2</td>\n",
              "    </tr>\n",
              "    <tr>\n",
              "      <th>145</th>\n",
              "      <td>6.7</td>\n",
              "      <td>3.0</td>\n",
              "      <td>5.2</td>\n",
              "      <td>2.3</td>\n",
              "    </tr>\n",
              "  </tbody>\n",
              "</table>\n",
              "</div>\n",
              "    <div class=\"colab-df-buttons\">\n",
              "\n",
              "  <div class=\"colab-df-container\">\n",
              "    <button class=\"colab-df-convert\" onclick=\"convertToInteractive('df-430b172f-f720-45bd-8a38-33d8fef285f9')\"\n",
              "            title=\"Convert this dataframe to an interactive table.\"\n",
              "            style=\"display:none;\">\n",
              "\n",
              "  <svg xmlns=\"http://www.w3.org/2000/svg\" height=\"24px\" viewBox=\"0 -960 960 960\">\n",
              "    <path d=\"M120-120v-720h720v720H120Zm60-500h600v-160H180v160Zm220 220h160v-160H400v160Zm0 220h160v-160H400v160ZM180-400h160v-160H180v160Zm440 0h160v-160H620v160ZM180-180h160v-160H180v160Zm440 0h160v-160H620v160Z\"/>\n",
              "  </svg>\n",
              "    </button>\n",
              "\n",
              "  <style>\n",
              "    .colab-df-container {\n",
              "      display:flex;\n",
              "      gap: 12px;\n",
              "    }\n",
              "\n",
              "    .colab-df-convert {\n",
              "      background-color: #E8F0FE;\n",
              "      border: none;\n",
              "      border-radius: 50%;\n",
              "      cursor: pointer;\n",
              "      display: none;\n",
              "      fill: #1967D2;\n",
              "      height: 32px;\n",
              "      padding: 0 0 0 0;\n",
              "      width: 32px;\n",
              "    }\n",
              "\n",
              "    .colab-df-convert:hover {\n",
              "      background-color: #E2EBFA;\n",
              "      box-shadow: 0px 1px 2px rgba(60, 64, 67, 0.3), 0px 1px 3px 1px rgba(60, 64, 67, 0.15);\n",
              "      fill: #174EA6;\n",
              "    }\n",
              "\n",
              "    .colab-df-buttons div {\n",
              "      margin-bottom: 4px;\n",
              "    }\n",
              "\n",
              "    [theme=dark] .colab-df-convert {\n",
              "      background-color: #3B4455;\n",
              "      fill: #D2E3FC;\n",
              "    }\n",
              "\n",
              "    [theme=dark] .colab-df-convert:hover {\n",
              "      background-color: #434B5C;\n",
              "      box-shadow: 0px 1px 3px 1px rgba(0, 0, 0, 0.15);\n",
              "      filter: drop-shadow(0px 1px 2px rgba(0, 0, 0, 0.3));\n",
              "      fill: #FFFFFF;\n",
              "    }\n",
              "  </style>\n",
              "\n",
              "    <script>\n",
              "      const buttonEl =\n",
              "        document.querySelector('#df-430b172f-f720-45bd-8a38-33d8fef285f9 button.colab-df-convert');\n",
              "      buttonEl.style.display =\n",
              "        google.colab.kernel.accessAllowed ? 'block' : 'none';\n",
              "\n",
              "      async function convertToInteractive(key) {\n",
              "        const element = document.querySelector('#df-430b172f-f720-45bd-8a38-33d8fef285f9');\n",
              "        const dataTable =\n",
              "          await google.colab.kernel.invokeFunction('convertToInteractive',\n",
              "                                                    [key], {});\n",
              "        if (!dataTable) return;\n",
              "\n",
              "        const docLinkHtml = 'Like what you see? Visit the ' +\n",
              "          '<a target=\"_blank\" href=https://colab.research.google.com/notebooks/data_table.ipynb>data table notebook</a>'\n",
              "          + ' to learn more about interactive tables.';\n",
              "        element.innerHTML = '';\n",
              "        dataTable['output_type'] = 'display_data';\n",
              "        await google.colab.output.renderOutput(dataTable, element);\n",
              "        const docLink = document.createElement('div');\n",
              "        docLink.innerHTML = docLinkHtml;\n",
              "        element.appendChild(docLink);\n",
              "      }\n",
              "    </script>\n",
              "  </div>\n",
              "\n",
              "\n",
              "<div id=\"df-95af951e-2821-4e67-b8de-cfad1e2dba57\">\n",
              "  <button class=\"colab-df-quickchart\" onclick=\"quickchart('df-95af951e-2821-4e67-b8de-cfad1e2dba57')\"\n",
              "            title=\"Suggest charts.\"\n",
              "            style=\"display:none;\">\n",
              "\n",
              "<svg xmlns=\"http://www.w3.org/2000/svg\" height=\"24px\"viewBox=\"0 0 24 24\"\n",
              "     width=\"24px\">\n",
              "    <g>\n",
              "        <path d=\"M19 3H5c-1.1 0-2 .9-2 2v14c0 1.1.9 2 2 2h14c1.1 0 2-.9 2-2V5c0-1.1-.9-2-2-2zM9 17H7v-7h2v7zm4 0h-2V7h2v10zm4 0h-2v-4h2v4z\"/>\n",
              "    </g>\n",
              "</svg>\n",
              "  </button>\n",
              "\n",
              "<style>\n",
              "  .colab-df-quickchart {\n",
              "      --bg-color: #E8F0FE;\n",
              "      --fill-color: #1967D2;\n",
              "      --hover-bg-color: #E2EBFA;\n",
              "      --hover-fill-color: #174EA6;\n",
              "      --disabled-fill-color: #AAA;\n",
              "      --disabled-bg-color: #DDD;\n",
              "  }\n",
              "\n",
              "  [theme=dark] .colab-df-quickchart {\n",
              "      --bg-color: #3B4455;\n",
              "      --fill-color: #D2E3FC;\n",
              "      --hover-bg-color: #434B5C;\n",
              "      --hover-fill-color: #FFFFFF;\n",
              "      --disabled-bg-color: #3B4455;\n",
              "      --disabled-fill-color: #666;\n",
              "  }\n",
              "\n",
              "  .colab-df-quickchart {\n",
              "    background-color: var(--bg-color);\n",
              "    border: none;\n",
              "    border-radius: 50%;\n",
              "    cursor: pointer;\n",
              "    display: none;\n",
              "    fill: var(--fill-color);\n",
              "    height: 32px;\n",
              "    padding: 0;\n",
              "    width: 32px;\n",
              "  }\n",
              "\n",
              "  .colab-df-quickchart:hover {\n",
              "    background-color: var(--hover-bg-color);\n",
              "    box-shadow: 0 1px 2px rgba(60, 64, 67, 0.3), 0 1px 3px 1px rgba(60, 64, 67, 0.15);\n",
              "    fill: var(--button-hover-fill-color);\n",
              "  }\n",
              "\n",
              "  .colab-df-quickchart-complete:disabled,\n",
              "  .colab-df-quickchart-complete:disabled:hover {\n",
              "    background-color: var(--disabled-bg-color);\n",
              "    fill: var(--disabled-fill-color);\n",
              "    box-shadow: none;\n",
              "  }\n",
              "\n",
              "  .colab-df-spinner {\n",
              "    border: 2px solid var(--fill-color);\n",
              "    border-color: transparent;\n",
              "    border-bottom-color: var(--fill-color);\n",
              "    animation:\n",
              "      spin 1s steps(1) infinite;\n",
              "  }\n",
              "\n",
              "  @keyframes spin {\n",
              "    0% {\n",
              "      border-color: transparent;\n",
              "      border-bottom-color: var(--fill-color);\n",
              "      border-left-color: var(--fill-color);\n",
              "    }\n",
              "    20% {\n",
              "      border-color: transparent;\n",
              "      border-left-color: var(--fill-color);\n",
              "      border-top-color: var(--fill-color);\n",
              "    }\n",
              "    30% {\n",
              "      border-color: transparent;\n",
              "      border-left-color: var(--fill-color);\n",
              "      border-top-color: var(--fill-color);\n",
              "      border-right-color: var(--fill-color);\n",
              "    }\n",
              "    40% {\n",
              "      border-color: transparent;\n",
              "      border-right-color: var(--fill-color);\n",
              "      border-top-color: var(--fill-color);\n",
              "    }\n",
              "    60% {\n",
              "      border-color: transparent;\n",
              "      border-right-color: var(--fill-color);\n",
              "    }\n",
              "    80% {\n",
              "      border-color: transparent;\n",
              "      border-right-color: var(--fill-color);\n",
              "      border-bottom-color: var(--fill-color);\n",
              "    }\n",
              "    90% {\n",
              "      border-color: transparent;\n",
              "      border-bottom-color: var(--fill-color);\n",
              "    }\n",
              "  }\n",
              "</style>\n",
              "\n",
              "  <script>\n",
              "    async function quickchart(key) {\n",
              "      const quickchartButtonEl =\n",
              "        document.querySelector('#' + key + ' button');\n",
              "      quickchartButtonEl.disabled = true;  // To prevent multiple clicks.\n",
              "      quickchartButtonEl.classList.add('colab-df-spinner');\n",
              "      try {\n",
              "        const charts = await google.colab.kernel.invokeFunction(\n",
              "            'suggestCharts', [key], {});\n",
              "      } catch (error) {\n",
              "        console.error('Error during call to suggestCharts:', error);\n",
              "      }\n",
              "      quickchartButtonEl.classList.remove('colab-df-spinner');\n",
              "      quickchartButtonEl.classList.add('colab-df-quickchart-complete');\n",
              "    }\n",
              "    (() => {\n",
              "      let quickchartButtonEl =\n",
              "        document.querySelector('#df-95af951e-2821-4e67-b8de-cfad1e2dba57 button');\n",
              "      quickchartButtonEl.style.display =\n",
              "        google.colab.kernel.accessAllowed ? 'block' : 'none';\n",
              "    })();\n",
              "  </script>\n",
              "</div>\n",
              "    </div>\n",
              "  </div>\n"
            ]
          },
          "metadata": {},
          "execution_count": 44
        }
      ],
      "source": [
        "train_data.head()"
      ]
    },
    {
      "cell_type": "code",
      "execution_count": null,
      "metadata": {
        "id": "K_VN4-uMrP4y",
        "outputId": "f2706944-139f-45ca-f9fc-3fe71a848ca9",
        "colab": {
          "base_uri": "https://localhost:8080/"
        }
      },
      "outputs": [
        {
          "output_type": "execute_result",
          "data": {
            "text/plain": [
              "array([[-0.18688501, -1.09883199, -0.14183598, -0.25284018],\n",
              "       [ 0.77252466, -0.6472572 ,  0.47403077,  0.39546797],\n",
              "       [-1.14629467, -1.32461939,  0.41804288,  0.65479123],\n",
              "       [-0.42673742, -1.09883199,  0.362055  ,  0.00648308],\n",
              "       [ 1.01237707, -0.19568241,  0.80995808,  1.43276101],\n",
              "       [-0.0669588 ,  2.06219154, -1.42955736, -1.29013322],\n",
              "       [ 1.25222949,  0.03010499,  0.7539702 ,  1.43276101],\n",
              "       [ 0.65259845,  0.25589238,  0.41804288,  0.39546797],\n",
              "       [ 1.25222949,  0.03010499,  0.92193386,  1.17343775],\n",
              "       [ 0.05296741,  0.25589238,  0.58600654,  0.78445286],\n",
              "       [ 0.41274603, -0.4214698 ,  0.30606711,  0.13614471],\n",
              "       [-0.18688501, -0.6472572 ,  0.41804288,  0.13614471],\n",
              "       [-0.78651605,  2.28797894, -1.2615937 , -1.41979485],\n",
              "       [ 0.77252466, -0.19568241,  1.1458854 ,  1.30309938],\n",
              "       [ 0.53267224,  0.70746717,  1.03390963,  1.56242264],\n",
              "       [-0.18688501,  1.61061675, -1.14961793, -1.16047159],\n",
              "       [ 1.01237707, -1.32461939,  1.1458854 ,  0.78445286],\n",
              "       [-0.90644226, -1.32461939, -0.42177541, -0.12317855],\n",
              "       [-1.26622088, -0.19568241, -1.31758158, -1.16047159],\n",
              "       [ 0.41274603, -2.00198157,  0.41804288,  0.39546797],\n",
              "       [ 0.65259845, -0.8730446 ,  0.86594597,  0.91411449],\n",
              "       [-0.0669588 , -0.8730446 ,  0.08211557,  0.00648308],\n",
              "       [ 1.85186053, -0.6472572 ,  1.31384906,  0.91411449],\n",
              "       [-0.78651605,  0.93325457, -1.2615937 , -1.29013322],\n",
              "       [-0.42673742,  2.51376633, -1.31758158, -1.29013322],\n",
              "       [ 0.05296741, -0.19568241,  0.7539702 ,  0.78445286],\n",
              "       [ 0.41274603, -0.6472572 ,  0.58600654,  0.78445286],\n",
              "       [-1.5060733 ,  0.03010499, -1.2615937 , -1.29013322],\n",
              "       [-0.30681122, -0.19568241,  0.41804288,  0.39546797],\n",
              "       [-1.5060733 ,  0.70746717, -1.31758158, -1.16047159],\n",
              "       [-1.14629467,  0.03010499, -1.2615937 , -1.41979485],\n",
              "       [ 0.89245087, -0.19568241,  0.362055  ,  0.26580634],\n",
              "       [-0.54666363,  1.83640415, -1.37356947, -1.03080996],\n",
              "       [-1.14629467, -1.55040678, -0.25381175, -0.25284018],\n",
              "       [ 0.41274603,  0.70746717,  0.92193386,  1.43276101],\n",
              "       [-1.02636846, -0.19568241, -1.20560581, -1.29013322],\n",
              "       [ 0.53267224, -1.77619418,  0.362055  ,  0.13614471],\n",
              "       [-0.18688501, -0.6472572 ,  0.19409134,  0.13614471],\n",
              "       [-0.30681122, -0.6472572 ,  0.64199443,  1.04377612],\n",
              "       [-0.90644226,  0.93325457, -1.31758158, -1.29013322],\n",
              "       [-0.18688501, -0.4214698 ,  0.25007922,  0.13614471],\n",
              "       [-1.02636846, -2.45355636, -0.14183598, -0.25284018],\n",
              "       [-1.26622088,  0.70746717, -1.03764215, -1.29013322],\n",
              "       [ 2.21163915, -1.09883199,  1.76175215,  1.43276101],\n",
              "       [ 0.53267224, -1.32461939,  0.64199443,  0.39546797],\n",
              "       [-0.90644226,  0.93325457, -1.31758158, -1.16047159],\n",
              "       [ 0.77252466, -0.19568241,  0.97792174,  0.78445286],\n",
              "       [ 0.53267224, -1.32461939,  0.69798231,  0.91411449],\n",
              "       [-1.74592571,  0.25589238, -1.37356947, -1.29013322],\n",
              "       [ 1.01237707, -0.19568241,  0.69798231,  0.65479123],\n",
              "       [-0.54666363,  1.38482936, -1.2615937 , -1.29013322],\n",
              "       [-1.02636846,  0.93325457, -1.37356947, -1.16047159],\n",
              "       [ 1.01237707,  0.48167978,  1.08989751,  1.17343775],\n",
              "       [ 2.21163915,  1.61061675,  1.64977638,  1.30309938],\n",
              "       [-0.18688501, -1.32461939,  0.69798231,  1.04377612],\n",
              "       [-1.5060733 ,  0.25589238, -1.31758158, -1.29013322],\n",
              "       [-1.38614709,  0.25589238, -1.20560581, -1.29013322],\n",
              "       [-1.02636846,  0.70746717, -1.2615937 , -1.29013322],\n",
              "       [-1.26622088,  0.70746717, -1.20560581, -1.29013322],\n",
              "       [-0.66658984,  1.38482936, -1.2615937 , -1.29013322],\n",
              "       [ 0.29281982, -1.09883199,  1.03390963,  0.26580634],\n",
              "       [ 0.17289362, -0.19568241,  0.58600654,  0.78445286],\n",
              "       [-0.42673742,  0.93325457, -1.37356947, -1.29013322],\n",
              "       [ 1.61200811,  0.25589238,  1.25786117,  0.78445286],\n",
              "       [ 1.3721557 ,  0.25589238,  0.53001865,  0.26580634],\n",
              "       [-0.18688501,  2.96534113, -1.2615937 , -1.03080996],\n",
              "       [-1.86585192, -0.19568241, -1.48554524, -1.41979485],\n",
              "       [ 0.77252466,  0.25589238,  0.7539702 ,  1.04377612],\n",
              "       [-0.0669588 , -0.8730446 ,  0.7539702 ,  0.91411449],\n",
              "       [ 0.65259845,  0.25589238,  0.86594597,  1.43276101],\n",
              "       [ 0.29281982, -0.6472572 ,  0.53001865,  0.00648308],\n",
              "       [ 0.17289362, -0.4214698 ,  0.41804288,  0.39546797],\n",
              "       [-0.0669588 , -0.8730446 ,  0.7539702 ,  0.91411449],\n",
              "       [-1.14629467, -0.19568241, -1.31758158, -1.29013322],\n",
              "       [ 0.89245087, -0.4214698 ,  0.47403077,  0.13614471],\n",
              "       [ 1.49208191, -0.19568241,  1.20187329,  1.17343775],\n",
              "       [ 0.65259845, -0.4214698 ,  0.30606711,  0.13614471],\n",
              "       [ 1.25222949,  0.03010499,  0.64199443,  0.39546797],\n",
              "       [-1.74592571, -0.4214698 , -1.31758158, -1.29013322],\n",
              "       [-0.18688501, -0.19568241,  0.25007922,  0.00648308],\n",
              "       [-0.90644226,  1.38482936, -1.2615937 , -1.03080996],\n",
              "       [ 0.05296741, -0.19568241,  0.25007922,  0.39546797],\n",
              "       [-0.54666363,  0.70746717, -1.2615937 , -1.03080996],\n",
              "       [-0.30681122, -0.8730446 ,  0.25007922,  0.13614471],\n",
              "       [ 1.73193432, -0.4214698 ,  1.42582483,  0.78445286],\n",
              "       [ 0.53267224,  0.48167978,  1.25786117,  1.69208428],\n",
              "       [ 1.01237707,  0.48167978,  1.08989751,  1.69208428],\n",
              "       [-0.90644226,  1.61061675, -1.20560581, -1.29013322],\n",
              "       [-1.14629467,  0.03010499, -1.2615937 , -1.41979485],\n",
              "       [-1.5060733 ,  1.15904196, -1.54153313, -1.29013322],\n",
              "       [-0.90644226,  1.61061675, -1.03764215, -1.03080996],\n",
              "       [ 0.53267224, -0.4214698 ,  1.03390963,  0.78445286],\n",
              "       [-0.54666363,  1.83640415, -1.14961793, -1.03080996],\n",
              "       [-0.54666363,  0.70746717, -1.14961793, -1.29013322],\n",
              "       [-0.30681122, -1.32461939,  0.08211557, -0.12317855],\n",
              "       [ 0.65259845, -0.6472572 ,  1.03390963,  1.30309938],\n",
              "       [-1.02636846,  0.25589238, -1.42955736, -1.29013322],\n",
              "       [-0.0669588 , -0.6472572 ,  0.7539702 ,  1.56242264],\n",
              "       [-1.26622088, -0.19568241, -1.31758158, -1.41979485],\n",
              "       [ 1.13230328, -0.6472572 ,  0.58600654,  0.26580634],\n",
              "       [ 1.61200811, -0.19568241,  1.1458854 ,  0.5251296 ],\n",
              "       [-0.78651605, -0.8730446 ,  0.08211557,  0.26580634],\n",
              "       [-1.02636846,  1.15904196, -1.31758158, -1.29013322],\n",
              "       [ 0.65259845,  0.03010499,  0.97792174,  0.78445286],\n",
              "       [-0.90644226,  1.61061675, -1.2615937 , -1.16047159],\n",
              "       [-0.42673742, -1.77619418,  0.13810345,  0.13614471],\n",
              "       [-0.78651605,  0.70746717, -1.31758158, -1.29013322],\n",
              "       [ 2.21163915, -0.6472572 ,  1.64977638,  1.04377612],\n",
              "       [-0.0669588 , -1.09883199,  0.13810345,  0.00648308],\n",
              "       [-0.30681122, -0.19568241,  0.19409134,  0.13614471],\n",
              "       [ 2.09171295, -0.19568241,  1.59378849,  1.17343775],\n",
              "       [ 1.01237707,  0.03010499,  0.53001865,  0.39546797],\n",
              "       [-0.54666363, -0.19568241,  0.41804288,  0.39546797],\n",
              "       [ 2.45149157,  1.61061675,  1.48181272,  1.04377612],\n",
              "       [ 1.61200811,  1.15904196,  1.31384906,  1.69208428],\n",
              "       [-1.02636846,  0.70746717, -1.20560581, -1.03080996],\n",
              "       [-0.42673742, -1.32461939,  0.13810345,  0.13614471],\n",
              "       [ 1.01237707,  0.03010499,  0.362055  ,  0.26580634],\n",
              "       [-0.42673742, -1.55040678,  0.02612768, -0.12317855],\n",
              "       [ 1.01237707,  0.03010499,  1.03390963,  1.56242264]])"
            ]
          },
          "metadata": {},
          "execution_count": 14
        }
      ],
      "source": [
        "from sklearn.preprocessing import StandardScaler\n",
        "\n",
        "scaler = StandardScaler()\n",
        "\n",
        "scaler.fit(train_data) # computes the mean and std to be used for later scaling\n",
        "train_data_normalized = scaler.transform(train_data) # performs standardization by centering and scaling on the training features\n",
        "test_data_normalized = scaler.transform(test_data) # performs standardization by centering and scaling on the testing features\n",
        "train_data_normalized"
      ]
    },
    {
      "cell_type": "markdown",
      "metadata": {
        "id": "edsze81urP4y"
      },
      "source": [
        "# 💬 Group Exercise #2:\n",
        "\n",
        "With the aid of the [`sklearn.tree.DecisionTreeClassifier`](https://scikit-learn.org/stable/modules/generated/sklearn.tree.DecisionTreeClassifier.htm) documentation, try the following:\n",
        "- Create a decision tree with an early stopping parameter\n",
        "- Visualize your trees to see if it is working right.\n",
        "- Look at your performance metrics to see how it changes performance.\n",
        "- Determine which of the features (petal length, sepal length, etc) were the most important.How does it determine these numbers?"
      ]
    },
    {
      "cell_type": "code",
      "execution_count": null,
      "metadata": {
        "id": "c_Mn7GNyrP4y"
      },
      "outputs": [],
      "source": []
    },
    {
      "cell_type": "markdown",
      "metadata": {
        "id": "XUMIy3wurP4y"
      },
      "source": [
        "# 💬 Group Exercise #3:\n",
        "\n",
        "Check out the [scikit-learn documentation here](https://scikit-learn.org/stable/modules/classes.html)\n",
        "\n",
        "Find the documentation for the kNN classifier (i.e., the classifier, not an unsupervised algorithm). Answer the following questions:\n",
        "\n",
        "- What is the default value of k it uses?\n",
        "- Does it do weighted or unweighted kNN by default?\n",
        "- What is the accuracy on the Iris dataset for k = 100, both weighted and unweighted?\n",
        "- How do the weighted and unweighted versions do for small values of k?"
      ]
    },
    {
      "cell_type": "code",
      "execution_count": null,
      "metadata": {
        "id": "8QP_C8EtrP4z"
      },
      "outputs": [],
      "source": []
    },
    {
      "cell_type": "markdown",
      "metadata": {
        "id": "dN9L1Qo0rP4z"
      },
      "source": [
        "# Let's try regression now:\n",
        "\n",
        "Using the `vehicles.csv` dataset, let's try out sklearn with regression:\n",
        "- load the data, get the right subset\n",
        "- set predictors and target variables\n",
        "- use `train_test_split()` to split the data"
      ]
    },
    {
      "cell_type": "code",
      "execution_count": 32,
      "metadata": {
        "scrolled": true,
        "id": "-iFLNY2rrP4z",
        "outputId": "350d79b5-825f-4bf6-e530-ae1a5f1c0af1",
        "colab": {
          "base_uri": "https://localhost:8080/",
          "height": 243
        }
      },
      "outputs": [
        {
          "output_type": "stream",
          "name": "stderr",
          "text": [
            "<ipython-input-32-23a9041fd6cb>:7: DtypeWarning: Columns (70,71,72,73,74,76,79) have mixed types. Specify dtype option on import or set low_memory=False.\n",
            "  data = pandas.read_csv(path)\n"
          ]
        },
        {
          "output_type": "execute_result",
          "data": {
            "text/plain": [
              "       year  cylinders  displ\n",
              "4256   1985        4.0    2.2\n",
              "2685   1995        6.0    4.0\n",
              "35058  2020        6.0    4.3\n",
              "10678  1986        6.0    2.8\n",
              "18702  1984        8.0    5.0"
            ],
            "text/html": [
              "\n",
              "  <div id=\"df-f98409c0-ee70-4e9f-b639-a5b02690d624\" class=\"colab-df-container\">\n",
              "    <div>\n",
              "<style scoped>\n",
              "    .dataframe tbody tr th:only-of-type {\n",
              "        vertical-align: middle;\n",
              "    }\n",
              "\n",
              "    .dataframe tbody tr th {\n",
              "        vertical-align: top;\n",
              "    }\n",
              "\n",
              "    .dataframe thead th {\n",
              "        text-align: right;\n",
              "    }\n",
              "</style>\n",
              "<table border=\"1\" class=\"dataframe\">\n",
              "  <thead>\n",
              "    <tr style=\"text-align: right;\">\n",
              "      <th></th>\n",
              "      <th>year</th>\n",
              "      <th>cylinders</th>\n",
              "      <th>displ</th>\n",
              "    </tr>\n",
              "  </thead>\n",
              "  <tbody>\n",
              "    <tr>\n",
              "      <th>4256</th>\n",
              "      <td>1985</td>\n",
              "      <td>4.0</td>\n",
              "      <td>2.2</td>\n",
              "    </tr>\n",
              "    <tr>\n",
              "      <th>2685</th>\n",
              "      <td>1995</td>\n",
              "      <td>6.0</td>\n",
              "      <td>4.0</td>\n",
              "    </tr>\n",
              "    <tr>\n",
              "      <th>35058</th>\n",
              "      <td>2020</td>\n",
              "      <td>6.0</td>\n",
              "      <td>4.3</td>\n",
              "    </tr>\n",
              "    <tr>\n",
              "      <th>10678</th>\n",
              "      <td>1986</td>\n",
              "      <td>6.0</td>\n",
              "      <td>2.8</td>\n",
              "    </tr>\n",
              "    <tr>\n",
              "      <th>18702</th>\n",
              "      <td>1984</td>\n",
              "      <td>8.0</td>\n",
              "      <td>5.0</td>\n",
              "    </tr>\n",
              "  </tbody>\n",
              "</table>\n",
              "</div>\n",
              "    <div class=\"colab-df-buttons\">\n",
              "\n",
              "  <div class=\"colab-df-container\">\n",
              "    <button class=\"colab-df-convert\" onclick=\"convertToInteractive('df-f98409c0-ee70-4e9f-b639-a5b02690d624')\"\n",
              "            title=\"Convert this dataframe to an interactive table.\"\n",
              "            style=\"display:none;\">\n",
              "\n",
              "  <svg xmlns=\"http://www.w3.org/2000/svg\" height=\"24px\" viewBox=\"0 -960 960 960\">\n",
              "    <path d=\"M120-120v-720h720v720H120Zm60-500h600v-160H180v160Zm220 220h160v-160H400v160Zm0 220h160v-160H400v160ZM180-400h160v-160H180v160Zm440 0h160v-160H620v160ZM180-180h160v-160H180v160Zm440 0h160v-160H620v160Z\"/>\n",
              "  </svg>\n",
              "    </button>\n",
              "\n",
              "  <style>\n",
              "    .colab-df-container {\n",
              "      display:flex;\n",
              "      gap: 12px;\n",
              "    }\n",
              "\n",
              "    .colab-df-convert {\n",
              "      background-color: #E8F0FE;\n",
              "      border: none;\n",
              "      border-radius: 50%;\n",
              "      cursor: pointer;\n",
              "      display: none;\n",
              "      fill: #1967D2;\n",
              "      height: 32px;\n",
              "      padding: 0 0 0 0;\n",
              "      width: 32px;\n",
              "    }\n",
              "\n",
              "    .colab-df-convert:hover {\n",
              "      background-color: #E2EBFA;\n",
              "      box-shadow: 0px 1px 2px rgba(60, 64, 67, 0.3), 0px 1px 3px 1px rgba(60, 64, 67, 0.15);\n",
              "      fill: #174EA6;\n",
              "    }\n",
              "\n",
              "    .colab-df-buttons div {\n",
              "      margin-bottom: 4px;\n",
              "    }\n",
              "\n",
              "    [theme=dark] .colab-df-convert {\n",
              "      background-color: #3B4455;\n",
              "      fill: #D2E3FC;\n",
              "    }\n",
              "\n",
              "    [theme=dark] .colab-df-convert:hover {\n",
              "      background-color: #434B5C;\n",
              "      box-shadow: 0px 1px 3px 1px rgba(0, 0, 0, 0.15);\n",
              "      filter: drop-shadow(0px 1px 2px rgba(0, 0, 0, 0.3));\n",
              "      fill: #FFFFFF;\n",
              "    }\n",
              "  </style>\n",
              "\n",
              "    <script>\n",
              "      const buttonEl =\n",
              "        document.querySelector('#df-f98409c0-ee70-4e9f-b639-a5b02690d624 button.colab-df-convert');\n",
              "      buttonEl.style.display =\n",
              "        google.colab.kernel.accessAllowed ? 'block' : 'none';\n",
              "\n",
              "      async function convertToInteractive(key) {\n",
              "        const element = document.querySelector('#df-f98409c0-ee70-4e9f-b639-a5b02690d624');\n",
              "        const dataTable =\n",
              "          await google.colab.kernel.invokeFunction('convertToInteractive',\n",
              "                                                    [key], {});\n",
              "        if (!dataTable) return;\n",
              "\n",
              "        const docLinkHtml = 'Like what you see? Visit the ' +\n",
              "          '<a target=\"_blank\" href=https://colab.research.google.com/notebooks/data_table.ipynb>data table notebook</a>'\n",
              "          + ' to learn more about interactive tables.';\n",
              "        element.innerHTML = '';\n",
              "        dataTable['output_type'] = 'display_data';\n",
              "        await google.colab.output.renderOutput(dataTable, element);\n",
              "        const docLink = document.createElement('div');\n",
              "        docLink.innerHTML = docLinkHtml;\n",
              "        element.appendChild(docLink);\n",
              "      }\n",
              "    </script>\n",
              "  </div>\n",
              "\n",
              "\n",
              "<div id=\"df-25497baf-b8bf-4d6a-93e2-9970abef850e\">\n",
              "  <button class=\"colab-df-quickchart\" onclick=\"quickchart('df-25497baf-b8bf-4d6a-93e2-9970abef850e')\"\n",
              "            title=\"Suggest charts\"\n",
              "            style=\"display:none;\">\n",
              "\n",
              "<svg xmlns=\"http://www.w3.org/2000/svg\" height=\"24px\"viewBox=\"0 0 24 24\"\n",
              "     width=\"24px\">\n",
              "    <g>\n",
              "        <path d=\"M19 3H5c-1.1 0-2 .9-2 2v14c0 1.1.9 2 2 2h14c1.1 0 2-.9 2-2V5c0-1.1-.9-2-2-2zM9 17H7v-7h2v7zm4 0h-2V7h2v10zm4 0h-2v-4h2v4z\"/>\n",
              "    </g>\n",
              "</svg>\n",
              "  </button>\n",
              "\n",
              "<style>\n",
              "  .colab-df-quickchart {\n",
              "      --bg-color: #E8F0FE;\n",
              "      --fill-color: #1967D2;\n",
              "      --hover-bg-color: #E2EBFA;\n",
              "      --hover-fill-color: #174EA6;\n",
              "      --disabled-fill-color: #AAA;\n",
              "      --disabled-bg-color: #DDD;\n",
              "  }\n",
              "\n",
              "  [theme=dark] .colab-df-quickchart {\n",
              "      --bg-color: #3B4455;\n",
              "      --fill-color: #D2E3FC;\n",
              "      --hover-bg-color: #434B5C;\n",
              "      --hover-fill-color: #FFFFFF;\n",
              "      --disabled-bg-color: #3B4455;\n",
              "      --disabled-fill-color: #666;\n",
              "  }\n",
              "\n",
              "  .colab-df-quickchart {\n",
              "    background-color: var(--bg-color);\n",
              "    border: none;\n",
              "    border-radius: 50%;\n",
              "    cursor: pointer;\n",
              "    display: none;\n",
              "    fill: var(--fill-color);\n",
              "    height: 32px;\n",
              "    padding: 0;\n",
              "    width: 32px;\n",
              "  }\n",
              "\n",
              "  .colab-df-quickchart:hover {\n",
              "    background-color: var(--hover-bg-color);\n",
              "    box-shadow: 0 1px 2px rgba(60, 64, 67, 0.3), 0 1px 3px 1px rgba(60, 64, 67, 0.15);\n",
              "    fill: var(--button-hover-fill-color);\n",
              "  }\n",
              "\n",
              "  .colab-df-quickchart-complete:disabled,\n",
              "  .colab-df-quickchart-complete:disabled:hover {\n",
              "    background-color: var(--disabled-bg-color);\n",
              "    fill: var(--disabled-fill-color);\n",
              "    box-shadow: none;\n",
              "  }\n",
              "\n",
              "  .colab-df-spinner {\n",
              "    border: 2px solid var(--fill-color);\n",
              "    border-color: transparent;\n",
              "    border-bottom-color: var(--fill-color);\n",
              "    animation:\n",
              "      spin 1s steps(1) infinite;\n",
              "  }\n",
              "\n",
              "  @keyframes spin {\n",
              "    0% {\n",
              "      border-color: transparent;\n",
              "      border-bottom-color: var(--fill-color);\n",
              "      border-left-color: var(--fill-color);\n",
              "    }\n",
              "    20% {\n",
              "      border-color: transparent;\n",
              "      border-left-color: var(--fill-color);\n",
              "      border-top-color: var(--fill-color);\n",
              "    }\n",
              "    30% {\n",
              "      border-color: transparent;\n",
              "      border-left-color: var(--fill-color);\n",
              "      border-top-color: var(--fill-color);\n",
              "      border-right-color: var(--fill-color);\n",
              "    }\n",
              "    40% {\n",
              "      border-color: transparent;\n",
              "      border-right-color: var(--fill-color);\n",
              "      border-top-color: var(--fill-color);\n",
              "    }\n",
              "    60% {\n",
              "      border-color: transparent;\n",
              "      border-right-color: var(--fill-color);\n",
              "    }\n",
              "    80% {\n",
              "      border-color: transparent;\n",
              "      border-right-color: var(--fill-color);\n",
              "      border-bottom-color: var(--fill-color);\n",
              "    }\n",
              "    90% {\n",
              "      border-color: transparent;\n",
              "      border-bottom-color: var(--fill-color);\n",
              "    }\n",
              "  }\n",
              "</style>\n",
              "\n",
              "  <script>\n",
              "    async function quickchart(key) {\n",
              "      const quickchartButtonEl =\n",
              "        document.querySelector('#' + key + ' button');\n",
              "      quickchartButtonEl.disabled = true;  // To prevent multiple clicks.\n",
              "      quickchartButtonEl.classList.add('colab-df-spinner');\n",
              "      try {\n",
              "        const charts = await google.colab.kernel.invokeFunction(\n",
              "            'suggestCharts', [key], {});\n",
              "      } catch (error) {\n",
              "        console.error('Error during call to suggestCharts:', error);\n",
              "      }\n",
              "      quickchartButtonEl.classList.remove('colab-df-spinner');\n",
              "      quickchartButtonEl.classList.add('colab-df-quickchart-complete');\n",
              "    }\n",
              "    (() => {\n",
              "      let quickchartButtonEl =\n",
              "        document.querySelector('#df-25497baf-b8bf-4d6a-93e2-9970abef850e button');\n",
              "      quickchartButtonEl.style.display =\n",
              "        google.colab.kernel.accessAllowed ? 'block' : 'none';\n",
              "    })();\n",
              "  </script>\n",
              "</div>\n",
              "    </div>\n",
              "  </div>\n"
            ],
            "application/vnd.google.colaboratory.intrinsic+json": {
              "type": "dataframe",
              "variable_name": "train_data",
              "summary": "{\n  \"name\": \"train_data\",\n  \"rows\": 21488,\n  \"fields\": [\n    {\n      \"column\": \"year\",\n      \"properties\": {\n        \"dtype\": \"number\",\n        \"std\": 11,\n        \"min\": 1984,\n        \"max\": 2021,\n        \"num_unique_values\": 38,\n        \"samples\": [\n          2008,\n          1999,\n          1984\n        ],\n        \"semantic_type\": \"\",\n        \"description\": \"\"\n      }\n    },\n    {\n      \"column\": \"cylinders\",\n      \"properties\": {\n        \"dtype\": \"number\",\n        \"std\": 1.5181979929875844,\n        \"min\": 2.0,\n        \"max\": 12.0,\n        \"num_unique_values\": 8,\n        \"samples\": [\n          6.0,\n          3.0,\n          4.0\n        ],\n        \"semantic_type\": \"\",\n        \"description\": \"\"\n      }\n    },\n    {\n      \"column\": \"displ\",\n      \"properties\": {\n        \"dtype\": \"number\",\n        \"std\": 1.2714994472056278,\n        \"min\": 1.0,\n        \"max\": 7.4,\n        \"num_unique_values\": 53,\n        \"samples\": [\n          1.4,\n          1.9,\n          1.2\n        ],\n        \"semantic_type\": \"\",\n        \"description\": \"\"\n      }\n    }\n  ]\n}"
            }
          },
          "metadata": {},
          "execution_count": 32
        }
      ],
      "source": [
        "# load in the vehicles.csv data for scikit learn\n",
        "import pandas\n",
        "import numpy\n",
        "\n",
        "# load data, get the right subset\n",
        "path = '/content/drive/MyDrive/cs167_sp24/datasets/vehicles.csv'\n",
        "data = pandas.read_csv(path)\n",
        "gas_vehicles = data[data['fuelType']=='Regular'][['year', 'cylinders', 'displ', 'comb08']]\n",
        "gas_vehicles.dropna(inplace=True)\n",
        "\n",
        "# set the predictor variables and target variable\n",
        "predictors= ['year', 'cylinders', 'displ']\n",
        "target= 'comb08'\n",
        "\n",
        "# use train_test_split() to split the data\n",
        "train_data, test_data, train_sln, test_sln = train_test_split(gas_vehicles[predictors], gas_vehicles[target], test_size = 0.2, random_state=41)\n",
        "train_data.head()"
      ]
    },
    {
      "cell_type": "markdown",
      "metadata": {
        "id": "Z3MWKeIdrP4z"
      },
      "source": [
        "And then we do the next steps:\n",
        "- build our model using `neighbors.KNeighborsRegressor()`\n",
        "- fit our model using `fit()` and passing in `train_data` and `train_sln`\n",
        "- get our predictions by calling `predict()`\n",
        "- evaluate our predictions using `metrics.mean_squared_error()`, and `metrics.r2_score()`"
      ]
    },
    {
      "cell_type": "code",
      "execution_count": null,
      "metadata": {
        "id": "sIrq8WMBrP4z"
      },
      "outputs": [],
      "source": [
        "from sklearn import neighbors\n",
        "# create our model\n",
        "\n",
        "# fit (train) the model to the data\n",
        "\n",
        "# use the trained model to get predictions from our test_data\n",
        "\n",
        "# use a metric to see how good our predictions are\n"
      ]
    },
    {
      "cell_type": "markdown",
      "metadata": {
        "id": "ICToy3rVrP4z"
      },
      "source": [
        "# 💬 Group Exercise #4:\n",
        "Look up an appropriate Decision Tree algorithm and apply it to the vehicles data:\n",
        "- https://scikit-learn.org/stable/modules/classes.html\n",
        "- Using Default values of the decision tree, what is the $R^2$ metric?\n",
        "- Interpret the $R^2$ value... is it good or bad?"
      ]
    },
    {
      "cell_type": "code",
      "execution_count": null,
      "metadata": {
        "id": "g6ReObB9rP4z"
      },
      "outputs": [],
      "source": []
    },
    {
      "cell_type": "markdown",
      "metadata": {
        "id": "d_4eJ0T4rP4z"
      },
      "source": [
        "# 💬 Group Exercise #5:\n",
        "Change your decision tree to have a `max_depth` of 3.\n",
        "- does this help or hurt the decision tree performance?\n",
        "\n",
        "Compare your decision tree to a kNN algorithm:\n",
        "- what values of k seem to help the performance?\n",
        "- What else can you do to help the performance?\n",
        "\n",
        "Can you get a higher $R^2$ valuue using a knn algorithm or a decision tree?\n",
        "- what does this indicate about the data?"
      ]
    },
    {
      "cell_type": "code",
      "execution_count": null,
      "metadata": {
        "id": "6_mobdZJrP40"
      },
      "outputs": [],
      "source": []
    }
  ],
  "metadata": {
    "celltoolbar": "Slideshow",
    "kernelspec": {
      "display_name": "Python 3",
      "language": "python",
      "name": "python3"
    },
    "language_info": {
      "codemirror_mode": {
        "name": "ipython",
        "version": 3
      },
      "file_extension": ".py",
      "mimetype": "text/x-python",
      "name": "python",
      "nbconvert_exporter": "python",
      "pygments_lexer": "ipython3",
      "version": "3.8.3"
    },
    "colab": {
      "provenance": [],
      "include_colab_link": true
    }
  },
  "nbformat": 4,
  "nbformat_minor": 0
}