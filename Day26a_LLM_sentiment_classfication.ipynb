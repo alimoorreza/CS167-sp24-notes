{
  "nbformat": 4,
  "nbformat_minor": 0,
  "metadata": {
    "colab": {
      "provenance": [],
      "authorship_tag": "ABX9TyMqgV2tmeush8+zhKUhzNop",
      "include_colab_link": true
    },
    "kernelspec": {
      "name": "python3",
      "display_name": "Python 3"
    },
    "language_info": {
      "name": "python"
    }
  },
  "cells": [
    {
      "cell_type": "markdown",
      "metadata": {
        "id": "view-in-github",
        "colab_type": "text"
      },
      "source": [
        "<a href=\"https://colab.research.google.com/github/alimoorreza/CS167-sp24-notes/blob/main/Day26a_LLM_sentiment_classfication.ipynb\" target=\"_parent\"><img src=\"https://colab.research.google.com/assets/colab-badge.svg\" alt=\"Open In Colab\"/></a>"
      ]
    },
    {
      "cell_type": "code",
      "execution_count": null,
      "metadata": {
        "colab": {
          "base_uri": "https://localhost:8080/"
        },
        "id": "n0CmiA-R3Tk7",
        "outputId": "1acd2b90-3298-417c-c496-4086a8b76824"
      },
      "outputs": [
        {
          "output_type": "stream",
          "name": "stdout",
          "text": [
            "Requirement already satisfied: transformers in /usr/local/lib/python3.10/dist-packages (4.40.1)\n",
            "Requirement already satisfied: filelock in /usr/local/lib/python3.10/dist-packages (from transformers) (3.14.0)\n",
            "Requirement already satisfied: huggingface-hub<1.0,>=0.19.3 in /usr/local/lib/python3.10/dist-packages (from transformers) (0.20.3)\n",
            "Requirement already satisfied: numpy>=1.17 in /usr/local/lib/python3.10/dist-packages (from transformers) (1.25.2)\n",
            "Requirement already satisfied: packaging>=20.0 in /usr/local/lib/python3.10/dist-packages (from transformers) (24.0)\n",
            "Requirement already satisfied: pyyaml>=5.1 in /usr/local/lib/python3.10/dist-packages (from transformers) (6.0.1)\n",
            "Requirement already satisfied: regex!=2019.12.17 in /usr/local/lib/python3.10/dist-packages (from transformers) (2023.12.25)\n",
            "Requirement already satisfied: requests in /usr/local/lib/python3.10/dist-packages (from transformers) (2.31.0)\n",
            "Requirement already satisfied: tokenizers<0.20,>=0.19 in /usr/local/lib/python3.10/dist-packages (from transformers) (0.19.1)\n",
            "Requirement already satisfied: safetensors>=0.4.1 in /usr/local/lib/python3.10/dist-packages (from transformers) (0.4.3)\n",
            "Requirement already satisfied: tqdm>=4.27 in /usr/local/lib/python3.10/dist-packages (from transformers) (4.66.2)\n",
            "Requirement already satisfied: fsspec>=2023.5.0 in /usr/local/lib/python3.10/dist-packages (from huggingface-hub<1.0,>=0.19.3->transformers) (2023.6.0)\n",
            "Requirement already satisfied: typing-extensions>=3.7.4.3 in /usr/local/lib/python3.10/dist-packages (from huggingface-hub<1.0,>=0.19.3->transformers) (4.11.0)\n",
            "Requirement already satisfied: charset-normalizer<4,>=2 in /usr/local/lib/python3.10/dist-packages (from requests->transformers) (3.3.2)\n",
            "Requirement already satisfied: idna<4,>=2.5 in /usr/local/lib/python3.10/dist-packages (from requests->transformers) (3.7)\n",
            "Requirement already satisfied: urllib3<3,>=1.21.1 in /usr/local/lib/python3.10/dist-packages (from requests->transformers) (2.0.7)\n",
            "Requirement already satisfied: certifi>=2017.4.17 in /usr/local/lib/python3.10/dist-packages (from requests->transformers) (2024.2.2)\n"
          ]
        }
      ],
      "source": [
        "!pip install transformers"
      ]
    },
    {
      "cell_type": "markdown",
      "source": [
        "#Sentiment Analysis Model using Transformer-based large language model (LLM)\n",
        ">'many-to-one' mapping machine learning task"
      ],
      "metadata": {
        "id": "oRTe6v-v5l9j"
      }
    },
    {
      "cell_type": "code",
      "source": [
        "from transformers import pipeline\n",
        "sentiment_nlp_model = pipeline(\"sentiment-analysis\")\n",
        "input_sentences = [\"Reza loves machine learning\", \"Reza hates operating system\", \"Reza is talking and talking\"]\n",
        "\n",
        "for ii in range(len(input_sentences)):\n",
        "  result = sentiment_nlp_model(input_sentences[ii])[0]\n",
        "  print(f'sentiment for \\'{input_sentences[ii]}\\' is: {result}')"
      ],
      "metadata": {
        "colab": {
          "base_uri": "https://localhost:8080/"
        },
        "id": "9Hc5LKqp36rt",
        "outputId": "87fffde5-0119-44a4-b120-03b56991ec48"
      },
      "execution_count": null,
      "outputs": [
        {
          "output_type": "stream",
          "name": "stderr",
          "text": [
            "No model was supplied, defaulted to distilbert/distilbert-base-uncased-finetuned-sst-2-english and revision af0f99b (https://huggingface.co/distilbert/distilbert-base-uncased-finetuned-sst-2-english).\n",
            "Using a pipeline without specifying a model name and revision in production is not recommended.\n"
          ]
        },
        {
          "output_type": "stream",
          "name": "stdout",
          "text": [
            "sentiment for 'Reza loves machine learning' is: {'label': 'POSITIVE', 'score': 0.9985209107398987}\n",
            "sentiment for 'Reza hates operating system' is: {'label': 'NEGATIVE', 'score': 0.9989462494850159}\n",
            "sentiment for 'Reza is talking and talking' is: {'label': 'POSITIVE', 'score': 0.9962618947029114}\n"
          ]
        }
      ]
    },
    {
      "cell_type": "markdown",
      "source": [
        "# __Group Activty#1__\n",
        "1. Create at least four new sentences using the following format:\n",
        "\n",
        "|                 | Sentiment Type      \n",
        "|-----------------|-----------------\n",
        "| Sentence#1      | +ve sentiment  \n",
        "| Sentence#2      | -ve sentiment      \n",
        "| Sentence#3      | +ve sentiment   \n",
        "| Sentence#4      | -ve sentiment\n",
        "| Sentence#5      | +ve sentiment      \n",
        "| Sentence#6      | -ve sentiment   \n",
        "| Sentence#7      | -ve sentiment\n",
        "\n",
        "For example, my sentences could be inserted as Sentence #1 to Sentence #3 in the table below as follows:\n",
        "\n",
        "|                                    | Sentiment Type      \n",
        "|------------------------------------|-----------------\n",
        "| \"Reza loves machine learning\"      | +ve sentiment  \n",
        "| \"Reza hates operating system\"      | -ve sentiment      \n",
        "| \"Reza is talking and talking\".     | +ve sentiment   \n",
        "| ?                                  | -ve sentiment\n",
        "| ?                                  | +ve sentiment\n",
        "| ?                                  | -ve sentiment\n",
        "| ?                                  | +ve sentiment\n",
        "\n",
        "2. Try out the pre-trained model on these additional input sentences.\n",
        "3. Report the accuracy of your sentences."
      ],
      "metadata": {
        "id": "Mrv2_JXk8gpX"
      }
    },
    {
      "cell_type": "code",
      "source": [
        "# your code below\n",
        "# ..."
      ],
      "metadata": {
        "id": "Y3MtCg3G-hXJ"
      },
      "execution_count": null,
      "outputs": []
    }
  ]
}