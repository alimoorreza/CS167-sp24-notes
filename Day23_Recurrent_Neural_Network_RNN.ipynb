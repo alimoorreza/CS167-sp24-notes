{
  "cells": [
    {
      "cell_type": "markdown",
      "metadata": {
        "id": "view-in-github",
        "colab_type": "text"
      },
      "source": [
        "<a href=\"https://colab.research.google.com/github/alimoorreza/CS167-sp24-notes/blob/main/Day23_Recurrent_Neural_Network_RNN.ipynb\" target=\"_parent\"><img src=\"https://colab.research.google.com/assets/colab-badge.svg\" alt=\"Open In Colab\"/></a>"
      ]
    },
    {
      "cell_type": "markdown",
      "metadata": {
        "id": "HHJrUI0I4uVJ"
      },
      "source": [
        "# CS167: Day23\n",
        "## Deep Learning and Recurrent Neural Network (RNN)\n",
        "\n",
        "#### CS167: Machine Learning, Spring 2024\n",
        "\n",
        "Thursday, April 25th, 2024\n",
        "\n",
        "📆 [Course Schedule](https://analytics.drake.edu/~reza/teaching/cs167_sp24/cs167_schedule.html) | 📜 [Syllabus](https://analytics.drake.edu/~reza/teaching/cs167_sp24/cs167_syllabus_sp24.pdf)\n"
      ]
    },
    {
      "cell_type": "markdown",
      "source": [
        "# Resources:\n",
        "\n",
        "- [Understanding LSTM](https://colah.github.io/posts/2015-08-Understanding-LSTMs/)\n",
        "- [Unreasonable Effectiveness of RNNs](http://karpathy.github.io/2015/05/21/rnn-effectiveness)\n",
        "- [Intro to RNNs](https://towardsdatascience.com/a-brief-introduction-to-recurrent-neural-networks-638f64a61ff4)\n"
      ],
      "metadata": {
        "id": "ObKtx5ooywoZ"
      }
    },
    {
      "cell_type": "markdown",
      "source": [
        "## __Put the Model on Training Device (GPU or CPU)__\n",
        "We want to accelerate the training process using graphical processing unit (GPU). Fortunately, in Colab we can access for GPU. You need to enable it from _Runtime-->Change runtime type-->GPU or TPU_"
      ],
      "metadata": {
        "id": "OpvuEwrzrVe8"
      }
    },
    {
      "cell_type": "code",
      "source": [
        "# check to see if torch.cuda is available, otherwise it will use CPU\n",
        "import torch\n",
        "import torch.nn as nn\n",
        "import torchtext\n",
        "import numpy as np\n",
        "device = (\n",
        "    \"cuda\"\n",
        "    if torch.cuda.is_available()\n",
        "    else \"cpu\"\n",
        ")\n",
        "print(f\"Using {device} device\")\n"
      ],
      "metadata": {
        "colab": {
          "base_uri": "https://localhost:8080/"
        },
        "id": "jFa7eTujrik7",
        "outputId": "bb1c22d6-c6e2-4ec7-8f1c-130d52e831bb"
      },
      "execution_count": 1,
      "outputs": [
        {
          "output_type": "stream",
          "name": "stdout",
          "text": [
            "Using cuda device\n"
          ]
        }
      ]
    },
    {
      "cell_type": "markdown",
      "source": [
        "#__Load the Dataset for your RNN__"
      ],
      "metadata": {
        "id": "82757Boz0u5T"
      }
    },
    {
      "cell_type": "markdown",
      "source": [
        "- [Download this text file -- _shakespeare_text.txt_](https://analytics.drake.edu/~reza/teaching/cs167_fall23/dataset/shakespeare_text.txt)\n",
        "- Then, put it in your Google Drive."
      ],
      "metadata": {
        "id": "dDGk01A804vq"
      }
    },
    {
      "cell_type": "code",
      "source": [
        "from google.colab import drive\n",
        "drive.mount('/content/drive')"
      ],
      "metadata": {
        "colab": {
          "base_uri": "https://localhost:8080/"
        },
        "id": "2wepLktbnS7T",
        "outputId": "93cc6154-0082-4f12-841d-0aad4eaefb71"
      },
      "execution_count": 2,
      "outputs": [
        {
          "output_type": "stream",
          "name": "stdout",
          "text": [
            "Mounted at /content/drive\n"
          ]
        }
      ]
    },
    {
      "cell_type": "code",
      "source": [
        "file_name = 'shakespeare_text'\n",
        "path = '/content/drive/MyDrive/cs167_sp24/datasets/' + file_name + '.txt'\n",
        "with open(path, 'r') as file:\n",
        "  text_data = file.read() # read the entire text as a big string\n",
        "\n",
        "text_vocab = sorted(set(text_data.lower()))\n",
        "vocab_size = len(text_vocab)\n",
        "print(\"Vocabulary (referring to the alphabets representing your text data): \", text_vocab) # 'Vocabulary' refers to the alphabets present in your text data.\n",
        "print(\"\")\n",
        "print(\"Vocabulary size (number of letters in your alphabets): \", vocab_size) # 'Vocabulary' refers to the alphabets present in your text data.\n",
        "print(\"\")\n",
        "text_data_size = len(text_data)\n",
        "print(\"Total number of letters (or characters) in the dataset: \", text_data_size)\n",
        "print(\"\")\n"
      ],
      "metadata": {
        "id": "4kz7QVYF1ECa",
        "colab": {
          "base_uri": "https://localhost:8080/"
        },
        "outputId": "e8c276fc-c970-44b7-c91c-f53386300cc4"
      },
      "execution_count": 3,
      "outputs": [
        {
          "output_type": "stream",
          "name": "stdout",
          "text": [
            "Vocabulary (referring to the alphabets representing your text data):  ['\\n', ' ', '!', '$', '&', \"'\", ',', '-', '.', '3', ':', ';', '?', 'a', 'b', 'c', 'd', 'e', 'f', 'g', 'h', 'i', 'j', 'k', 'l', 'm', 'n', 'o', 'p', 'q', 'r', 's', 't', 'u', 'v', 'w', 'x', 'y', 'z']\n",
            "\n",
            "Vocabulary size (number of letters in your alphabets):  39\n",
            "\n",
            "Total number of letters (or characters) in the dataset:  1115394\n",
            "\n"
          ]
        }
      ]
    },
    {
      "cell_type": "markdown",
      "source": [
        "__Explore some sample training images__"
      ],
      "metadata": {
        "id": "3rcoqtTu1JH9"
      }
    },
    {
      "cell_type": "code",
      "source": [
        "# Visualize a random set of text ...\n",
        "for i in range(100):\n",
        "  print(text_data[i].lower(), end=\"\")"
      ],
      "metadata": {
        "id": "rNVp5mR51Lo5",
        "colab": {
          "base_uri": "https://localhost:8080/"
        },
        "outputId": "87318c40-325b-470c-fcc5-5d3ee23f4fbf"
      },
      "execution_count": 5,
      "outputs": [
        {
          "output_type": "stream",
          "name": "stdout",
          "text": [
            "first citizen:\n",
            "before we proceed any further, hear me speak.\n",
            "\n",
            "all:\n",
            "speak, speak.\n",
            "\n",
            "first citizen:\n",
            "you"
          ]
        }
      ]
    },
    {
      "cell_type": "markdown",
      "source": [
        "##__Prepare Your Data for Training__\n"
      ],
      "metadata": {
        "id": "5w26ZMYs1vL9"
      }
    },
    {
      "cell_type": "code",
      "source": [
        "# Step 1: create a mapping between the characters in our voculary to a set of numeric indices\n",
        "def convert_vocab_to_index(vocab):\n",
        "  vocab_to_index_dict = {}\n",
        "  for index, char in enumerate(vocab):\n",
        "    vocab_to_index_dict[char] = index\n",
        "  return vocab_to_index_dict\n",
        "\n",
        "def convert_index_to_vocab(vocab):\n",
        "  index_to_vocab_dict = {}\n",
        "  for index, char in enumerate(vocab):\n",
        "    index_to_vocab_dict[index] = char\n",
        "  return index_to_vocab_dict\n",
        "\n",
        "\n",
        "vocab_to_index_dict = convert_vocab_to_index(text_vocab)\n",
        "index_to_vocab_dict = convert_index_to_vocab(text_vocab)\n",
        "\n",
        "\n",
        "# Step 2: convert the text_data to numeric numbers using the above conversion method (this mapped data will be used for training)\n",
        "text_data_numeric_values = np.zeros(text_data_size)\n",
        "for i in range(text_data_size):\n",
        "  cur_character = text_data[i].lower()\n",
        "  text_data_numeric_values[i] = vocab_to_index_dict[cur_character]\n",
        "\n",
        "# Step 3: visualize the first few characters in our text_data\n",
        "for i in range(6):\n",
        "  print(\"character: \", text_data[i].lower(), \" encoded as: \", text_data_numeric_values[i])"
      ],
      "metadata": {
        "id": "x9hHtMpu130p",
        "colab": {
          "base_uri": "https://localhost:8080/"
        },
        "outputId": "79d24f9f-b2c9-4b10-d788-7fd91cbfbb28"
      },
      "execution_count": 6,
      "outputs": [
        {
          "output_type": "stream",
          "name": "stdout",
          "text": [
            "character:  f  encoded as:  18.0\n",
            "character:  i  encoded as:  21.0\n",
            "character:  r  encoded as:  30.0\n",
            "character:  s  encoded as:  31.0\n",
            "character:  t  encoded as:  32.0\n",
            "character:     encoded as:  1.0\n"
          ]
        }
      ]
    },
    {
      "cell_type": "code",
      "source": [
        "# we can also see the reverse encoding of the first few characters in our text_data\n",
        "encoding = [18, 21, 30, 31, 32, 1]\n",
        "for i in range(len(encoding)):\n",
        "  cur_character = index_to_vocab_dict[encoding[i]]\n",
        "  print(\"encoding: \", encoding[i], \" and the corresponding character is: \", cur_character)"
      ],
      "metadata": {
        "colab": {
          "base_uri": "https://localhost:8080/"
        },
        "id": "1oftHytw3B1-",
        "outputId": "d4716f96-7ea7-435d-9c0d-4b8db119a2b7"
      },
      "execution_count": 7,
      "outputs": [
        {
          "output_type": "stream",
          "name": "stdout",
          "text": [
            "encoding:  18  and the corresponding character is:  f\n",
            "encoding:  21  and the corresponding character is:  i\n",
            "encoding:  30  and the corresponding character is:  r\n",
            "encoding:  31  and the corresponding character is:  s\n",
            "encoding:  32  and the corresponding character is:  t\n",
            "encoding:  1  and the corresponding character is:   \n"
          ]
        }
      ]
    },
    {
      "cell_type": "code",
      "source": [
        "# convert the encoded numbers into tensor data types in PyTorch\n",
        "#train_data = torch.from_numpy(text_data_numeric_values).to(device)\n",
        "train_data = torch.LongTensor(text_data_numeric_values).to(device)"
      ],
      "metadata": {
        "id": "DcNcua-X4aoq"
      },
      "execution_count": 8,
      "outputs": []
    },
    {
      "cell_type": "code",
      "source": [
        "train_data"
      ],
      "metadata": {
        "colab": {
          "base_uri": "https://localhost:8080/"
        },
        "id": "0-bd6k9440D1",
        "outputId": "09f0e22a-448b-4758-8d22-2cda14eb2217"
      },
      "execution_count": 9,
      "outputs": [
        {
          "output_type": "execute_result",
          "data": {
            "text/plain": [
              "tensor([18, 21, 30,  ..., 19,  8,  0], device='cuda:0')"
            ]
          },
          "metadata": {},
          "execution_count": 9
        }
      ]
    },
    {
      "cell_type": "code",
      "source": [
        "train_data = torch.unsqueeze(train_data, dim=1) # make each number a separate sample for training\n",
        "train_data"
      ],
      "metadata": {
        "colab": {
          "base_uri": "https://localhost:8080/"
        },
        "id": "4QmvUx0T5EFB",
        "outputId": "4f7446b6-db05-402a-c885-7016e726411d"
      },
      "execution_count": 10,
      "outputs": [
        {
          "output_type": "execute_result",
          "data": {
            "text/plain": [
              "tensor([[18],\n",
              "        [21],\n",
              "        [30],\n",
              "        ...,\n",
              "        [19],\n",
              "        [ 8],\n",
              "        [ 0]], device='cuda:0')"
            ]
          },
          "metadata": {},
          "execution_count": 10
        }
      ]
    },
    {
      "cell_type": "markdown",
      "source": [
        "#__Building Recurrent Neural Network (RNN)__\n",
        "\n",
        "Create a network class with two methods:\n",
        "- _init()_\n",
        "- _forward()_\n"
      ],
      "metadata": {
        "id": "q4pTsgDsTEiw"
      }
    },
    {
      "cell_type": "code",
      "source": [
        "import torch\n",
        "from torch import nn\n",
        "\n",
        "# You can give any name to your new network, e.g., SimpleRNN.\n",
        "# However, you have to mandatorily inherit from nn.Module to\n",
        "# create your own network class. That way, you can access a lot of\n",
        "# useful methods and attributes from the parent class nn.Module\n",
        "\n",
        "class SimpleRNN(nn.Module):\n",
        "  def __init__(self):\n",
        "    super().__init__()\n",
        "    # your network layer construction should take place here\n",
        "    # ...\n",
        "    # ...\n",
        "\n",
        "  def forward(self, x):\n",
        "    # your code for RNN forward pass should take place here\n",
        "    # ...\n",
        "    # ...\n",
        "    return x"
      ],
      "metadata": {
        "id": "9DxGu6AUTW10"
      },
      "execution_count": null,
      "outputs": []
    },
    {
      "cell_type": "markdown",
      "source": [
        "Let's create the RNN as shown in the picture above using this template. In general, we will follow this template for constructing other neural networks such as MLP, CNN, RNN, and Transformer in PyTorch. Hence, it is a very generic setup. Here are the useful PyTorch modules we will be using for RNN construction:\n",
        "\n",
        "- [nn.Embedding()](https://pytorch.org/docs/stable/generated/torch.nn.Embedding.html)\n",
        "  - __num_embeddings__: size of the dictionary of embeddings\n",
        "  - __embedding_dim__: the size of each embedding vector\n",
        "  - e.g., _nn.Embedding(39, 39)_ will create a dictionary of 39 embedding vectors where each vector is represented with 39 floating point numbers\n",
        "<div>\n",
        "<img src=\"https://analytics.drake.edu/~reza/teaching/cs167_sp24/notes/embedding.png\" width=400/>\n",
        "</div>\n",
        "  - during forward pass, you should provide as input __a list of indices__, and the output is the corresponding word embeddings.\n",
        "- [nn.LSTM()](https://pytorch.org/docs/stable/generated/torch.nn.LSTM.html)"
      ],
      "metadata": {
        "id": "ww0jFonlZh4U"
      }
    },
    {
      "cell_type": "code",
      "source": [
        "import torch\n",
        "from torch import nn\n",
        "import pdb\n",
        "\n",
        "# You can give any name to your new network, e.g., SimpleRNN based on LSTM\n",
        "class SimpleRNNv1(nn.Module):\n",
        "  def __init__(self, vocab_size, hidden_size, output_size):\n",
        "    super().__init__()\n",
        "    # your network layer construction should take place here\n",
        "\n",
        "    # add an embedding layer which will convert index to a raw character let's\n",
        "    # say (1 which stands for 'a') or (2 which stands for 'b') or (3 which stands for 'c')\n",
        "    # to a vector [or length vocab_size] for that character\n",
        "    self.embedding        = nn.Embedding(vocab_size, vocab_size)\n",
        "    self.lstm             = nn.LSTM(input_size=vocab_size, hidden_size=hidden_size, num_layers=3)\n",
        "    self.classifier       = nn.Linear(hidden_size, output_size)\n",
        "\n",
        "  def forward(self, x_sequence, hidden_state):\n",
        "    # your code for RNN forward pass should take place here\n",
        "    embedded_code         = self.embedding(x_sequence)\n",
        "    output, hidden_state  = self.lstm(embedded_code, hidden_state)\n",
        "    output                = self.classifier(output)\n",
        "\n",
        "    return output, (hidden_state[0].detach(), hidden_state[1].detach())\n"
      ],
      "metadata": {
        "id": "HNuxDcIFYjY6"
      },
      "execution_count": 11,
      "outputs": []
    },
    {
      "cell_type": "code",
      "source": [
        "# check the structure of your RNN\n",
        "\n",
        "rnn_model = SimpleRNNv1(vocab_size, 512, vocab_size)\n",
        "rnn_model.to(device)\n",
        "print(rnn_model)"
      ],
      "metadata": {
        "colab": {
          "base_uri": "https://localhost:8080/"
        },
        "id": "ZlwRblRgmVlv",
        "outputId": "7e1235de-7c45-40f1-caa2-28df3128d110"
      },
      "execution_count": 13,
      "outputs": [
        {
          "output_type": "stream",
          "name": "stdout",
          "text": [
            "SimpleRNNv1(\n",
            "  (embedding): Embedding(39, 39)\n",
            "  (lstm): LSTM(39, 512, num_layers=3)\n",
            "  (classifier): Linear(in_features=512, out_features=39, bias=True)\n",
            ")\n"
          ]
        }
      ]
    },
    {
      "cell_type": "markdown",
      "source": [
        "#__Forward Pass using your Dataset and your RNN__\n",
        "Test a forward pass of our first RNN using one of the training samples.\n",
        "The forward method inside our network class, __SimpleRNNv1__, will be invoked if we provide an input tensor __X__ to the network object we instantiated earlier, i.e., __rnn_model__, as follows:\n",
        "- _output = rnn_model(X)_\n"
      ],
      "metadata": {
        "id": "HGToEDVFl9rQ"
      }
    },
    {
      "cell_type": "code",
      "source": [
        "start_index     = 0\n",
        "sequence_length = 100                                                        # if the sequence of text is      :  ['f', 'i', 'r', 's', 't', ' ', 's', 'e', 'n', 't', 'e', 'n', 'c', 'e', ...]\n",
        "input_sequence  = train_data[start_index:   start_index+sequence_length]     # if the given input sequence is  :  ['f', 'i', 'r', 's', 't']\n",
        "output_sequence = train_data[start_index+1: start_index+1+sequence_length]   # then expected output sequence is:  ['i', 'r', 's', 't', ' '] ie, next letter prediction\n",
        "\n",
        "# forward pass of our RNN\n",
        "hidden_state         = None\n",
        "output, hidden_state = rnn_model(input_sequence, hidden_state)\n",
        "print(\"output shape: \", output.shape)\n",
        "print(\"output mapping for the 1st-character: \\n\", output[0,:]) #\n",
        "print(\"output mapping for the 2nd-character: \\n\", output[1,:]) #"
      ],
      "metadata": {
        "colab": {
          "base_uri": "https://localhost:8080/"
        },
        "id": "7OQed_nsazcw",
        "outputId": "ffc90c43-c84d-42f2-ad73-b60d48686093"
      },
      "execution_count": 14,
      "outputs": [
        {
          "output_type": "stream",
          "name": "stdout",
          "text": [
            "output shape:  torch.Size([100, 1, 39])\n",
            "output mapping for the 1st-character: \n",
            " tensor([[-0.0050, -0.0340,  0.0337,  0.0148, -0.0102, -0.0389, -0.0205, -0.0452,\n",
            "          0.0242,  0.0201,  0.0209,  0.0207,  0.0009, -0.0359, -0.0043,  0.0113,\n",
            "          0.0198,  0.0235, -0.0412,  0.0028,  0.0329, -0.0123,  0.0004,  0.0016,\n",
            "          0.0352,  0.0050, -0.0411, -0.0155, -0.0311,  0.0102, -0.0141,  0.0142,\n",
            "         -0.0229,  0.0344, -0.0052, -0.0239, -0.0322, -0.0246, -0.0059]],\n",
            "       device='cuda:0', grad_fn=<SliceBackward0>)\n",
            "output mapping for the 2nd-character: \n",
            " tensor([[-0.0104, -0.0330,  0.0360,  0.0162, -0.0041, -0.0381, -0.0180, -0.0467,\n",
            "          0.0253,  0.0253,  0.0210,  0.0241,  0.0018, -0.0345, -0.0013,  0.0065,\n",
            "          0.0216,  0.0254, -0.0447,  0.0005,  0.0350, -0.0139, -0.0045,  0.0024,\n",
            "          0.0368,  0.0078, -0.0386, -0.0161, -0.0350,  0.0124, -0.0157,  0.0121,\n",
            "         -0.0272,  0.0358, -0.0024, -0.0299, -0.0319, -0.0271, -0.0112]],\n",
            "       device='cuda:0', grad_fn=<SliceBackward0>)\n"
          ]
        }
      ]
    },
    {
      "cell_type": "markdown",
      "source": [
        "##__Defining Loss function__\n",
        "\n",
        "- [nn.CrossEntropyLoss()](https://pytorch.org/docs/stable/generated/torch.nn.CrossEntropyLoss.html#torch.nn.CrossEntropyLoss)\n",
        "  - useful when training a __classification problem__ with __C__ classes.\n",
        "  - criterion computes the cross entropy loss between input logits and target"
      ],
      "metadata": {
        "id": "f1gTfGDJm-2Z"
      }
    },
    {
      "cell_type": "code",
      "source": [
        "# initialize the loss function\n",
        "loss_fn = nn.CrossEntropyLoss() # this is useful for multiclass classification task"
      ],
      "metadata": {
        "id": "OK1bAAANnLMz"
      },
      "execution_count": 15,
      "outputs": []
    },
    {
      "cell_type": "markdown",
      "source": [
        "##__Initializing the Optimizer__\n",
        "\n",
        "Optimiztaion, as we have discussed in previous week, is process of adjusting model parameters to reduce model error in each training step. PyTorch provides a selection of optimization algorithms in the [torch.optim](https://pytorch.org/docs/stable/optim.html) package. Some of them are as follows:\n",
        "- [torch.optim.SGD](https://pytorch.org/docs/stable/generated/torch.optim.SGD.html#torch.optim.SGD)\n",
        "- [torch.optim..Adam](https://pytorch.org/docs/stable/generated/torch.optim.Adam.html#torch.optim.Adam)\n",
        "- [torch.optim.RMSprop](https://pytorch.org/docs/stable/generated/torch.optim.RMSprop.html#torch.optim.RMSprop)\n",
        "\n",
        "In addition to selecting the optimizer, we can also select the yperparameters which are refered to as adjustable parameters crucial for controlling the model optimization process. You can influence the training and convergence of the model by tweaking these hyperparameters:\n",
        "- __epochs:__ denotes the number of iterations over the dataset\n",
        "- __batch size:__ represents the quantity of data samples in each iteration propagated through the network before updating the parameters\n",
        "- __learning rate:__ determines the extent of parameter updates made at each batch/epoch\n",
        "\n"
      ],
      "metadata": {
        "id": "J6Mwh6U1mGev"
      }
    },
    {
      "cell_type": "code",
      "source": [
        "learning_rate = 2e-3\n",
        "batch_size    = 1\n",
        "epochs        = 10\n",
        "# let's use ADAM optimization algorithm for training our model\n",
        "optimizer     = torch.optim.Adam(rnn_model.parameters(), lr=learning_rate)"
      ],
      "metadata": {
        "id": "11-Lj-avlzFo"
      },
      "execution_count": 16,
      "outputs": []
    },
    {
      "cell_type": "markdown",
      "source": [
        "#__Putting Everything Together RNN__"
      ],
      "metadata": {
        "id": "Z7yBVqvGmQM1"
      }
    },
    {
      "cell_type": "markdown",
      "source": [
        "__Putting Everything Together using our SimpleRNNv1 Network on Shakespeare Dataset__\n"
      ],
      "metadata": {
        "id": "Xn0KYm8r1i1i"
      }
    },
    {
      "cell_type": "code",
      "source": [
        "# Step 1: load the Torch library and other utilities\n",
        "#----------------------------------------------------\n",
        "# check to see if torch.cuda is available, otherwise it will use CPU\n",
        "import torch\n",
        "import torch.nn as nn\n",
        "import numpy as np\n",
        "import matplotlib.pyplot as plt\n",
        "from scipy.io import savemat\n",
        "import pdb\n",
        "import time\n",
        "\n",
        "device = (\n",
        "    \"cuda\"\n",
        "    if torch.cuda.is_available()\n",
        "    else \"cpu\"\n",
        ")\n",
        "print(f\"Using {device} device\")\n",
        "\n",
        "\n",
        "# Step 2: load the dataset, ie, we are experimenting with Shakespeare text\n",
        "#--------------------------------------------------------------------------------------------------\n",
        "file_name = 'shakespeare_text'\n",
        "path = '/content/drive/MyDrive/cs167_sp24/datasets/' + file_name + '.txt' # you can download the text file from Blackboard --> datasets\n",
        "with open(path, 'r') as file:\n",
        "  text_data = file.read() # read the entire text as a big string\n",
        "\n",
        "text_vocab = sorted(set(text_data.lower()))\n",
        "vocab_size = len(text_vocab)\n",
        "print(\"Vocabulary (referring to the alphabets present in your text data): \", text_vocab) # 'Vocabulary' refers to the alphabets present in your text data.\n",
        "print(\"\")\n",
        "print(\"Vocabulary size (referring to the alphabets present in your text data): \", vocab_size) # 'Vocabulary' refers to the alphabets present in your text data.\n",
        "print(\"\")\n",
        "text_data_size = len(text_data)\n",
        "print(\"Total number of letters (or characters) in the dataset: \", text_data_size)\n",
        "print(\"\")\n",
        "\n",
        "# First: create a mapping between the characters in our voculary to a set of numeric indices\n",
        "def convert_vocab_to_index(vocab):\n",
        "  vocab_to_index_dict = {}\n",
        "  for index, char in enumerate(vocab):\n",
        "    vocab_to_index_dict[char] = index\n",
        "  return vocab_to_index_dict\n",
        "\n",
        "def convert_index_to_vocab(vocab):\n",
        "  index_to_vocab_dict = {}\n",
        "  for index, char in enumerate(vocab):\n",
        "    index_to_vocab_dict[index] = char\n",
        "  return index_to_vocab_dict\n",
        "\n",
        "\n",
        "vocab_to_index_dict = convert_vocab_to_index(text_vocab)\n",
        "index_to_vocab_dict = convert_index_to_vocab(text_vocab)\n",
        "\n",
        "\n",
        "# Second: convert the text_data to numeric numbers using the above conversion method (this mapped data will be used for training)\n",
        "text_data_numeric_values = np.zeros(text_data_size)\n",
        "for i in range(text_data_size):\n",
        "  cur_character = text_data[i].lower()\n",
        "  text_data_numeric_values[i] = vocab_to_index_dict[cur_character]\n",
        "\n",
        "# Third: convert to tensor datatype\n",
        "\n",
        "train_data = torch.LongTensor(text_data_numeric_values).to(device)\n",
        "train_data = torch.unsqueeze(train_data, dim=1) # make each number a separate sample for training by putting them in a separate inner list\n",
        "\n",
        "\n",
        "\n",
        "# Step 3: Create your RNN Network (call it SimpleRNNv1) with 1 embedding layer + 3 layers of LSTM module\n",
        "#--------------------------------------------------------------------------------------------------\n",
        "\n",
        "# You can give any name to your new network, e.g., SimpleRNN based on LSTM\n",
        "# However, you have to mandatorily inherit from nn.Module to\n",
        "# create your own network class. That way, you can access a lot of\n",
        "# useful methods and attributes from the parent class nn.Module\n",
        "\n",
        "class SimpleRNNv1(nn.Module):\n",
        "  def __init__(self, vocab_size, hidden_size, output_size):\n",
        "    super().__init__()\n",
        "    # your network layer construction should take place here\n",
        "\n",
        "    # add an embedding layer which will convert index to a raw character let's say (1 which stands for 'a') or (2 which stands for 'b') or (3 which stands for 'c') to a vector [or length vocab_size] for that character\n",
        "    self.embedding        = nn.Embedding(vocab_size, vocab_size)\n",
        "    self.lstm             = nn.LSTM(input_size=vocab_size, hidden_size=hidden_size, num_layers=3)\n",
        "    self.classifier       = nn.Linear(hidden_size, output_size)\n",
        "\n",
        "  def forward(self, x_sequence, hidden_state):\n",
        "    # your code for RNN forward pass should take place here\n",
        "    embedded_code         = self.embedding(x_sequence)\n",
        "    output, hidden_state  = self.lstm(embedded_code, hidden_state)\n",
        "    output                = self.classifier(output)\n",
        "\n",
        "    return output, (hidden_state[0].detach(), hidden_state[1].detach())\n",
        "\n",
        "\n",
        "# check the structure of your RNN\n",
        "rnn_model = SimpleRNNv1(vocab_size, 512, vocab_size)\n",
        "rnn_model.to(device)\n",
        "print(rnn_model)\n",
        "\n",
        "# Step 4: Your training function\n",
        "#--------------------------------------------------------------------------------------\n",
        "\n",
        "\n",
        "def train_loop(model, loss_fn, optimizer, save_path):\n",
        "\n",
        "  sequence_length = 100\n",
        "  train_loss      = 0\n",
        "  hidden_state    = None\n",
        "  random_index    = np.random.randint(sequence_length)\n",
        "  iteration       = 0\n",
        "\n",
        "  for start_index in range(random_index, len(train_data)-sequence_length, sequence_length):\n",
        "    #pdb.set_trace()\n",
        "\n",
        "    input_sequence        = train_data[start_index:   start_index+sequence_length]     # eg, if the input sequence is: ['f', 'i', 'r', 's', 't']\n",
        "    gt_output_sequence    = train_data[start_index+1: start_index+1+sequence_length]   #  then the output sequence is: ['i', 'r', 's', 't', ' '] ie, next letter prediction\n",
        "\n",
        "    # compute prediction and loss\n",
        "    output_sequence, hidden_state   = model(input_sequence, hidden_state)\n",
        "    loss                            = loss_fn(torch.squeeze(output_sequence), torch.squeeze(gt_output_sequence))\n",
        "\n",
        "    # Backpropagation\n",
        "    loss.backward()\n",
        "    optimizer.step()\n",
        "    optimizer.zero_grad()\n",
        "\n",
        "    train_loss += loss.item()\n",
        "    iteration  += 1\n",
        "\n",
        "\n",
        "  print(f\"loss: {train_loss/iteration:>7f}\")\n",
        "  torch.save(model.state_dict(), save_path)\n",
        "\n",
        "  return train_loss/iteration\n",
        "\n",
        "\n",
        "# Step 5: select your optimizer and set the hyper-parameters for learning the model\n",
        "#------------------------------------------------------------------------------------------------------------------------------\n",
        "\n",
        "learning_rate = 2e-3\n",
        "epochs        = 10\n",
        "loss_fn       = nn.CrossEntropyLoss()\n",
        "optimizer     = torch.optim.Adam(rnn_model.parameters(), lr=learning_rate) # let's use ADAM optimization algorithm for training our model\n",
        "\n",
        "train_losses   = []\n",
        "save_path      = '/content/drive/MyDrive/cs167_fall23/datasets/rnn_model_' + file_name + '.pth'\n",
        "loss_save_path = '/content/drive/MyDrive/cs167_fall23/datasets/rnn_model_' + file_name + '_losses.mat'\n",
        "t0 = time.time()\n",
        "for t in range(epochs):\n",
        "    print(f\"Epoch {t+1}\\n-------------------------------\")\n",
        "    avg_train_loss = train_loop(rnn_model, loss_fn, optimizer, save_path)\n",
        "    # save the losses and accuracies\n",
        "    train_losses.append(avg_train_loss)\n",
        "    print(f\"completed in {(time.time()-t0)/60:.3f} minutes\")\n",
        "print(\"SimpleRNNv1 model has been trained!\")\n",
        "savemat(loss_save_path, {'train_losses':train_losses})\n"
      ],
      "metadata": {
        "id": "TE6r3j-71vjK",
        "colab": {
          "base_uri": "https://localhost:8080/"
        },
        "outputId": "59179f5e-ae95-40da-ff5f-e8de958d15d5"
      },
      "execution_count": null,
      "outputs": [
        {
          "output_type": "stream",
          "name": "stdout",
          "text": [
            "Using cuda device\n",
            "Vocabulary (referring to the alphabets present in your text data):  ['\\n', ' ', '!', '$', '&', \"'\", ',', '-', '.', '3', ':', ';', '?', 'a', 'b', 'c', 'd', 'e', 'f', 'g', 'h', 'i', 'j', 'k', 'l', 'm', 'n', 'o', 'p', 'q', 'r', 's', 't', 'u', 'v', 'w', 'x', 'y', 'z']\n",
            "\n",
            "Vocabulary size (referring to the alphabets present in your text data):  39\n",
            "\n",
            "Total number of letters (or characters) in the dataset:  1115394\n",
            "\n",
            "SimpleRNNv1(\n",
            "  (embedding): Embedding(39, 39)\n",
            "  (lstm): LSTM(39, 512, num_layers=3)\n",
            "  (classifier): Linear(in_features=512, out_features=39, bias=True)\n",
            ")\n",
            "Epoch 1\n",
            "-------------------------------\n",
            "loss: 1.497125\n",
            "completed in 2.785 minutes\n",
            "Epoch 2\n",
            "-------------------------------\n",
            "loss: 1.347375\n",
            "completed in 5.598 minutes\n",
            "Epoch 3\n",
            "-------------------------------\n",
            "loss: 1.325131\n",
            "completed in 8.361 minutes\n",
            "Epoch 4\n",
            "-------------------------------\n",
            "loss: 1.313675\n",
            "completed in 11.113 minutes\n",
            "Epoch 5\n",
            "-------------------------------\n",
            "loss: 1.306688\n",
            "completed in 13.860 minutes\n",
            "Epoch 6\n",
            "-------------------------------\n",
            "loss: 1.299119\n",
            "completed in 16.606 minutes\n",
            "Epoch 7\n",
            "-------------------------------\n",
            "loss: 1.289225\n",
            "completed in 19.356 minutes\n",
            "Epoch 8\n",
            "-------------------------------\n",
            "loss: 1.282728\n",
            "completed in 22.106 minutes\n",
            "Epoch 9\n",
            "-------------------------------\n",
            "loss: 1.278558\n",
            "completed in 24.856 minutes\n",
            "Epoch 10\n",
            "-------------------------------\n",
            "loss: 1.271841\n",
            "completed in 27.603 minutes\n",
            "SimpleRNNv1 model has been trained!\n"
          ]
        }
      ]
    },
    {
      "cell_type": "code",
      "source": [
        "# visualizing the training loss curve\n",
        "import matplotlib.pyplot as plt\n",
        "from scipy.io import savemat, loadmat\n",
        "loss_save_path = '/content/drive/MyDrive/cs167_sp24/datasets/rnn_model_' + file_name + '_losses.mat'\n",
        "res = loadmat(loss_save_path)\n",
        "train_losses = res['train_losses'][0]\n",
        "vis = 1\n",
        "if vis:\n",
        "    plt.plot(range(1,len(train_losses)+1), train_losses)\n",
        "    plt.title('Model average training losses after each epoch')\n",
        "    plt.ylabel('loss')\n",
        "    plt.xlabel('epoch')\n",
        "    plt.show()\n"
      ],
      "metadata": {
        "id": "3Lr9o0zY7LTQ",
        "colab": {
          "base_uri": "https://localhost:8080/",
          "height": 472
        },
        "outputId": "852fec7b-7465-4a37-9926-158e88c3a945"
      },
      "execution_count": null,
      "outputs": [
        {
          "output_type": "display_data",
          "data": {
            "text/plain": [
              "<Figure size 640x480 with 1 Axes>"
            ],
            "image/png": "[encoded data removed]"
          },
          "metadata": {}
        }
      ]
    },
    {
      "cell_type": "code",
      "source": [
        "# Step 6: Evaluate your model by testing its ability to generate new text that resembles Shakespearean language\n",
        "# -----------------------------------------------------------------\n",
        "\n",
        "class SimpleRNNv1(nn.Module):\n",
        "  def __init__(self, vocab_size, hidden_size, output_size):\n",
        "    super().__init__()\n",
        "    # your network layer construction should take place here\n",
        "\n",
        "    # add an embedding layer which will convert index to a raw character let's say (1 which stands for 'a') or (2 which stands for 'b') or (3 which stands for 'c') to a vector [or length vocab_size] for that character\n",
        "    self.embedding        = nn.Embedding(vocab_size, vocab_size)\n",
        "    self.lstm             = nn.LSTM(input_size=vocab_size, hidden_size=hidden_size, num_layers=3)\n",
        "    self.classifier       = nn.Linear(hidden_size, output_size)\n",
        "\n",
        "  def forward(self, x_sequence, hidden_state):\n",
        "    # your code for RNN forward pass should take place here\n",
        "    embedded_code         = self.embedding(x_sequence)\n",
        "    output, hidden_state  = self.lstm(embedded_code, hidden_state)\n",
        "    output                = self.classifier(output)\n",
        "\n",
        "    return output, (hidden_state[0].detach(), hidden_state[1].detach())\n",
        "\n",
        "\n",
        "def test_loop(model, seed_data, sequence_length = 1000):\n",
        "\n",
        "    model.eval()          # set the model to evaluation mode for best practices\n",
        "    hidden_state          = None\n",
        "    start_index           = 0\n",
        "    iteration             = 0\n",
        "\n",
        "    # provide first few characters to initialize the hidden state\n",
        "    seed_data_length      = len(seed_data)\n",
        "    init_output, hidden_state = model(seed_data[0:seed_data_length-1], hidden_state)\n",
        "    next_input = seed_data[seed_data_length-1]\n",
        "    next_input = torch.unsqueeze(next_input, dim=0)\n",
        "\n",
        "    # predict char one letter at a time\n",
        "    for i in range(sequence_length):\n",
        "      output, hidden_state = model(next_input, hidden_state)\n",
        "      output = torch.nn.functional.softmax(torch.squeeze(output), dim=0)\n",
        "      dist   = torch.distributions.Categorical(output)\n",
        "      index  = dist.sample().item()\n",
        "      #print(\"next character prediction is: \", index_to_vocab_dict[index])\n",
        "      print(index_to_vocab_dict[index], end=\"\")\n",
        "      next_input[0] = index\n",
        "\n",
        "\n",
        "    return None\n",
        "\n",
        "# load the model\n",
        "save_path             = '/content/drive/MyDrive/cs167_sp24/datasets/rnn_model_' + file_name + '.pth'\n",
        "rnn_model             = SimpleRNNv1(vocab_size, 512, vocab_size)\n",
        "rnn_model.to(device)\n",
        "#checkpoint = torch.load(save_path, map_location=torch.device('cpu')) # loaded a trained model on 'cpu' directly\n",
        "checkpoint = torch.load(save_path, map_location=torch.device(device)) # loaded a trained model\n",
        "rnn_model.load_state_dict( checkpoint )\n",
        "\n",
        "\n",
        "# provide an initial seed text to the test_loop() method for generating next sequence of characters\n",
        "seed_text  = \"hi ther\"\n",
        "encoding   = np.zeros(len(seed_text))\n",
        "for i in range(len(seed_text)):\n",
        "  encoding[i] = vocab_to_index_dict[seed_text[i].lower()]\n",
        "for i in range(len(encoding)):\n",
        "  cur_character = index_to_vocab_dict[encoding[i]]\n",
        "  print(\"encoding: \", encoding[i], \" and the corresponding character is: \", cur_character)\n",
        "#seed_data           = torch.LongTensor(encoding) # loaded a trained model on 'cpu' directly\n",
        "seed_data           = torch.LongTensor(encoding).to(device)\n",
        "seed_data           = torch.unsqueeze(seed_data, dim=1)\n",
        "test_loop(rnn_model, seed_data, sequence_length = 1000)"
      ],
      "metadata": {
        "id": "fWm_elrgJ1Gl",
        "colab": {
          "base_uri": "https://localhost:8080/"
        },
        "outputId": "91dcdfbe-5917-4e05-ff4e-9ef4416e5002"
      },
      "execution_count": 17,
      "outputs": [
        {
          "output_type": "stream",
          "name": "stdout",
          "text": [
            "encoding:  20.0  and the corresponding character is:  h\n",
            "encoding:  21.0  and the corresponding character is:  i\n",
            "encoding:  1.0  and the corresponding character is:   \n",
            "encoding:  32.0  and the corresponding character is:  t\n",
            "encoding:  20.0  and the corresponding character is:  h\n",
            "encoding:  17.0  and the corresponding character is:  e\n",
            "encoding:  30.0  and the corresponding character is:  r\n",
            "e ho\n",
            "kings there.\n",
            "\n",
            "dorset:\n",
            "sweet bishop our disvince, you go.\n",
            "\n",
            "prospero:\n",
            "intonighs, all the desergs\n",
            "and roaring money, tailors!\n",
            "so having on this ann temperes; without o' to\n",
            "the king's nature of bool enough.\n",
            "\n",
            "boarina:\n",
            "i\n",
            "cannot it unto musice.\n",
            "\n",
            "sebastian:\n",
            "you are necpition o' to the gloucns,\n",
            "or go bonding to the parlo,\n",
            "drow me well: and, for they and safely me\n",
            "ang and whose preservones, hound, widows.\n",
            "\n",
            "boatswatetoe:\n",
            "\n",
            "sebastian:\n",
            "i took upon.\n",
            "\n",
            "dartensio:\n",
            "his name;\n",
            "a good sword.\n",
            "\n",
            "lord.\n",
            "\n",
            "katharina:\n",
            "now i sadferce.\n",
            "\n",
            "antonio:\n",
            "o, be food resolvens best of your affecious\n",
            "counded log! he will obse it well hath drown\n",
            "lived it.\n",
            "\n",
            "lucentio:\n",
            "not water: sir, stark; and and let me respect\n",
            "for the knees, we'll well have it not nevery green\n",
            "who i learn, i am being then, how\n",
            "you are then to match: knees the murdereon:\n",
            "therefore quoteness. couth comes most queen;\n",
            "ow what saw me ignoble,\n",
            "whom naples comes, or am, and, good lordly\n",
            "would so cold, and singing walthel, i can delighe.\n",
            "\n",
            "prospero:\n",
            "no, sits.\n",
            "\n",
            "prosp"
          ]
        }
      ]
    },
    {
      "cell_type": "markdown",
      "source": [
        "#__Group Exercise__:\n",
        "Create another RNN with 3 layers of LSTM and then train that model on a text dataset of your choice. If you can't find anything interesting you can download the following dataset and then train your RNN model on that.\n",
        "- [Download this text file -- _baby names.txt_](https://analytics.drake.edu/~reza/teaching/cs167_sp24/dataset/baby_names.txt)\n",
        "- Then, put it in your Google Drive.\n",
        "- You can also find it on Blackboard.\n",
        "  - [Reference](http://www.cs.cmu.edu/afs/cs/project/ai-repository/ai/areas/nlp/corpora/names/)"
      ],
      "metadata": {
        "id": "p9MmCZ0--f9D"
      }
    },
    {
      "cell_type": "code",
      "source": [
        "# Step 1: load the Torch library and other utilities\n",
        "#----------------------------------------------------\n",
        "\n"
      ],
      "metadata": {
        "id": "kqJB4hncQdXm",
        "colab": {
          "base_uri": "https://localhost:8080/"
        },
        "outputId": "d80df479-4e26-441b-a12e-5a47ae0b0729"
      },
      "execution_count": 18,
      "outputs": [
        {
          "output_type": "stream",
          "name": "stdout",
          "text": [
            "Using cuda device\n"
          ]
        }
      ]
    },
    {
      "cell_type": "code",
      "source": [
        "# Step 2: load the dataset, ie, pick the dataset of your choice (baby_names or some thing else that you find interesting)\n",
        "#--------------------------------------------------------------------------------------------------\n",
        "file_name = 'baby_names'\n",
        "path = '/content/drive/MyDrive/cs167_sp24/datasets/' + file_name + '.txt' # you can download the text file from Blackboard --> datasets\n",
        "with open(path, 'r') as file:\n",
        "  text_data = file.read() # read the entire text as a big string\n",
        "\n",
        "text_vocab = sorted(set(text_data.lower()))\n",
        "vocab_size = len(text_vocab)\n",
        "print(\"Vocabulary (referring to the alphabets present in your text data): \", text_vocab) # 'Vocabulary' refers to the alphabets present in your text data.\n",
        "print(\"\")\n",
        "print(\"Vocabulary size (referring to the alphabets present in your text data): \", vocab_size) # 'Vocabulary' refers to the alphabets present in your text data.\n",
        "print(\"\")\n",
        "text_data_size = len(text_data)\n",
        "print(\"Total number of letters (or characters) in the dataset: \", text_data_size)\n",
        "print(\"\")\n",
        "\n",
        "# First: create a mapping between the characters in our voculary to a set of numeric indices\n",
        "def convert_vocab_to_index(vocab):\n",
        "  vocab_to_index_dict = {}\n",
        "  for index, char in enumerate(vocab):\n",
        "    vocab_to_index_dict[char] = index\n",
        "  return vocab_to_index_dict\n",
        "\n",
        "def convert_index_to_vocab(vocab):\n",
        "  index_to_vocab_dict = {}\n",
        "  for index, char in enumerate(vocab):\n",
        "    index_to_vocab_dict[index] = char\n",
        "  return index_to_vocab_dict\n",
        "\n",
        "\n",
        "vocab_to_index_dict = convert_vocab_to_index(text_vocab)\n",
        "index_to_vocab_dict = convert_index_to_vocab(text_vocab)\n",
        "\n",
        "\n",
        "# Second: convert the text_data to numeric numbers using the above conversion method (this mapped data will be used for training)\n",
        "text_data_numeric_values = np.zeros(text_data_size)\n",
        "for i in range(text_data_size):\n",
        "  cur_character = text_data[i].lower()\n",
        "  text_data_numeric_values[i] = vocab_to_index_dict[cur_character]\n",
        "\n",
        "# Third: convert to tensor datatype\n",
        "\n",
        "train_data = torch.LongTensor(text_data_numeric_values).to(device)\n",
        "train_data = torch.unsqueeze(train_data, dim=1) # make each number a separate sample for training by putting them in a separate inner list\n",
        "\n"
      ],
      "metadata": {
        "id": "chd7X5xB70Lp"
      },
      "execution_count": null,
      "outputs": []
    },
    {
      "cell_type": "code",
      "source": [
        "# Step 3: Create your RNN Network (call it SimpleRNNv1) with 1 embedding layer + 3 layers of LSTM module\n",
        "#--------------------------------------------------------------------------------------------------\n",
        "\n",
        "\n"
      ],
      "metadata": {
        "id": "NEzPNtrrQfeP"
      },
      "execution_count": null,
      "outputs": []
    },
    {
      "cell_type": "code",
      "source": [
        "# Step 4: Your training and testing functions\n",
        "#--------------------------------------------------------------------------------------\n",
        "\n"
      ],
      "metadata": {
        "id": "Yw6a5TByQklU"
      },
      "execution_count": 21,
      "outputs": []
    },
    {
      "cell_type": "code",
      "source": [
        "# Step 5: select your optimizer and set the hyper-parameters for learning the model\n",
        "#------------------------------------------------------------------------------------------------------------------------------\n"
      ],
      "metadata": {
        "id": "tejagPCKQztY"
      },
      "execution_count": null,
      "outputs": []
    },
    {
      "cell_type": "code",
      "source": [
        "# visualizing the training loss curve\n"
      ],
      "metadata": {
        "id": "El_YXz8Ol3Pr"
      },
      "execution_count": null,
      "outputs": []
    },
    {
      "cell_type": "code",
      "source": [
        "# Step 6: Evaluate your model by testing its ability to generate new baby names that resembles the ones it learned from 'baby_names.txt' file\n",
        "# -------------------------------------------------------------------------------------------------------------------------------------------\n"
      ],
      "metadata": {
        "colab": {
          "base_uri": "https://localhost:8080/"
        },
        "id": "6J2tJeDI_NLm",
        "outputId": "5c1f4053-aefb-4bf1-b017-a406b7668e60"
      },
      "execution_count": 25,
      "outputs": [
        {
          "output_type": "stream",
          "name": "stdout",
          "text": [
            "encoding:  11.0  and the corresponding character is:  h\n",
            "encoding:  12.0  and the corresponding character is:  i\n",
            "encoding:  1.0  and the corresponding character is:   \n",
            "encoding:  23.0  and the corresponding character is:  t\n",
            "encoding:  11.0  and the corresponding character is:  h\n",
            "encoding:  8.0  and the corresponding character is:  e\n",
            "encoding:  21.0  and the corresponding character is:  r\n",
            "\n",
            "thever\n",
            "wivlaith\n",
            "wilduth\n",
            "wilton\n",
            "wit\n",
            "wolch\n",
            "tonell\n",
            "wonette\n",
            "woney\n",
            "wovit\n",
            "wobgiel\n",
            "wogny\n",
            "woblaw\n",
            "wolfie\n",
            "wol\n",
            "wothan\n",
            "wodnaz\n",
            "wow\n",
            "woybeur\n",
            "woidaw\n",
            "woeland\n",
            "woachew\n",
            "wawby\n",
            "waibur\n",
            "wat\n",
            "waz\n",
            "ways\n",
            "tain\n",
            "wadey\n",
            "waighwin\n",
            "wuade\n",
            "wuiber\n",
            "wuedey\n",
            "vyfaid\n",
            "wianchfrinchwud\n",
            "widcher\n",
            "wiwger\n",
            "witthwoy\n",
            "wickie\n",
            "witwy\n",
            "wynah\n",
            "wistold\n",
            "wwuno\n",
            "wuine\n",
            "rwilley\n",
            "wwiotunne\n",
            "wlence\n",
            "wwonky\n",
            "vhaday\n",
            "wwode\n",
            "wir\n",
            "wirlen\n",
            "wiwn\n",
            "winy\n",
            "winwy\n",
            "wincmul\n",
            "wenthew\n",
            "winchaw\n",
            "windrick\n",
            "whonny\n",
            "wwinnard\n",
            "windhew\n",
            "wilthin\n",
            "wildon\n",
            "thole\n",
            "theb\n",
            "webliv\n",
            "bilton\n",
            "wilyo\n",
            "wilon\n",
            "wiris\n",
            "zhero\n",
            "nebbert\n",
            "wokfouut\n",
            "waodor\n",
            "wald\n",
            "waldon\n",
            "was\n",
            "walfh\n",
            "wawce\n",
            "blayke\n",
            "twos\n",
            "thiodaw\n",
            "wlefton\n",
            "wilett\n",
            "winill\n",
            "wir\n",
            "wirpie\n",
            "wirvine\n",
            "wirn\n",
            "wirvill\n",
            "twornine\n",
            "wivblil\n",
            "wimgie\n",
            "wiwclard\n",
            "wileod\n",
            "wimi ton\n",
            "thilbin\n",
            "wilson\n",
            "wylph\n",
            "wilwin\n",
            "willike\n",
            "willy\n",
            "wilmon\n",
            "wilmy\n",
            "tind\n",
            "rick\n",
            "wiwder\n",
            "wibpwel\n",
            "wit\n",
            "wyck\n",
            "widgin\n",
            "vidfawin\n",
            "wivis\n",
            "wiuuttick\n",
            "woncloin\n",
            "wownoldi\n",
            "wuudiy\n",
            "wulpine\n",
            "wuwce\n",
            "bwatten\n",
            "wyad\n",
            "wibclio\n",
            "wigobiart\n",
            "witwiav\n",
            "wilchay\n",
            "willie\n",
            "willbrotch\n",
            "willy\n",
            "wiuven\n",
            "wilen\n",
            "wiwery\n",
            "wolang\n",
            "wolin\n",
            "wyun\n",
            "winder\n",
            "winve\n",
            "wiwner\n",
            "wilgow\n",
            "wiley\n",
            "wilwer\n",
            "wilbfter\n",
            "wilner\n",
            "wilph"
          ]
        }
      ]
    }
  ],
  "metadata": {
    "celltoolbar": "Slideshow",
    "kernelspec": {
      "display_name": "Python 3",
      "name": "python3"
    },
    "language_info": {
      "codemirror_mode": {
        "name": "ipython",
        "version": 3
      },
      "file_extension": ".py",
      "mimetype": "text/x-python",
      "name": "python",
      "nbconvert_exporter": "python",
      "pygments_lexer": "ipython3",
      "version": "3.8.3"
    },
    "colab": {
      "provenance": [],
      "gpuType": "T4",
      "include_colab_link": true
    },
    "accelerator": "GPU"
  },
  "nbformat": 4,
  "nbformat_minor": 0
}