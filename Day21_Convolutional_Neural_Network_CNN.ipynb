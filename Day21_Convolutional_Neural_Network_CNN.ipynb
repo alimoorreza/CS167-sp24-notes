{
  "cells": [
    {
      "cell_type": "markdown",
      "metadata": {
        "id": "view-in-github",
        "colab_type": "text"
      },
      "source": [
        "<a href=\"https://colab.research.google.com/github/alimoorreza/CS167-sp24-notes/blob/main/Day21_Convolutional_Neural_Network_CNN.ipynb\" target=\"_parent\"><img src=\"https://colab.research.google.com/assets/colab-badge.svg\" alt=\"Open In Colab\"/></a>"
      ]
    },
    {
      "cell_type": "markdown",
      "metadata": {
        "id": "HHJrUI0I4uVJ"
      },
      "source": [
        "# CS167: Day21\n",
        "## Deep Learning and Convolutional Neural Network (CNN)\n",
        "\n",
        "#### CS167: Machine Learning, Spring 2024\n",
        "\n",
        "Thursday, April 18th, 2024\n",
        "\n",
        "📆 [Course Schedule](https://analytics.drake.edu/~reza/teaching/cs167_sp24/cs167_schedule.html) | 📜 [Syllabus](https://analytics.drake.edu/~reza/teaching/cs167_sp24/cs167_syllabus_sp24.pdf)"
      ]
    },
    {
      "cell_type": "markdown",
      "source": [
        "## __Put the Model on Training Device (GPU or CPU)__\n",
        "We want to accelerate the training process using graphical processing unit (GPU). Fortunately, in Colab we can access for GPU. You need to enable it from _Runtime-->Change runtime type-->GPU or TPU_"
      ],
      "metadata": {
        "id": "OpvuEwrzrVe8"
      }
    },
    {
      "cell_type": "code",
      "source": [
        "# check to see if torch.cuda is available, otherwise it will use CPU\n",
        "import torch\n",
        "import torch.nn as nn\n",
        "import numpy as np\n",
        "device = (\n",
        "    \"cuda\"\n",
        "    if torch.cuda.is_available()\n",
        "    else \"cpu\"\n",
        ")\n",
        "print(f\"Using {device} device\")\n"
      ],
      "metadata": {
        "colab": {
          "base_uri": "https://localhost:8080/"
        },
        "id": "jFa7eTujrik7",
        "outputId": "e57898d1-0f21-4f3f-a233-fdb9b87de8ed"
      },
      "execution_count": null,
      "outputs": [
        {
          "output_type": "stream",
          "name": "stdout",
          "text": [
            "Using cuda device\n"
          ]
        }
      ]
    },
    {
      "cell_type": "markdown",
      "source": [
        "#__Load the Dataset for your CNN__"
      ],
      "metadata": {
        "id": "82757Boz0u5T"
      }
    },
    {
      "cell_type": "markdown",
      "source": [
        "We can easily import some [built-in datasets](https://pytorch.org/vision/stable/datasets.html) from PyTorch's [torchvision.datasets](torchvision.datasets) module\n",
        "- [Fashion-MNIST](https://github.com/zalandoresearch/fashion-mnist)\n",
        "  - each image size: 28x28 grayscale image\n",
        "  - each image is associated with a label from __10 classes__\n",
        "  - training set of 60,000 examples and a test set of 10,000 examples\n",
        "\n",
        "<div>\n",
        "<img src=\"https://analytics.drake.edu/~reza/teaching/cs167_sp24/notes/images/fashion-mnist-sprite.png\" width=500/>\n",
        "</div>\n"
      ],
      "metadata": {
        "id": "dDGk01A804vq"
      }
    },
    {
      "cell_type": "code",
      "source": [
        "import torch\n",
        "from torch.utils.data import Dataset\n",
        "from torchvision import datasets # torchvision has many deep learning benchmark datasets Fashion-MNIST, CIFAR-10, Caltech-50, etc\n",
        "from torchvision.transforms import ToTensor\n",
        "import matplotlib.pyplot as plt\n",
        "\n",
        "\n",
        "training_data = datasets.FashionMNIST(\n",
        "    root=\"/content/drive/MyDrive/cs167_sp24/datasets\",\n",
        "    train=True,\n",
        "    download=True,\n",
        "    transform=ToTensor() # specify the feature and label transformations\n",
        ")\n",
        "\n",
        "test_data = datasets.FashionMNIST(\n",
        "    root=\"/content/drive/MyDrive/cs167_sp24/datasets\",\n",
        "    train=False,\n",
        "    download=True,\n",
        "    transform=ToTensor()\n",
        ")"
      ],
      "metadata": {
        "id": "4kz7QVYF1ECa"
      },
      "execution_count": null,
      "outputs": []
    },
    {
      "cell_type": "markdown",
      "source": [
        "__Explore some sample training images__"
      ],
      "metadata": {
        "id": "3rcoqtTu1JH9"
      }
    },
    {
      "cell_type": "code",
      "source": [
        "# Visualize a random set of images and their the labels from the training split\n",
        "# The following labels represent 10 classes, each with specific indices as defined by the creator of the Fashion-MNIST dataset\n",
        "# reference: https://github.com/zalandoresearch/fashion-mnist#labels\n",
        "labels_map = {\n",
        "    0: \"T-Shirt\",\n",
        "    1: \"Trouser\",\n",
        "    2: \"Pullover\",\n",
        "    3: \"Dress\",\n",
        "    4: \"Coat\",\n",
        "    5: \"Sandal\",\n",
        "    6: \"Shirt\",\n",
        "    7: \"Sneaker\",\n",
        "    8: \"Bag\",\n",
        "    9: \"Ankle Boot\",\n",
        "}\n",
        "figure = plt.figure(figsize=(5, 5))\n",
        "cols, rows = 5, 2\n",
        "for i in range(1, cols * rows + 1):\n",
        "    sample_idx = torch.randint(len(training_data), size=(1,)).item()\n",
        "    img, label = training_data[sample_idx]\n",
        "    figure.add_subplot(rows, cols, i)\n",
        "    plt.title(labels_map[label])\n",
        "    plt.axis(\"off\")\n",
        "    #print('image tensor size:', img.shape)\n",
        "    plt.imshow(img.squeeze(), cmap=\"gray\") # .squeeze() method removes the '1' from first dimension of the tensor [1, 28, 28]\n",
        "    #print('after removing the first dimension with ', img.squeeze().shape)\n",
        "plt.show()"
      ],
      "metadata": {
        "id": "rNVp5mR51Lo5",
        "colab": {
          "base_uri": "https://localhost:8080/",
          "height": 336
        },
        "outputId": "c33828f5-06eb-4a91-e01d-958a370d920d"
      },
      "execution_count": null,
      "outputs": [
        {
          "output_type": "display_data",
          "data": {
            "text/plain": [
              "<Figure size 500x500 with 10 Axes>"
            ],
            "image/png": "[encoded data removed]"
          },
          "metadata": {}
        }
      ]
    },
    {
      "cell_type": "markdown",
      "source": [
        "##__Prepare Your Data with DataLoader for Training/Testing__\n",
        "We just explored one sample of data at a time. As we have seen in our discussion of the optimizer, specifically __Stochastic Gradient Descent (SGD)__, during training your network, we may need to pass them in __minibatches__. PyTorch has a module called __DataLoader__, which will do this automatically for us as long as we provide the right arguments:\n",
        "- prepare the __minibatches__ with the given _batch_size_ eg 16, 32, 64, 128, etc\n",
        "- multiprocessing to speed up the data retrieval\n",
        "- reshuffle the data at every __epoch__\n"
      ],
      "metadata": {
        "id": "5w26ZMYs1vL9"
      }
    },
    {
      "cell_type": "code",
      "source": [
        "from torch.utils.data import DataLoader\n",
        "#                              pairs of items,   minibatch size,        random shuffling turned ON\n",
        "train_dataloader = DataLoader(training_data,     batch_size=128,        shuffle=True)\n",
        "test_dataloader  = DataLoader(test_data,         batch_size=128,        shuffle=False) # for testing/inference: it is not necessary to shuffle\n",
        "\n",
        "# explore the data from the train_dataloader\n",
        "train_inputs, train_labels = next(iter(train_dataloader)) # returns a batch of 128 train-images and train-labels\n",
        "print(f\"Images batch shape: {train_inputs.shape}\")\n",
        "print(f\"Labels batch shape: {train_labels.shape}\")\n",
        "\n",
        "# visualize one of the samples in this batch of 128\n",
        "figure = plt.figure(figsize=(2, 2))\n",
        "img = train_inputs[127].squeeze() # I picked 127 but you can pick any index in between 0 to batch_size=128\n",
        "label = train_labels[127]         # It's a tensor datatype\n",
        "plt.title(labels_map[int(label)]) # For indexing, convert the 'tensor' datatype --> integer number datatype\n",
        "plt.imshow(img, cmap=\"gray\")\n",
        "plt.show()\n",
        "print(f\"Label: {label}\")"
      ],
      "metadata": {
        "id": "x9hHtMpu130p",
        "colab": {
          "base_uri": "https://localhost:8080/",
          "height": 292
        },
        "outputId": "21c5a834-4950-4587-bd25-b17660d7401a"
      },
      "execution_count": null,
      "outputs": [
        {
          "output_type": "stream",
          "name": "stdout",
          "text": [
            "Images batch shape: torch.Size([128, 1, 28, 28])\n",
            "Labels batch shape: torch.Size([128])\n"
          ]
        },
        {
          "output_type": "display_data",
          "data": {
            "text/plain": [
              "<Figure size 200x200 with 1 Axes>"
            ],
            "image/png": "[encoded data removed]"
          },
          "metadata": {}
        },
        {
          "output_type": "stream",
          "name": "stdout",
          "text": [
            "Label: 7\n"
          ]
        }
      ]
    },
    {
      "cell_type": "markdown",
      "source": [
        "#__Building Convolutional Neural Network (CNN)__\n",
        "\n",
        "Create a network class with two methods:\n",
        "- _init()_\n",
        "- _forward()_\n"
      ],
      "metadata": {
        "id": "q4pTsgDsTEiw"
      }
    },
    {
      "cell_type": "code",
      "source": [
        "import torch\n",
        "from torch import nn\n",
        "\n",
        "# You can give any name to your new network, e.g., SimpleCNN.\n",
        "# However, you have to mandatorily inherit from nn.Module to\n",
        "# create your own network class. That way, you can access a lot of\n",
        "# useful methods and attributes from the parent class nn.Module\n",
        "\n",
        "class SimpleCNN(nn.Module):\n",
        "  def __init__(self):\n",
        "    super().__init__()\n",
        "    # your network layer construction should take place here\n",
        "    # ...\n",
        "    # ...\n",
        "\n",
        "  def forward(self, x):\n",
        "    # your code for CNN forward pass should take place here\n",
        "    # ...\n",
        "    # ...\n",
        "    return x"
      ],
      "metadata": {
        "id": "9DxGu6AUTW10"
      },
      "execution_count": null,
      "outputs": []
    },
    {
      "cell_type": "markdown",
      "source": [
        "Let's create the CNN as shown in the picture above using this template. In general, we will follow this template for constructing other neural networks such as MLP, CNN, RNN, and Transformer in PyTorch. Hence, it is a very generic setup. Here are the useful PyTorch modules we will be using for CNN construction:\n",
        "- [nn.Conv2d()](https://pytorch.org/docs/stable/generated/torch.nn.Conv2d.html)\n",
        "  - applies a 2D convolution over an input volume of $(C_{in}​,H_{in},W_{in})$ and produces an output volume of $(C_{out}​,H_{out},W_{out})$   between two adjacent layers.\n",
        "  - to create this, you need to provide the followings:\n",
        "    - __channel_dimension_of_input_layer__ i.e., $C_{in}$\n",
        "    - __channel_dimension_of_output_layer__ i.e., $C_{out}$\n",
        "    - __filter_size__ i.e., $F$\n",
        "\n",
        "  - the other two optional parameters are __stride__: $S=1$ and __padding__: $P=0$, with default values as shown. As discussed in class, PyTorch will calculate internally the sizes of output volume $H_{out}$ and $W_{out}$ from the above mentioned parameter values\n",
        "\n",
        "<div>\n",
        "<img src=\"https://analytics.drake.edu/~reza/teaching/cs167_sp24/notes/images/convolution-animation-3x3-kernel.gif\" width=800/>\n",
        "</div>\n",
        "\n",
        "[Source of this excellent visualization that vividly illustrates the proces](https://animatedai.github.io/)\n"
      ],
      "metadata": {
        "id": "ww0jFonlZh4U"
      }
    },
    {
      "cell_type": "code",
      "source": [
        "import torch\n",
        "from torch import nn\n",
        "import pdb\n",
        "\n",
        "class SimpleCNNv1(nn.Module):\n",
        "  def __init__(self):\n",
        "    super().__init__()\n",
        "    # your network layer construction should take place here\n",
        "\n",
        "    input_volume_channel_first            = 1\n",
        "    output_volume_channel_first           = 32\n",
        "    input_volume_channel_second           = 32\n",
        "    output_volume_channel_second          = 64\n",
        "    input_volume_channel_third            = 64\n",
        "    number_of_neurons_before_output_layer = 128\n",
        "    num_of_neurons_output_layer           = 10 # usually this number should be equal to the total number of classes in your classification task\n",
        "\n",
        "    # Beginning layers: a series of 2D convolutional layers (useful for feature map learning from the grid layouts of an image)\n",
        "    self.first_conv_2d              = nn.Conv2d(input_volume_channel_first, output_volume_channel_first, 3)  # 2D convolutional transformation module :input_volume_channel=1, output_volume_channel=32, filter_size= (3x3)\n",
        "    self.relu_activation_1st        = nn.ReLU()\n",
        "    self.second_conv_2d             = nn.Conv2d(input_volume_channel_second, output_volume_channel_second, 3) # 2D convolutional transformation module :input_volume_channel=32, output_volume_channel=64, filter_size= (3x3)\n",
        "    self.relu_activation_2nd        = nn.ReLU()\n",
        "\n",
        "    # -------------------------------------------------------------------------------------------------------------------------------------\n",
        "    # -------                                               heads up!                                                              --------\n",
        "    # you need to calculate the total_size_of_the_output_volume of your self.second_conv_2d layer,\n",
        "    # as it will be needed by the upcoming nn.Linear(). This number will be used as the first argument for the next nn.Linear().\n",
        "    # I pre-calculated this number, and it is 64*24*24 = 36864. I will plug this number in the next layer\n",
        "    # -------------------------------------------------------------------------------------------------------------------------------------\n",
        "\n",
        "    # End layers: a series of dense linear layers (almost like an MLP for final classification)\n",
        "    self.first_linear_layer         = nn.Linear(64*24*24, number_of_neurons_before_output_layer)  # linear transformation module (input=64*24*24, output=128)\n",
        "    self.relu_activation_3rd        = nn.ReLU()\n",
        "    self.output_layer               = nn.Linear(number_of_neurons_before_output_layer, num_of_neurons_output_layer) # linear transformation module (input=128, output=10)\n",
        "\n",
        "\n",
        "  def forward(self, x):\n",
        "    # your code for Conv_2d forward pass should take place here\n",
        "    output = self.first_conv_2d(x)\n",
        "    output = self.relu_activation_1st(output)\n",
        "    print('first_conv_2d output feature map size: ', output.shape)\n",
        "    output = self.second_conv_2d(output)\n",
        "    output = self.relu_activation_2nd(output)\n",
        "    print('second_conv_2d output feature map size: ', output.shape)\n",
        "\n",
        "    output = torch.flatten(output, 0)\n",
        "\n",
        "    # your code for MLP forward pass should take place here\n",
        "    output = self.first_linear_layer(output)\n",
        "    print('first linear layer feature map shape: ', output.shape)\n",
        "    output = self.relu_activation_3rd(output)\n",
        "    output = self.output_layer(output)\n",
        "    print('Output linear layer feature map shape: ', output.shape)\n",
        "\n",
        "\n",
        "    return output\n"
      ],
      "metadata": {
        "id": "HNuxDcIFYjY6"
      },
      "execution_count": null,
      "outputs": []
    },
    {
      "cell_type": "code",
      "source": [
        "# check the structure of your MLP\n",
        "cnn_model = SimpleCNNv1()\n",
        "print(cnn_model)"
      ],
      "metadata": {
        "colab": {
          "base_uri": "https://localhost:8080/"
        },
        "id": "ZlwRblRgmVlv",
        "outputId": "e8966dac-bcd6-4c01-de6e-7ac754f9a676"
      },
      "execution_count": null,
      "outputs": [
        {
          "output_type": "stream",
          "name": "stdout",
          "text": [
            "SimpleCNNv1(\n",
            "  (first_conv_2d): Conv2d(1, 32, kernel_size=(3, 3), stride=(1, 1))\n",
            "  (relu_activation_1st): ReLU()\n",
            "  (second_conv_2d): Conv2d(32, 64, kernel_size=(3, 3), stride=(1, 1))\n",
            "  (relu_activation_2nd): ReLU()\n",
            "  (first_linear_layer): Linear(in_features=36864, out_features=128, bias=True)\n",
            "  (relu_activation_3rd): ReLU()\n",
            "  (output_layer): Linear(in_features=128, out_features=10, bias=True)\n",
            ")\n"
          ]
        }
      ]
    },
    {
      "cell_type": "code",
      "source": [
        "# check the sizes of weights and biases of your MLP's 1st hidden layers\n",
        "print('size of weights of first_hidden_layer: \\n ', cnn_model.first_conv_2d.weight.shape)\n",
        "print('size of bias of first_hidden_layer: \\n ', cnn_model.first_conv_2d.bias.shape)"
      ],
      "metadata": {
        "colab": {
          "base_uri": "https://localhost:8080/"
        },
        "id": "5q0AlCh4vcDh",
        "outputId": "7514bcaa-2f04-4d01-ea7f-019ee2ad6fb5"
      },
      "execution_count": null,
      "outputs": [
        {
          "output_type": "stream",
          "name": "stdout",
          "text": [
            "size of weights of first_hidden_layer: \n",
            "  torch.Size([32, 1, 3, 3])\n",
            "size of bias of first_hidden_layer: \n",
            "  torch.Size([32])\n"
          ]
        }
      ]
    },
    {
      "cell_type": "code",
      "source": [
        "# check the randomly initialized values of weights and biases of your MLP's 1st hidden layers\n",
        "print('weights of first_conv_2d.weight: \\n ', cnn_model.first_conv_2d.weight)\n",
        "print('bias of first_conv_2d.weight: \\n ', cnn_model.first_conv_2d.bias)"
      ],
      "metadata": {
        "id": "8-WYre5Fu5qZ",
        "colab": {
          "base_uri": "https://localhost:8080/"
        },
        "outputId": "ca9e15a7-c79b-4bb3-d546-248be948727b"
      },
      "execution_count": null,
      "outputs": [
        {
          "output_type": "stream",
          "name": "stdout",
          "text": [
            "weights of first_conv_2d.weight: \n",
            "  Parameter containing:\n",
            "tensor([[[[-5.7959e-02, -2.8183e-01, -4.7714e-02],\n",
            "          [-3.0431e-03, -1.2557e-01, -7.9665e-03],\n",
            "          [ 3.2595e-01, -2.8487e-01, -2.3741e-01]]],\n",
            "\n",
            "\n",
            "        [[[ 1.0184e-01,  1.0093e-03, -2.1857e-01],\n",
            "          [-1.7634e-01,  4.4911e-02, -2.1040e-01],\n",
            "          [-2.5269e-01, -9.8669e-02,  1.0918e-01]]],\n",
            "\n",
            "\n",
            "        [[[ 2.5331e-01, -9.3670e-02,  9.5907e-03],\n",
            "          [ 2.7242e-01,  8.4809e-02, -1.5738e-01],\n",
            "          [-2.0073e-01, -4.7658e-03,  1.7851e-01]]],\n",
            "\n",
            "\n",
            "        [[[ 2.2058e-01, -2.4703e-01,  5.1600e-02],\n",
            "          [-2.1979e-02, -2.4003e-01, -1.9535e-01],\n",
            "          [ 1.7702e-01, -1.1952e-01, -1.5045e-01]]],\n",
            "\n",
            "\n",
            "        [[[-1.0278e-01, -1.2007e-01,  8.8517e-02],\n",
            "          [ 1.5513e-01,  8.6720e-02,  3.7773e-02],\n",
            "          [-1.9035e-01, -2.6775e-01, -1.8256e-01]]],\n",
            "\n",
            "\n",
            "        [[[ 6.6658e-02,  1.1720e-02, -2.2169e-02],\n",
            "          [ 6.5999e-03,  2.6302e-01,  2.3963e-01],\n",
            "          [-1.2186e-01, -2.9832e-01, -1.2211e-01]]],\n",
            "\n",
            "\n",
            "        [[[-1.3557e-01,  2.2681e-01, -2.3301e-01],\n",
            "          [-1.5229e-01, -3.8385e-02,  2.0988e-01],\n",
            "          [ 1.0130e-01,  7.8011e-04, -4.4891e-02]]],\n",
            "\n",
            "\n",
            "        [[[-2.0238e-01,  5.5989e-02,  1.5436e-01],\n",
            "          [ 1.4452e-01,  2.4775e-03, -9.0468e-02],\n",
            "          [ 3.2585e-01,  1.6269e-01,  1.4986e-01]]],\n",
            "\n",
            "\n",
            "        [[[ 2.7892e-02, -2.9731e-01, -1.4956e-01],\n",
            "          [ 2.3160e-01, -2.6306e-02,  9.5205e-03],\n",
            "          [ 2.3802e-01,  2.0931e-01,  4.8556e-02]]],\n",
            "\n",
            "\n",
            "        [[[ 2.2014e-01,  3.1577e-01,  6.4601e-02],\n",
            "          [ 2.1597e-01, -1.1956e-01,  2.3799e-02],\n",
            "          [-1.9867e-01, -6.4285e-02, -8.1860e-02]]],\n",
            "\n",
            "\n",
            "        [[[-1.5140e-01, -3.6444e-02, -1.3952e-01],\n",
            "          [-1.5567e-01, -1.3461e-01, -1.1645e-01],\n",
            "          [-2.7731e-02,  1.9810e-01,  2.4393e-01]]],\n",
            "\n",
            "\n",
            "        [[[ 1.2430e-04,  2.5425e-01,  1.0292e-01],\n",
            "          [-9.5540e-02,  6.5555e-02,  9.8370e-02],\n",
            "          [-2.4141e-01,  6.0357e-02, -1.0456e-01]]],\n",
            "\n",
            "\n",
            "        [[[-1.4593e-01, -1.6686e-01,  2.8949e-01],\n",
            "          [ 2.3180e-01, -7.8377e-02,  6.6631e-02],\n",
            "          [-1.6821e-02,  1.2797e-01,  2.9356e-01]]],\n",
            "\n",
            "\n",
            "        [[[-1.8341e-01, -2.5357e-01,  2.4502e-01],\n",
            "          [-5.2325e-02,  8.5707e-02,  8.1459e-02],\n",
            "          [-1.8341e-01, -1.2185e-01,  8.9271e-02]]],\n",
            "\n",
            "\n",
            "        [[[-2.7357e-01, -2.5470e-01, -1.6732e-01],\n",
            "          [ 1.1063e-03,  1.9032e-01, -2.1559e-01],\n",
            "          [ 2.2980e-02,  2.9019e-01,  2.4744e-01]]],\n",
            "\n",
            "\n",
            "        [[[ 5.8508e-02, -1.9706e-01, -3.5430e-02],\n",
            "          [-2.0935e-01, -3.2919e-01, -3.7097e-02],\n",
            "          [-3.2072e-01,  3.0774e-01, -6.1882e-02]]],\n",
            "\n",
            "\n",
            "        [[[-2.4448e-01,  2.4722e-01, -1.1582e-01],\n",
            "          [ 2.7502e-01, -2.1863e-01, -1.9135e-01],\n",
            "          [-1.6083e-02, -7.5198e-02, -1.5701e-01]]],\n",
            "\n",
            "\n",
            "        [[[ 3.0712e-01, -2.7078e-01,  2.1278e-02],\n",
            "          [-1.4634e-01, -8.6384e-02,  2.6171e-01],\n",
            "          [ 2.5834e-02, -7.3454e-02, -1.1548e-01]]],\n",
            "\n",
            "\n",
            "        [[[ 2.7373e-01,  3.0879e-02,  2.8695e-01],\n",
            "          [-2.3688e-01,  3.2582e-01, -1.7727e-01],\n",
            "          [ 3.1245e-01, -3.2112e-01, -2.0182e-02]]],\n",
            "\n",
            "\n",
            "        [[[ 6.2996e-02,  2.4136e-01,  1.4230e-02],\n",
            "          [-2.9475e-01,  3.1578e-01, -7.2543e-02],\n",
            "          [-2.7686e-01, -2.7225e-01,  3.1200e-01]]],\n",
            "\n",
            "\n",
            "        [[[-1.5055e-01, -3.1844e-01, -8.8089e-02],\n",
            "          [-1.7869e-02, -1.5085e-01, -3.2019e-01],\n",
            "          [-1.6198e-01, -1.9162e-01,  2.2954e-01]]],\n",
            "\n",
            "\n",
            "        [[[ 1.4924e-01,  2.7462e-01, -1.3725e-01],\n",
            "          [ 2.4337e-01, -1.5475e-01,  3.2912e-01],\n",
            "          [-9.5452e-02, -2.5924e-01, -3.3191e-01]]],\n",
            "\n",
            "\n",
            "        [[[ 1.8770e-01, -2.4418e-02,  2.8838e-01],\n",
            "          [-1.0866e-01,  1.9991e-01, -2.0937e-01],\n",
            "          [-2.2069e-01,  8.4829e-02,  6.3373e-02]]],\n",
            "\n",
            "\n",
            "        [[[ 1.6134e-01, -1.0337e-01, -8.1625e-02],\n",
            "          [-1.2425e-01, -3.0615e-01,  6.9195e-02],\n",
            "          [ 2.8962e-01, -2.2025e-01, -3.2562e-01]]],\n",
            "\n",
            "\n",
            "        [[[-7.1730e-02, -1.9706e-01,  1.6780e-01],\n",
            "          [-3.6165e-02, -1.2175e-01,  3.2579e-01],\n",
            "          [ 2.4872e-01, -1.2698e-01, -2.7793e-01]]],\n",
            "\n",
            "\n",
            "        [[[-4.4992e-02, -1.3998e-01, -1.2248e-02],\n",
            "          [-7.8034e-02,  8.8396e-02,  3.0860e-01],\n",
            "          [ 2.5339e-01,  2.0467e-01, -1.3708e-01]]],\n",
            "\n",
            "\n",
            "        [[[-2.5122e-02,  2.1537e-01, -2.7339e-01],\n",
            "          [ 2.1086e-01, -5.3711e-02,  1.9029e-01],\n",
            "          [-1.5773e-01, -3.0768e-01, -6.4035e-02]]],\n",
            "\n",
            "\n",
            "        [[[ 3.2363e-01,  3.1007e-01, -4.5622e-02],\n",
            "          [ 2.7766e-01, -8.8814e-02,  2.9109e-01],\n",
            "          [ 2.2299e-01, -2.0684e-02, -3.1462e-01]]],\n",
            "\n",
            "\n",
            "        [[[ 3.3401e-02, -1.3911e-01,  2.7390e-01],\n",
            "          [ 2.1062e-01, -1.4506e-01, -2.7739e-01],\n",
            "          [-9.9276e-02,  6.3753e-02, -2.2714e-01]]],\n",
            "\n",
            "\n",
            "        [[[ 4.5081e-02,  2.6128e-01, -7.8568e-02],\n",
            "          [-1.0696e-01, -2.7948e-01, -1.8938e-01],\n",
            "          [-1.7907e-01,  3.2064e-01, -2.4243e-01]]],\n",
            "\n",
            "\n",
            "        [[[-1.5021e-01,  1.5941e-01,  2.2152e-01],\n",
            "          [-2.2371e-01, -1.5252e-01, -1.1293e-02],\n",
            "          [ 2.3836e-01, -4.5091e-02,  3.1041e-01]]],\n",
            "\n",
            "\n",
            "        [[[ 2.8154e-02,  1.8658e-01, -2.4752e-01],\n",
            "          [ 1.7372e-01,  1.1269e-01, -4.4791e-02],\n",
            "          [-1.9129e-02,  4.6568e-03, -1.0390e-01]]]], requires_grad=True)\n",
            "bias of first_conv_2d.weight: \n",
            "  Parameter containing:\n",
            "tensor([-0.0280,  0.1498, -0.2756, -0.2018, -0.1542,  0.2337, -0.1601, -0.0316,\n",
            "        -0.2205, -0.0351, -0.0536,  0.1881, -0.3306, -0.2573,  0.2559,  0.0299,\n",
            "        -0.1606, -0.0296,  0.1735,  0.2729, -0.0382,  0.0821, -0.1443, -0.2421,\n",
            "         0.2235, -0.3142, -0.3113, -0.0146,  0.0583,  0.3103,  0.2394, -0.2376],\n",
            "       requires_grad=True)\n"
          ]
        }
      ]
    },
    {
      "cell_type": "markdown",
      "source": [
        "#__Forward Pass using your Dataset and your CNN__\n",
        "Test a forward pass of our first CNN using one of the training samples.\n",
        "The forward method inside our network class, __SimpleCNNv1__, will be invoked if we provide an input tensor __X__ to the network object we instantiated earlier, i.e., __cnn_model__, as follows:\n",
        "- _output = cnn_model(X)_\n",
        "\n",
        "Finally, we convert the ouput from the model into probabilities using __Softmax()__ module:\n",
        "- _pred_probab = softmax_activation(output)_\n",
        "\n"
      ],
      "metadata": {
        "id": "HGToEDVFl9rQ"
      }
    },
    {
      "cell_type": "code",
      "source": [
        "img   = train_inputs[100] # I picked 100 but you can pick any index in between 0 to batch_size=128\n",
        "label = train_labels[100]\n",
        "\n",
        "softmax_activation = nn.Softmax(dim=0)\n",
        "\n",
        "print('shape of X: ', img.shape)\n",
        "output      = cnn_model(img)                # last layer of our network will return 10 values each will range in between in [-infty, infty]\n",
        "pred_probab = softmax_activation(output)   # these raw numbers scaled to values [0, 1] representing the model’s predicted probabilities for each class\n",
        "print('predited probability \\n', pred_probab)\n",
        "y_pred      = pred_probab.argmax()\n",
        "print(f\"Predicted class: {y_pred}\")\n"
      ],
      "metadata": {
        "colab": {
          "base_uri": "https://localhost:8080/"
        },
        "id": "7OQed_nsazcw",
        "outputId": "c7ba5a03-25b6-4ccd-efce-c62a2a12e1aa"
      },
      "execution_count": null,
      "outputs": [
        {
          "output_type": "stream",
          "name": "stdout",
          "text": [
            "shape of X:  torch.Size([1, 28, 28])\n",
            "first_conv_2d output feature map size:  torch.Size([32, 26, 26])\n",
            "second_conv_2d output feature map size:  torch.Size([64, 24, 24])\n",
            "first linear layer feature map shape:  torch.Size([128])\n",
            "Output linear layer feature map shape:  torch.Size([10])\n",
            "predited probability \n",
            " tensor([0.1041, 0.0942, 0.0951, 0.1052, 0.0941, 0.1122, 0.1013, 0.1026, 0.0944,\n",
            "        0.0969], grad_fn=<SoftmaxBackward0>)\n",
            "Predicted class: 5\n"
          ]
        }
      ]
    },
    {
      "cell_type": "code",
      "source": [
        "# model parameter counts to find out how many parameter this model will learn from the data\n",
        "for name, param in cnn_model.named_parameters():\n",
        "    print(f\"Layer: {name} | Size: {param.size()} \\n\")\n"
      ],
      "metadata": {
        "colab": {
          "base_uri": "https://localhost:8080/"
        },
        "id": "XCqis2b5kU8A",
        "outputId": "a163726d-8fc2-40e6-a5b7-64835248aaad"
      },
      "execution_count": null,
      "outputs": [
        {
          "output_type": "stream",
          "name": "stdout",
          "text": [
            "Layer: first_conv_2d.weight | Size: torch.Size([32, 1, 3, 3]) \n",
            "\n",
            "Layer: first_conv_2d.bias | Size: torch.Size([32]) \n",
            "\n",
            "Layer: second_conv_2d.weight | Size: torch.Size([64, 32, 3, 3]) \n",
            "\n",
            "Layer: second_conv_2d.bias | Size: torch.Size([64]) \n",
            "\n",
            "Layer: first_linear_layer.weight | Size: torch.Size([128, 36864]) \n",
            "\n",
            "Layer: first_linear_layer.bias | Size: torch.Size([128]) \n",
            "\n",
            "Layer: output_layer.weight | Size: torch.Size([10, 128]) \n",
            "\n",
            "Layer: output_layer.bias | Size: torch.Size([10]) \n",
            "\n"
          ]
        }
      ]
    },
    {
      "cell_type": "markdown",
      "source": [
        "##__Defining Loss function__\n",
        "\n",
        "- [nn.CrossEntropyLoss()](https://pytorch.org/docs/stable/generated/torch.nn.CrossEntropyLoss.html#torch.nn.CrossEntropyLoss)\n",
        "  - useful when training a __classification problem__ with __C__ classes.\n",
        "  - criterion computes the cross entropy loss between input logits and target\n",
        "- [nn.MSELoss()](https://pytorch.org/docs/stable/generated/torch.nn.MSELoss.html#torch.nn.MSELoss)\n",
        "  - useful when training a __regression problem__\n",
        "  - criterion that measures the mean squared error (squared L2 norm) between each element in the input _x_ and target _y_\n"
      ],
      "metadata": {
        "id": "f1gTfGDJm-2Z"
      }
    },
    {
      "cell_type": "code",
      "source": [
        "# initialize the loss function\n",
        "loss_fn = nn.CrossEntropyLoss() # this is useful for multiclass classification task"
      ],
      "metadata": {
        "id": "OK1bAAANnLMz"
      },
      "execution_count": null,
      "outputs": []
    },
    {
      "cell_type": "markdown",
      "source": [
        "##__Initializing the Optimizer__\n",
        "\n",
        "Optimiztaion, as we have discussed in previous week, is process of adjusting model parameters to reduce model error in each training step. PyTorch provides a selection of optimization algorithms in the [torch.optim](https://pytorch.org/docs/stable/optim.html) package. Some of them are as follows:\n",
        "- [torch.optim.SGD](https://pytorch.org/docs/stable/generated/torch.optim.SGD.html#torch.optim.SGD)\n",
        "- [torch.optim..Adam](https://pytorch.org/docs/stable/generated/torch.optim.Adam.html#torch.optim.Adam)\n",
        "- [torch.optim.RMSprop](https://pytorch.org/docs/stable/generated/torch.optim.RMSprop.html#torch.optim.RMSprop)\n",
        "\n",
        "In addition to selecting the optimizer, we can also select the yperparameters which are refered to as adjustable parameters crucial for controlling the model optimization process. You can influence the training and convergence of the model by tweaking these hyperparameters:\n",
        "- __epochs:__ denotes the number of iterations over the dataset\n",
        "- __batch size:__ represents the quantity of data samples in each iteration propagated through the network before updating the parameters\n",
        "- __learning rate:__ determines the extent of parameter updates made at each batch/epoch\n",
        "\n"
      ],
      "metadata": {
        "id": "J6Mwh6U1mGev"
      }
    },
    {
      "cell_type": "code",
      "source": [
        "learning_rate = 1e-3\n",
        "batch_size    = 64\n",
        "epochs        = 10\n",
        "# let's use SGD optimization algorithm for training our model\n",
        "optimizer     = torch.optim.SGD(cnn_model.parameters(), lr=learning_rate)"
      ],
      "metadata": {
        "id": "11-Lj-avlzFo"
      },
      "execution_count": null,
      "outputs": []
    },
    {
      "cell_type": "markdown",
      "source": [
        "__Simpliefy the CNN Network with PyTorch's Sequential() Module__"
      ],
      "metadata": {
        "id": "pIDHTABd4wU1"
      }
    },
    {
      "cell_type": "code",
      "source": [
        "import torch\n",
        "from torch import nn\n",
        "\n",
        "class SimpleCNNv2(nn.Module):\n",
        "  def __init__(self):\n",
        "    super().__init__()\n",
        "    # your network layer construction should take place here\n",
        "\n",
        "    input_volume_channel_first            = 1\n",
        "    output_volume_channel_first           = 32\n",
        "    input_volume_channel_second           = 32\n",
        "    output_volume_channel_second          = 64\n",
        "    number_of_neurons_before_output_layer = 128\n",
        "    num_of_neurons_output_layer           = 10 # usually this number should be equal to the total number of classes in your classification task\n",
        "\n",
        "    # Beginning layers: a series of 2D convolutional layers (useful for feature map learning from the grid layouts of an image)\n",
        "    self.conv_layers = nn.Sequential(\n",
        "            nn.Conv2d(input_volume_channel_first, output_volume_channel_first, 3),  # 2D convolutional transformation module :input_volume_channel=3, output_volume_channel=32, filter_size= (3x3)\n",
        "            nn.ReLU(),\n",
        "            nn.Conv2d(input_volume_channel_second, output_volume_channel_second, 3), # 2D convolutional transformation module :input_volume_channel=32, output_volume_channel=64, filter_size= (3x3)\n",
        "            nn.ReLU()\n",
        "        )\n",
        "\n",
        "    # --------------------------------------------------------------------------\n",
        "    # -------                 heads up!                                 --------\n",
        "    # you need to calculate the total_size_of_the_output_volume of your self.second_conv_2d layer,\n",
        "    # as it will be needed by the upcoming nn.Linear(). This number will be used as the first argument for the next nn.Linear().\n",
        "    # I pre-calculated this number, and it is 64*24*24 = 36864. I will plug this number in the next layer\n",
        "    # --------------------------------------------------------------------------\n",
        "    self.flatten                    = nn.Flatten()\n",
        "\n",
        "    # End layers: a series of dense linear layers (almost like an MLP for final classification)\n",
        "    self.linear_layers = nn.Sequential(\n",
        "            nn.Linear(64*24*24, number_of_neurons_before_output_layer),  # linear transformation module (input=64*24*24, output=128)\n",
        "            nn.ReLU(),\n",
        "            nn.Linear(number_of_neurons_before_output_layer, num_of_neurons_output_layer) # linear transformation module (input=128, output=10)\n",
        "        )\n",
        "\n",
        "\n",
        "  def forward(self, x):\n",
        "    # your code for Conv_2d forward pass should take place here\n",
        "    output = self.conv_layers(x)\n",
        "    output = self.flatten(output)\n",
        "    output = self.linear_layers(output)\n",
        "    return output\n",
        "\n",
        "cnn_model = SimpleCNNv2()\n",
        "print(cnn_model)"
      ],
      "metadata": {
        "colab": {
          "base_uri": "https://localhost:8080/"
        },
        "id": "Js7bNs2y9HZA",
        "outputId": "c26f9385-244c-4dfc-feb7-b2977c8c0620"
      },
      "execution_count": null,
      "outputs": [
        {
          "output_type": "stream",
          "name": "stdout",
          "text": [
            "SimpleCNNv2(\n",
            "  (conv_layers): Sequential(\n",
            "    (0): Conv2d(1, 32, kernel_size=(3, 3), stride=(1, 1))\n",
            "    (1): ReLU()\n",
            "    (2): Conv2d(32, 64, kernel_size=(3, 3), stride=(1, 1))\n",
            "    (3): ReLU()\n",
            "  )\n",
            "  (flatten): Flatten(start_dim=1, end_dim=-1)\n",
            "  (linear_layers): Sequential(\n",
            "    (0): Linear(in_features=36864, out_features=128, bias=True)\n",
            "    (1): ReLU()\n",
            "    (2): Linear(in_features=128, out_features=10, bias=True)\n",
            "  )\n",
            ")\n"
          ]
        }
      ]
    },
    {
      "cell_type": "markdown",
      "source": [
        "#__Putting Everything Together CNN__"
      ],
      "metadata": {
        "id": "Z7yBVqvGmQM1"
      }
    },
    {
      "cell_type": "markdown",
      "source": [
        "__Putting Everything Together using our SimpleCNNv2 Network on Fashion-MNIST Dataset__\n"
      ],
      "metadata": {
        "id": "Xn0KYm8r1i1i"
      }
    },
    {
      "cell_type": "code",
      "source": [
        "# Step 1: load the Torch library and other utilities\n",
        "#----------------------------------------------------\n",
        "\n",
        "import torch\n",
        "from torch import nn\n",
        "from torch.utils.data import DataLoader\n",
        "from torchvision import datasets\n",
        "from torchvision.transforms import ToTensor\n",
        "import matplotlib.pyplot as plt\n",
        "import time\n",
        "\n",
        "# Step 2: load the dataset, ie, we are experimenting with Fashion-MNIST\n",
        "#--------------------------------------------------------------------------------------------------\n",
        "\n",
        "training_data = datasets.FashionMNIST(\n",
        "    root=\"/content/drive/MyDrive/cs167_sp24/datasets\",\n",
        "    train=True,\n",
        "    download=True,\n",
        "    transform=ToTensor() # specify the feature and label transformations\n",
        ")\n",
        "\n",
        "test_data = datasets.FashionMNIST(\n",
        "    root=\"/content/drive/MyDrive/cs167_sp24/datasets\",\n",
        "    train=False,\n",
        "    download=True,\n",
        "    transform=ToTensor()\n",
        ")\n",
        "\n",
        "# Step 3: Create your CNN Network (call it SimpleCNNv2) with 2 conv_2d layers + 2 layers of MLP\n",
        "#--------------------------------------------------------------------------------------------------\n",
        "class SimpleCNNv2(nn.Module):\n",
        "  def __init__(self):\n",
        "    super().__init__()\n",
        "    # your network layer construction should take place here\n",
        "\n",
        "    input_volume_channel_first            = 1\n",
        "    output_volume_channel_first           = 32\n",
        "    input_volume_channel_second           = 32\n",
        "    output_volume_channel_second          = 64\n",
        "    number_of_neurons_before_output_layer = 128\n",
        "    num_of_neurons_output_layer           = 10 # usually this number should be equal to the total number of classes in your classification task\n",
        "\n",
        "    # Beginning layers: a series of 2D convolutional layers (useful for feature map learning from the grid layouts of an image)\n",
        "    self.conv_layers = nn.Sequential(\n",
        "            nn.Conv2d(input_volume_channel_first, output_volume_channel_first, 3),  # 2D convolutional transformation module :input_volume_channel=3, output_volume_channel=32, filter_size= (3x3)\n",
        "            nn.ReLU(),\n",
        "            nn.Conv2d(input_volume_channel_second, output_volume_channel_second, 3), # 2D convolutional transformation module :input_volume_channel=32, output_volume_channel=64, filter_size= (3x3)\n",
        "            nn.ReLU()\n",
        "        )\n",
        "\n",
        "    # --------------------------------------------------------------------------\n",
        "    # -------                 heads up!                                 --------\n",
        "    # you need to calculate the total_size_of_the_output_volume of your self.second_conv_2d layer,\n",
        "    # as it will be needed by the upcoming nn.Linear(). This number will be used as the first argument for the next nn.Linear().\n",
        "    # I pre-calculated this number, and it is 64*24*24 = 36864. I will plug this number in the next layer\n",
        "    # --------------------------------------------------------------------------\n",
        "    self.flatten                    = nn.Flatten()\n",
        "\n",
        "    # End layers: a series of dense linear layers (almost like an MLP for final classification)\n",
        "    self.linear_layers = nn.Sequential(\n",
        "            nn.Linear(64*24*24, number_of_neurons_before_output_layer),  # linear transformation module (input=64*24*24, output=128)\n",
        "            nn.ReLU(),\n",
        "            nn.Linear(number_of_neurons_before_output_layer, num_of_neurons_output_layer) # linear transformation module (input=128, output=10)\n",
        "        )\n",
        "\n",
        "\n",
        "  def forward(self, x):\n",
        "    # your code for Conv_2d forward pass should take place here\n",
        "    output = self.conv_layers(x)\n",
        "    output = self.flatten(output)\n",
        "    output = self.linear_layers(output)\n",
        "    return output\n",
        "\n",
        "\n",
        "# Step 4: Your training and testing functions (you can copy it from the previous demo)\n",
        "#--------------------------------------------------------------------------------------\n",
        "\n",
        "\n",
        "def train_loop(dataloader, model, loss_fn, optimizer):\n",
        "\n",
        "    size = len(dataloader.dataset)\n",
        "\n",
        "    model.train()                   # set the model to training mode for best practices\n",
        "\n",
        "    train_loss = 0\n",
        "\n",
        "    for batch, (X, y) in enumerate(dataloader):\n",
        "\n",
        "        # compute prediction and loss\n",
        "        X = X.to(device)                  # send data to the GPU device (if available)\n",
        "        y = y.to(device)\n",
        "        pred = model(X)\n",
        "        loss = loss_fn(pred, y)\n",
        "\n",
        "        # Backpropagation\n",
        "        loss.backward()\n",
        "        optimizer.step()\n",
        "        optimizer.zero_grad()\n",
        "\n",
        "        train_loss += loss.item()\n",
        "\n",
        "        if batch % 100 == 0:\n",
        "            loss, current = loss.item(), (batch + 1) * len(X)\n",
        "            print(f\"loss: {loss:>7f}  [{current:>5d}/{size:>5d}]\")\n",
        "\n",
        "    return train_loss/len(dataloader)\n",
        "\n",
        "def test_loop(dataloader, model, loss_fn):\n",
        "\n",
        "    model.eval()                    # set the model to evaluation mode for best practices\n",
        "\n",
        "    size        = len(dataloader.dataset)\n",
        "    num_batches = len(dataloader)\n",
        "    test_loss, correct = 0, 0\n",
        "\n",
        "    # Evaluating the model with torch.no_grad() ensures that no gradients are computed during test mode\n",
        "    # also serves to reduce unnecessary gradient computations and memory usage for tensors with requires_grad=True\n",
        "    with torch.no_grad():\n",
        "        for X, y in dataloader:\n",
        "\n",
        "            X = X.to(device)                     # send data to the GPU device (if available)\n",
        "            y = y.to(device)\n",
        "            pred = model(X)\n",
        "            test_loss += loss_fn(pred, y).item()\n",
        "            correct += (pred.argmax(1) == y).type(torch.float).sum().item()\n",
        "\n",
        "    test_loss /= num_batches\n",
        "    correct /= size\n",
        "    print(f\"Test Error: \\n Accuracy: {(100*correct):>0.1f}%, Avg loss: {test_loss:>8f} \\n\")\n",
        "    return test_loss\n",
        "\n",
        "\n",
        "# Step 5: prepare the DataLoader and select your optimizer and set the hyper-parameters for learning the model from DataLoader\n",
        "#------------------------------------------------------------------------------------------------------------------------------\n",
        "\n",
        "cnn_model = SimpleCNNv2()\n",
        "cnn_model.to(device)\n",
        "print(cnn_model)\n",
        "\n",
        "learning_rate   = 1e-3\n",
        "batch_size_val  = 64\n",
        "epochs          = 10\n",
        "loss_fn         = nn.CrossEntropyLoss()\n",
        "optimizer       = torch.optim.SGD(cnn_model.parameters(), lr=learning_rate)\n",
        "\n",
        "# prepare the DataLoader using the batch_size for minibatch processing\n",
        "train_dataloader = DataLoader(training_data, batch_size=batch_size_val)\n",
        "test_dataloader = DataLoader(test_data, batch_size=batch_size_val)\n",
        "\n",
        "\n",
        "train_losses = []\n",
        "test_losses  = []\n",
        "start_time   = time.time()\n",
        "for t in range(epochs):\n",
        "    print(f\"Epoch {t+1}\\n-------------------------------\")\n",
        "    avg_train_loss = train_loop(train_dataloader, cnn_model, loss_fn, optimizer)\n",
        "    avg_test_loss  = test_loop(test_dataloader, cnn_model, loss_fn)\n",
        "    train_losses.append(avg_train_loss)\n",
        "    test_losses.append(avg_test_loss)\n",
        "print(\"SimpleCNNv2 model has been trained!\")\n",
        "print(\"Total fine-tuning time: %.3f sec\" %( (time.time()-start_time)) )\n",
        "print(\"Total fine-tuning time: %.3f hrs\" %( (time.time()-start_time)/3600) )\n",
        "\n",
        "\n",
        "\n",
        "\n",
        "# visualizing the loss curves\n",
        "plt.plot(range(1,epochs+1), train_losses)\n",
        "plt.plot(range(1,epochs+1), test_losses)\n",
        "plt.title('Model average losses after each epoch')\n",
        "plt.ylabel('loss')\n",
        "plt.xlabel('epoch')\n",
        "plt.legend(['train', 'test'])\n",
        "plt.show()\n"
      ],
      "metadata": {
        "colab": {
          "base_uri": "https://localhost:8080/",
          "height": 1000
        },
        "id": "TE6r3j-71vjK",
        "outputId": "0043db92-6c3f-46a4-e983-5d21bcc6c311"
      },
      "execution_count": null,
      "outputs": [
        {
          "output_type": "stream",
          "name": "stdout",
          "text": [
            "SimpleCNNv2(\n",
            "  (conv_layers): Sequential(\n",
            "    (0): Conv2d(1, 32, kernel_size=(3, 3), stride=(1, 1))\n",
            "    (1): ReLU()\n",
            "    (2): Conv2d(32, 64, kernel_size=(3, 3), stride=(1, 1))\n",
            "    (3): ReLU()\n",
            "  )\n",
            "  (flatten): Flatten(start_dim=1, end_dim=-1)\n",
            "  (linear_layers): Sequential(\n",
            "    (0): Linear(in_features=36864, out_features=128, bias=True)\n",
            "    (1): ReLU()\n",
            "    (2): Linear(in_features=128, out_features=10, bias=True)\n",
            "  )\n",
            ")\n",
            "Epoch 1\n",
            "-------------------------------\n",
            "loss: 2.307616  [   64/60000]\n",
            "loss: 2.245836  [ 6464/60000]\n",
            "loss: 2.113168  [12864/60000]\n",
            "loss: 1.943347  [19264/60000]\n",
            "loss: 1.586181  [25664/60000]\n",
            "loss: 1.299241  [32064/60000]\n",
            "loss: 1.151411  [38464/60000]\n",
            "loss: 0.922438  [44864/60000]\n",
            "loss: 0.905207  [51264/60000]\n",
            "loss: 0.883870  [57664/60000]\n",
            "Test Error: \n",
            " Accuracy: 71.8%, Avg loss: 0.824859 \n",
            "\n",
            "Epoch 2\n",
            "-------------------------------\n",
            "loss: 0.815762  [   64/60000]\n",
            "loss: 0.848835  [ 6464/60000]\n",
            "loss: 0.577746  [12864/60000]\n",
            "loss: 0.816279  [19264/60000]\n",
            "loss: 0.730884  [25664/60000]\n",
            "loss: 0.718134  [32064/60000]\n",
            "loss: 0.758115  [38464/60000]\n",
            "loss: 0.668060  [44864/60000]\n",
            "loss: 0.684430  [51264/60000]\n",
            "loss: 0.715405  [57664/60000]\n",
            "Test Error: \n",
            " Accuracy: 76.2%, Avg loss: 0.665946 \n",
            "\n",
            "Epoch 3\n",
            "-------------------------------\n",
            "loss: 0.595814  [   64/60000]\n",
            "loss: 0.682661  [ 6464/60000]\n",
            "loss: 0.451731  [12864/60000]\n",
            "loss: 0.713334  [19264/60000]\n",
            "loss: 0.655380  [25664/60000]\n",
            "loss: 0.662486  [32064/60000]\n",
            "loss: 0.672538  [38464/60000]\n",
            "loss: 0.632218  [44864/60000]\n",
            "loss: 0.668703  [51264/60000]\n",
            "loss: 0.639691  [57664/60000]\n",
            "Test Error: \n",
            " Accuracy: 77.4%, Avg loss: 0.621301 \n",
            "\n",
            "Epoch 4\n",
            "-------------------------------\n",
            "loss: 0.538641  [   64/60000]\n",
            "loss: 0.617713  [ 6464/60000]\n",
            "loss: 0.414215  [12864/60000]\n",
            "loss: 0.675270  [19264/60000]\n",
            "loss: 0.629218  [25664/60000]\n",
            "loss: 0.636947  [32064/60000]\n",
            "loss: 0.628454  [38464/60000]\n",
            "loss: 0.619574  [44864/60000]\n",
            "loss: 0.676291  [51264/60000]\n",
            "loss: 0.590203  [57664/60000]\n",
            "Test Error: \n",
            " Accuracy: 77.9%, Avg loss: 0.600860 \n",
            "\n",
            "Epoch 5\n",
            "-------------------------------\n",
            "loss: 0.514007  [   64/60000]\n",
            "loss: 0.587616  [ 6464/60000]\n",
            "loss: 0.394283  [12864/60000]\n",
            "loss: 0.648546  [19264/60000]\n",
            "loss: 0.614958  [25664/60000]\n",
            "loss: 0.611103  [32064/60000]\n",
            "loss: 0.600195  [38464/60000]\n",
            "loss: 0.615036  [44864/60000]\n",
            "loss: 0.681441  [51264/60000]\n",
            "loss: 0.553691  [57664/60000]\n",
            "Test Error: \n",
            " Accuracy: 78.0%, Avg loss: 0.589070 \n",
            "\n",
            "Epoch 6\n",
            "-------------------------------\n",
            "loss: 0.501206  [   64/60000]\n",
            "loss: 0.564310  [ 6464/60000]\n",
            "loss: 0.379138  [12864/60000]\n",
            "loss: 0.622163  [19264/60000]\n",
            "loss: 0.597112  [25664/60000]\n",
            "loss: 0.588757  [32064/60000]\n",
            "loss: 0.578459  [38464/60000]\n",
            "loss: 0.612642  [44864/60000]\n",
            "loss: 0.678284  [51264/60000]\n",
            "loss: 0.527336  [57664/60000]\n",
            "Test Error: \n",
            " Accuracy: 78.5%, Avg loss: 0.576566 \n",
            "\n",
            "Epoch 7\n",
            "-------------------------------\n",
            "loss: 0.491132  [   64/60000]\n",
            "loss: 0.546921  [ 6464/60000]\n",
            "loss: 0.364299  [12864/60000]\n",
            "loss: 0.601344  [19264/60000]\n",
            "loss: 0.576549  [25664/60000]\n",
            "loss: 0.568559  [32064/60000]\n",
            "loss: 0.561146  [38464/60000]\n",
            "loss: 0.606945  [44864/60000]\n",
            "loss: 0.676782  [51264/60000]\n",
            "loss: 0.506875  [57664/60000]\n",
            "Test Error: \n",
            " Accuracy: 78.7%, Avg loss: 0.569039 \n",
            "\n",
            "Epoch 8\n",
            "-------------------------------\n",
            "loss: 0.486957  [   64/60000]\n",
            "loss: 0.529884  [ 6464/60000]\n",
            "loss: 0.352332  [12864/60000]\n",
            "loss: 0.580437  [19264/60000]\n",
            "loss: 0.563581  [25664/60000]\n",
            "loss: 0.549469  [32064/60000]\n",
            "loss: 0.549395  [38464/60000]\n",
            "loss: 0.601965  [44864/60000]\n",
            "loss: 0.674039  [51264/60000]\n",
            "loss: 0.488817  [57664/60000]\n",
            "Test Error: \n",
            " Accuracy: 79.0%, Avg loss: 0.562090 \n",
            "\n",
            "Epoch 9\n",
            "-------------------------------\n",
            "loss: 0.480232  [   64/60000]\n",
            "loss: 0.512309  [ 6464/60000]\n",
            "loss: 0.342317  [12864/60000]\n",
            "loss: 0.564016  [19264/60000]\n",
            "loss: 0.549532  [25664/60000]\n",
            "loss: 0.534858  [32064/60000]\n",
            "loss: 0.536863  [38464/60000]\n",
            "loss: 0.593532  [44864/60000]\n",
            "loss: 0.666952  [51264/60000]\n",
            "loss: 0.476513  [57664/60000]\n",
            "Test Error: \n",
            " Accuracy: 79.3%, Avg loss: 0.556240 \n",
            "\n",
            "Epoch 10\n",
            "-------------------------------\n",
            "loss: 0.476950  [   64/60000]\n",
            "loss: 0.497330  [ 6464/60000]\n",
            "loss: 0.332158  [12864/60000]\n",
            "loss: 0.549155  [19264/60000]\n",
            "loss: 0.534700  [25664/60000]\n",
            "loss: 0.519715  [32064/60000]\n",
            "loss: 0.528622  [38464/60000]\n",
            "loss: 0.587551  [44864/60000]\n",
            "loss: 0.662053  [51264/60000]\n",
            "loss: 0.465915  [57664/60000]\n",
            "Test Error: \n",
            " Accuracy: 79.5%, Avg loss: 0.549122 \n",
            "\n",
            "SimpleCNNv2 model has been trained!\n",
            "Total fine-tuning time: 127.521 sec\n",
            "Total fine-tuning time: 0.035 hrs\n"
          ]
        },
        {
          "output_type": "display_data",
          "data": {
            "text/plain": [
              "<Figure size 640x480 with 1 Axes>"
            ],
            "image/png": "[encoded data removed]"
          },
          "metadata": {}
        }
      ]
    },
    {
      "cell_type": "code",
      "source": [
        "# visualizing the accuracy curves\n",
        "plt.plot(range(1,epochs+1), train_losses)\n",
        "plt.plot(range(1,epochs+1), test_losses)\n",
        "plt.title('Model average losses after each epoch')\n",
        "plt.ylabel('loss')\n",
        "plt.xlabel('epoch')\n",
        "plt.legend(['train', 'test'])\n",
        "plt.show()\n"
      ],
      "metadata": {
        "id": "9yAt25QEQx1_"
      },
      "execution_count": null,
      "outputs": []
    },
    {
      "cell_type": "markdown",
      "source": [
        "#__Group Exercise__:\n",
        "Create another CNN with 3 layers of 2D convolution and then train that model on the Fashion-MNIST dataset using the SGD optimizer with a batch size of 64. If time permits, you can also train another CNN with the ADAM optimizer and observe if there is any change in training."
      ],
      "metadata": {
        "id": "p9MmCZ0--f9D"
      }
    },
    {
      "cell_type": "code",
      "source": [
        "# Step 1: load the Torch library and other utilities\n",
        "#----------------------------------------------------\n"
      ],
      "metadata": {
        "id": "SVonqhsEQXl3"
      },
      "execution_count": null,
      "outputs": []
    },
    {
      "cell_type": "code",
      "source": [
        "# Step 2: load the dataset, ie, we are experimenting with Fashion-MNIST\n",
        "#--------------------------------------------------------------------------------------------------\n"
      ],
      "metadata": {
        "id": "kqJB4hncQdXm"
      },
      "execution_count": null,
      "outputs": []
    },
    {
      "cell_type": "code",
      "source": [
        "# Step 3: Create your CNN Network (call it SimpleCNNv3) with 3 conv_2d layers\n",
        "#--------------------------------------------------------------------------------------------------\n"
      ],
      "metadata": {
        "id": "NEzPNtrrQfeP"
      },
      "execution_count": null,
      "outputs": []
    },
    {
      "cell_type": "code",
      "source": [
        "# Step 4: Your training and testing functions (I copied it previous the previous demo. You don't need to change anything)\n",
        "#--------------------------------------------------------------------------------------\n",
        "\n",
        "def train_loop(dataloader, model, loss_fn, optimizer):\n",
        "\n",
        "    size = len(dataloader.dataset)\n",
        "\n",
        "    model.train()                   # set the model to training mode for best practices\n",
        "\n",
        "    train_loss = 0\n",
        "\n",
        "    for batch, (X, y) in enumerate(dataloader):\n",
        "\n",
        "        # compute prediction and loss\n",
        "        X = X.to(device)                  # send data to the GPU device (if available)\n",
        "        y = y.to(device)\n",
        "        pred = model(X)\n",
        "        loss = loss_fn(pred, y)\n",
        "\n",
        "        # Backpropagation\n",
        "        loss.backward()\n",
        "        optimizer.step()\n",
        "        optimizer.zero_grad()\n",
        "\n",
        "        train_loss += loss.item()\n",
        "\n",
        "        if batch % 100 == 0:\n",
        "            loss, current = loss.item(), (batch + 1) * len(X)\n",
        "            print(f\"loss: {loss:>7f}  [{current:>5d}/{size:>5d}]\")\n",
        "\n",
        "    return train_loss/len(dataloader)\n",
        "\n",
        "def test_loop(dataloader, model, loss_fn):\n",
        "\n",
        "    model.eval()                    # set the model to evaluation mode for best practices\n",
        "\n",
        "    size        = len(dataloader.dataset)\n",
        "    num_batches = len(dataloader)\n",
        "    test_loss, correct = 0, 0\n",
        "\n",
        "    # Evaluating the model with torch.no_grad() ensures that no gradients are computed during test mode\n",
        "    # also serves to reduce unnecessary gradient computations and memory usage for tensors with requires_grad=True\n",
        "    with torch.no_grad():\n",
        "        for X, y in dataloader:\n",
        "\n",
        "            X = X.to(device)                     # send data to the GPU device (if available)\n",
        "            y = y.to(device)\n",
        "            pred = model(X)\n",
        "            test_loss += loss_fn(pred, y).item()\n",
        "            correct += (pred.argmax(1) == y).type(torch.float).sum().item()\n",
        "\n",
        "    test_loss /= num_batches\n",
        "    correct /= size\n",
        "    print(f\"Test Error: \\n Accuracy: {(100*correct):>0.1f}%, Avg loss: {test_loss:>8f} \\n\")\n",
        "    return test_loss\n",
        "\n"
      ],
      "metadata": {
        "id": "Yw6a5TByQklU"
      },
      "execution_count": null,
      "outputs": []
    },
    {
      "cell_type": "code",
      "source": [
        "# Step 5: prepare the DataLoader and select your optimizer and set the hyper-parameters for learning the model from DataLoader\n",
        "#------------------------------------------------------------------------------------------------------------------------------\n",
        "# Initialize your hyper-parameter and optimizer with appropriate values\n",
        "# Use your dataset to prepare your DataLoaders one for training_data and one for test_data\n",
        "# ...\n",
        "# ...\n",
        "\n",
        "print(\"SimpleCNNv3 model has been trained!\")\n"
      ],
      "metadata": {
        "id": "tejagPCKQztY"
      },
      "execution_count": null,
      "outputs": []
    },
    {
      "cell_type": "code",
      "source": [
        "# visualizing the loss curves\n"
      ],
      "metadata": {
        "id": "_0hoLrbIRQtk"
      },
      "execution_count": null,
      "outputs": []
    }
  ],
  "metadata": {
    "celltoolbar": "Slideshow",
    "kernelspec": {
      "display_name": "Python 3",
      "name": "python3"
    },
    "language_info": {
      "codemirror_mode": {
        "name": "ipython",
        "version": 3
      },
      "file_extension": ".py",
      "mimetype": "text/x-python",
      "name": "python",
      "nbconvert_exporter": "python",
      "pygments_lexer": "ipython3",
      "version": "3.8.3"
    },
    "colab": {
      "provenance": [],
      "gpuType": "T4",
      "include_colab_link": true
    },
    "accelerator": "GPU"
  },
  "nbformat": 4,
  "nbformat_minor": 0
}