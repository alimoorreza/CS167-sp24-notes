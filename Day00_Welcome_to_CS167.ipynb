{
  "cells": [
    {
      "cell_type": "markdown",
      "metadata": {
        "id": "view-in-github",
        "colab_type": "text"
      },
      "source": [
        "<a href=\"https://colab.research.google.com/github/alimoorreza/CS167-notes/blob/main/Day00_Welcome_to_CS167.ipynb\" target=\"_parent\"><img src=\"https://colab.research.google.com/assets/colab-badge.svg\" alt=\"Open In Colab\"/></a>"
      ]
    },
    {
      "cell_type": "markdown",
      "metadata": {
        "id": "awaHPctsYsi1"
      },
      "source": [
        "# CS167: Day00\n",
        "## Welcome to CS167\n",
        "\n",
        "#### CS167: Machine Learning, Fall 2023\n",
        "\n",
        "Tuesday, August 29th, 2023\n",
        "\n",
        "\n",
        "📆 [Course Schedule](https://analytics.drake.edu/~reza/teaching/cs167_fall23/cs167_schedule.html) | 📜 [Syllabus](https://analytics.drake.edu/~reza/teaching/cs167_fall23/cs167_syllabus_fall23.pdf)"
      ]
    },
    {
      "cell_type": "markdown",
      "source": [
        "[link example](https://github.com/alimoorreza/CS167-Notebook-0)\n",
        "\n",
        "`variable_name`\n"
      ],
      "metadata": {
        "id": "hUcrUYZgNy37"
      }
    },
    {
      "cell_type": "code",
      "source": [
        "a = 5 + 6\n",
        "print(a)"
      ],
      "metadata": {
        "colab": {
          "base_uri": "https://localhost:8080/"
        },
        "id": "UxtVND4_OiQq",
        "outputId": "8080ecda-96db-416a-bd96-61b883ccfa1a"
      },
      "execution_count": null,
      "outputs": [
        {
          "output_type": "stream",
          "name": "stdout",
          "text": [
            "11\n"
          ]
        }
      ]
    },
    {
      "cell_type": "markdown",
      "metadata": {
        "id": "HOudJ_hvYsi5"
      },
      "source": [
        "# Overview of Today:\n",
        "\n",
        "How this is going to work:\n",
        "- Introductions\n",
        "- Syllabus and Logistics\n",
        "- Notebook 00: Onboarding Walkthrough\n",
        "- Introduction to Machine Learning"
      ]
    },
    {
      "cell_type": "markdown",
      "metadata": {
        "id": "ManDMKZQYsi5"
      },
      "source": [
        "# Day 01 Admin Stuff:\n",
        "\n",
        "## You should be working on:\n",
        "- [ ] [Notebook #0](https://github.com/alimoorreza/CS167-Notebook-0): CS167 Onboarding (intro questionniare, GitHub, etc)\n",
        "    - Due before class on Thursday 08/31/2023 (the idea is to have things set up for class)"
      ]
    },
    {
      "cell_type": "markdown",
      "metadata": {
        "id": "mYJUQq1uYsi6"
      },
      "source": [
        "# 👋 Introductions:\n",
        "\n",
        "Introduce yourself to your table:\n",
        "- Name, year at Drake, majors, and something fun you did over summer"
      ]
    },
    {
      "cell_type": "markdown",
      "metadata": {
        "id": "AWKaS49_Ysi6"
      },
      "source": [
        "# Syllabus:"
      ]
    },
    {
      "cell_type": "markdown",
      "metadata": {
        "id": "AAVP5Pe3Ysi6"
      },
      "source": [
        "## Instructor:\n",
        "\n",
        "Md Alimoor <b>Reza</b> <br>\n",
        "md.reza@drake.edu <br>\n",
        "323 Collier-Scrips (office) <br>\n",
        "\n",
        "\n",
        "You can call me Reza, Dr. Reza, or Professor Reza. I don't have a very strong preference."
      ]
    },
    {
      "cell_type": "markdown",
      "metadata": {
        "id": "K7LuJsNFYsi7"
      },
      "source": [
        "## 📆 Class Meeting Time and Place:\n",
        "\n",
        "__Where:__\n",
        "- Science Connector Building # 301 (Section # 10790)\n",
        "- Harvey Ingham # 0004 (Section # 8363)\n",
        "\n",
        "__When:__ Tuesday / Thursday:\n",
        "- Section # 10790: 09:30 AM - 10:45 AM\n",
        "- Section # 8363: 11:00 AM - 12:15 AM"
      ]
    },
    {
      "cell_type": "markdown",
      "metadata": {
        "id": "Q2TpA4GwYsi7"
      },
      "source": [
        "## Office Hours\n",
        "\n",
        "- [Please fill out this when2meet](https://www.when2meet.com/?20889307-gpzsk)\n",
        "- Best options for me are Tuesdays and Thursdays: 3:30 PM - 5:00 PM\n",
        "<!-- If these two slots do not work, we can always arrange another time by appointment based on our availabilities: -->\n"
      ]
    },
    {
      "cell_type": "markdown",
      "metadata": {
        "id": "HH4bGXNTYsi8"
      },
      "source": [
        "## 📧 Course Communication\n",
        "\n",
        "The course content will be posted on the course Blackboard page. Any announcements will be sent using Blackboard's announcement feature (as well as email).\n",
        "\n",
        "It is a personal goal of mine to respond to student emails within 24 hours of receipt.\n"
      ]
    },
    {
      "cell_type": "markdown",
      "metadata": {
        "id": "4Nv3zaQOYsi8"
      },
      "source": [
        "## Course Description:\n",
        "This course introduces approaches to __developing computer programs that learn from data__. Both foundational and contemporary machine learning algorithms will be covered in the context of a variety of data and problem types. Specific topics will vary but may include:\n",
        "\n",
        "- artificial neural networks\n",
        "- k-nearest-neighbors\n",
        "- decision trees\n",
        "- random forests\n",
        "- support vector machines\n",
        "- convolutional neural networks\n",
        "- recurrent neural networks\n",
        "- other relevant advanced machine learning techniques\n",
        "\n",
        "Students will develop their own implementations of the algorithms as well as utilizing modern machine learning software and programming libraries."
      ]
    },
    {
      "cell_type": "markdown",
      "metadata": {
        "id": "gTElgZgtYsi9"
      },
      "source": [
        "## Course Goals:\n",
        "At the end of this course, students that have taken an active part should be able to:\n",
        "- apply a variety of modeling techniques to classification, regression, and unsupervised learning problems using data in different formats (such as typical structured data, text, and images).\n",
        "- create software which utilizes machine learning programming libraries in order to conduct machine-learning-based data analysis.\n",
        "- develop and conduct machine-learning-based data analysis experiments, and they will be able to interpret and explain the results.  \n",
        "- Feel comfortable with using two industry standard tools: Google Colab and GitHub"
      ]
    },
    {
      "cell_type": "markdown",
      "metadata": {
        "id": "UOukLDSbYsi-"
      },
      "source": [
        "## Grading\n",
        "| **Category**  | **Percent Final Grade** | **Description**                                                     |\n",
        "|:---------------|:-------------------------:|:---------------------------------------------------------------------|\n",
        "| Notebooks     | 40%                     | In-class and take home assignments                                  |\n",
        "| Quizzes       | 30%                     | 3 quizzes, 10% each |\n",
        "| Projects      | 20%                     | 2 projects, each worth 10% of final grade                           |\n",
        "| Participation | 10%                     | PollEverywhere participation, not based on correctness              |"
      ]
    },
    {
      "cell_type": "markdown",
      "metadata": {
        "id": "whMisHRcYsi-"
      },
      "source": [
        "### Letter Grade Scale\n",
        "| __Final Grade__   |    |              |     |              |    |\n",
        "|---------------|:----|--------------|:-----|--------------|:----|\n",
        "| 93.0 - 100    | A  | 80.0 - 83.99 | B-  | 60 - 69.99   | D |\n",
        "| 90.0 - 92.99  | A- | 77.0 - 79.99 | C+  | 0.0 - 59..99 | F  |\n",
        "| 87.0 - 89.99  | B+ | 74.0 - 76.99 | C   |              |  |\n",
        "| 84.0 - 86.99  | B  | 70.0 - 73.99 | C-  |              |    |"
      ]
    },
    {
      "cell_type": "markdown",
      "metadata": {
        "id": "EVjq8mCTYsi-"
      },
      "source": [
        "### Notebooks (40%):\n",
        "Throughout the course, we will be learning to apply machine learning principles using Python machine learning tools.\n",
        "\n",
        "Machine learning code is often developed in and communicated using an interactive integrated development environment called __Jupyter Notebooks__ which support a natural interleaving of code, output/results, and mark-up documentation--what you're seeing right now is actually a Jupyter notebook.\n",
        "\n",
        "You will regularly submit notebook files (files with the extension `.ipynb`) to demonstrate your proficiency with the Python tools we are\n",
        "using. Given the long computation times of the programs you write, I will not usually be executing your code, so it is critical that the results from your executions are preserved in the notebook. You can expect to submit 6 notebooks throughout the course."
      ]
    },
    {
      "cell_type": "markdown",
      "metadata": {
        "id": "h6CFSZfeYsi-"
      },
      "source": [
        "### Quizzes (30%):\n",
        "There will be 3 quizzes that will be administered via Blackboard. They will not be timed, and you will have a few days to complete them.\n",
        "\n",
        "Quizzes should be completed individually, and will be due before class on the following Monday. There is no time limit on these quizzes, but they must be submitted before we convene for the next class.\n",
        "\n",
        "As in the real world, you will be allowed to use external resources like the class notes and the internet. You will be required to cite any sources that you used while completing these quizzes other than the class notes."
      ]
    },
    {
      "cell_type": "markdown",
      "metadata": {
        "id": "ItHKAEcjYsi_"
      },
      "source": [
        "### Projects (20%):\n",
        "The two projects in this course will emphasize the design, execution, and interpretation of machine learning experiments.\n",
        "\n",
        "The grading emphasis will be on how well you explain your data and experiment as well as your written interpretation. For these, you will submit Jupyter Notebooks with more extensive writing in the mark-up cells than for your regular notebook assignments."
      ]
    },
    {
      "cell_type": "markdown",
      "metadata": {
        "id": "3-RGrVW-Ysi_"
      },
      "source": [
        "### Participation (10%)\n",
        "\n",
        "This is a highly interactive class. In other words, active participation is an expectation and the norm. You will receive credit for participating in class which will be counted towards your final grade. I will keep track of your participation using https://docs.google.com/forms/(Google-Form). Throughout the class, I will pose questions using this polling software to get a better understanding of how the class is doing with the content. These responses will not be counted for correctness, but rather for completion.\n",
        "\n",
        "I respect your privacy. If you encounter challenges (physical health, mental health, of life in general) that interfere with your ability to participate in the course or complete your work, I will not require any kind of documentation.\n",
        "\n",
        "You also do not need to explain; you can simply inform me that you are experiencing problems and we will work together to figure out a plan that will enable you to complete the course if you want to. For example, If for some reason, you are unable to make the in-person class session, please email me and I will provide you with the zoom link for the day so you can attend class virtually.\n",
        "\n",
        "If you are unable to participate in the course for a prolonged period, we will discuss whether an incomplete is the best option."
      ]
    },
    {
      "cell_type": "markdown",
      "metadata": {
        "id": "-WHrC4hJYsi_"
      },
      "source": [
        "## Access and Success Accomodations\n",
        "Drake University is committed to providing equitable access to learning opportunities for all students. The Disability Services office (107 Old Main) collaborates with students who have disabilities to provide and/or arrange reasonable accommodations. If you have, or think you may have, a disability (e.g., mental health, attentional, learning, autism spectrum disorders, chronic health, traumatic brain injury and concussions, vision, hearing, mobility, or speech impairments), please contact: **Michelle Laughlin**, Student Disability Services Coordinator (x1835), *michelle.laughlin@drake.edu* to arrange a confidential discussion regarding equitable access and reasonable accommodations. The process for communicating academic accommodations is as follows:\n",
        "\n",
        "### Process for Communicating Academic Accommodations:\n",
        "-  When students request accommodations, they must provide documentation to Access & Success.\n",
        "- First-year students, students new to requesting accommodations, and transfer students are required to make an appointment with Access & Success. Access & Success work together with the student to determine reasonable accommodations for each of the student’s classes.  \n",
        "- Returning students can fill out an accommodation request form, found on the Access & Success website, www.drake.edu/access-success.  The same process will be followed as above, however returning students do not need to meet with Access & Success unless their accommodations need to be changed.   \n"
      ]
    },
    {
      "cell_type": "markdown",
      "metadata": {
        "id": "8Awv7WNOYsi_"
      },
      "source": [
        "# Blackboard Tour\n",
        "Let's take a quick break and walk through the course Blackboard website."
      ]
    },
    {
      "cell_type": "markdown",
      "metadata": {
        "id": "5yYXQJ7JYsjA"
      },
      "source": [
        "## [Notebook 0: Onboarding](https://github.com/alimoorreza/CS167-Notebook-0)\n",
        "\n",
        "__Due__: Thursday, 08/31 before class\n",
        "\n",
        "We will be using a few helpful tools in this class such as GitHub, Google Colab\n",
        "\n",
        "[Notebook 00](https://github.com/alimoorreza/CS167-Notebook-0) will walk you through getting onboarded to these systems.\n",
        "\n",
        "You need to respond to the 'quiz' on Blackboard to check off the steps for Notebook 0."
      ]
    },
    {
      "cell_type": "markdown",
      "metadata": {
        "id": "30nWQ6EYYsjA"
      },
      "source": [
        "## Participation Cards:\n",
        "\n",
        "It is a goal of mine to make my classrooms as __inclusive and equitable as possible__.\n",
        "\n",
        "Towards this goal, we will be using __participation cards__.\n",
        "\n",
        "How it's going to work:\n",
        "- Today, in class, we're going ot make __participation cards__\n",
        "- At the start of class, I'll shuffle and draw a card. The person whose name is on that card becomes the __card bearer__ for the day.\n",
        "- The __card bearer__ is responsible for flipping cards and calling out the person whose name is on the card when I ask them to."
      ]
    },
    {
      "cell_type": "markdown",
      "metadata": {
        "id": "c3EFMgMIYsjA"
      },
      "source": [
        "## Participation Cards (cont)\n",
        "\n",
        "If your name is called out by the card bearer you have a few options:\n",
        "1. Answer the question\n",
        "2. Ask what the question was (you'll be surprised how often, even I, forget what the question was).\n",
        "3. Say 'Pass', or 'I'm not sure'\n",
        "4. Ask for a group 'huddle', where you can talk to your neighbors for a solution.\n",
        "\n",
        "Participation cards are a solution to help the class participation be more equitable. They're not meant to induce anxiety, and I hope you'll find I use them in a way that is more fun than anxiety inducing."
      ]
    },
    {
      "cell_type": "markdown",
      "metadata": {
        "id": "MZbUFFwUYsjA"
      },
      "source": [
        "# Arts and Crafts Time\n",
        "Time to make your participation card!\n",
        "\n",
        "> Make sure the following is neat, and clear so that the class can read your name.\n",
        "\n",
        "What to include:\n",
        "- __name__: (what you want to be called), at least first name and last initial, pronunciation help if you think it's necessary\n",
        "- __pronouns__:\n",
        "- __class name__: CS167\n",
        "- Feel free to add decorations or whatever you'd like."
      ]
    },
    {
      "cell_type": "markdown",
      "metadata": {
        "id": "auNt2aYpYsjA"
      },
      "source": [
        "# Github Walkthrough\n",
        "\n",
        "Setting up an F23-CS167 notes repository.\n",
        "\n",
        "Changing settings to allow access to private repositories."
      ]
    },
    {
      "cell_type": "markdown",
      "metadata": {
        "id": "zZxG-Jt6YsjA"
      },
      "source": [
        "# 🤖 What is Machine Learning?"
      ]
    },
    {
      "cell_type": "markdown",
      "metadata": {
        "id": "tU2sR68vYsjB"
      },
      "source": [
        "__Definition #1__: creating machines (e.g. computer programs) that improve automatically with experience\n",
        "\n",
        "__Definition #2__: the field of study that gives computers the ability to learn without being explicitly programmed."
      ]
    },
    {
      "cell_type": "markdown",
      "metadata": {
        "id": "7-YrCqrIYsjB"
      },
      "source": [
        "## How is Machine Learning different than Artificial Intelligence?"
      ]
    },
    {
      "cell_type": "markdown",
      "metadata": {
        "id": "fD2Ql2JlYsjB"
      },
      "source": [
        "Let's play a game of chess ♟...\n",
        "\n",
        "An __artificial intelligence__ approach:\n",
        "- develop a heuristic (a way to tell which move is best)\n",
        "    - Queen is 12 points\n",
        "    - Rook is 8 points\n",
        "    - Pawn is 1 point\n",
        "    - etc..."
      ]
    },
    {
      "cell_type": "markdown",
      "metadata": {
        "id": "gJ5i7A8AYsjB"
      },
      "source": [
        "- For any configuration of a chess board, establish the set of valid moves.\n",
        "- __Search__ the set of possible moves in the future\n",
        "- Select the move that maximizes the possible points"
      ]
    },
    {
      "cell_type": "markdown",
      "metadata": {
        "id": "lw2RTpaXYsjB"
      },
      "source": [
        "## How is Machine Learning different than Artificial Intelligence?\n",
        "Let's play a game of chess ♟...\n",
        "\n",
        "A __machine learning__ approach:"
      ]
    },
    {
      "cell_type": "markdown",
      "metadata": {
        "id": "ElX3-IvcYsjB"
      },
      "source": [
        "- based on data\n",
        "- Gather a bunch of chess game examples\n",
        "- For any configuration, examine the database of moves of winning games\n",
        "- Find the board configuration that is the 'closest' and make appropriate moves."
      ]
    },
    {
      "cell_type": "markdown",
      "metadata": {
        "id": "4PNCbabhYsjB"
      },
      "source": [
        "# 💬 Group Exercise:\n",
        "\n",
        "Take 2 minutes to talk to your neighbors about the following:\n",
        "\n",
        "### Come up with as many examples as you can of ways you interact with machine learning on a day-to-day basis.\n",
        "\n",
        "Submit your answers to [Google Form](https://tinyurl.com/54unbc7t)."
      ]
    },
    {
      "cell_type": "markdown",
      "metadata": {
        "id": "Ag0k3SLsYsjC"
      },
      "source": [
        "## Machine Learning Variations\n",
        "\n",
        "We are going to learn about a lot of different types of machine learning in CS167. Here are a few categories to look out for:\n",
        "- __classifcation__: identify which category it goes in. Examples: Spam or ham? Eric or Tim? Fish, amphibian, reptile, bird, or mammal\n",
        "- __regression__: real-valued labels. Examples: price of Bitcoin, tomorrow's temperature, etc.\n",
        "- __supervised learning__: data has labels, goal is to predict the labels of new instance.\n",
        "- __unsupervised learning__: data does not have a label, the goal is to analyze/cluster the examples.\n",
        "- __other issues__: missing data, sequential data, outlier anomaly detetion, and many more."
      ]
    },
    {
      "cell_type": "code",
      "execution_count": null,
      "metadata": {
        "id": "sXqwp3XBYsjD"
      },
      "outputs": [],
      "source": []
    }
  ],
  "metadata": {
    "celltoolbar": "Slideshow",
    "kernelspec": {
      "display_name": "Python 3",
      "language": "python",
      "name": "python3"
    },
    "language_info": {
      "codemirror_mode": {
        "name": "ipython",
        "version": 3
      },
      "file_extension": ".py",
      "mimetype": "text/x-python",
      "name": "python",
      "nbconvert_exporter": "python",
      "pygments_lexer": "ipython3",
      "version": "3.8.3"
    },
    "colab": {
      "provenance": [],
      "toc_visible": true,
      "include_colab_link": true
    }
  },
  "nbformat": 4,
  "nbformat_minor": 0
}